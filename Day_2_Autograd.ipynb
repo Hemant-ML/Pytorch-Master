{
  "nbformat": 4,
  "nbformat_minor": 5,
  "metadata": {
    "kernelspec": {
      "display_name": "Python [conda env:pDL] *",
      "language": "python",
      "name": "conda-env-pDL-py"
    },
    "language_info": {
      "codemirror_mode": {
        "name": "ipython",
        "version": 3
      },
      "file_extension": ".py",
      "mimetype": "text/x-python",
      "name": "python",
      "nbconvert_exporter": "python",
      "pygments_lexer": "ipython3",
      "version": "3.8.8"
    },
    "colab": {
      "name": "Day_2_Autograd.ipynb",
      "provenance": []
    },
    "accelerator": "GPU"
  },
  "cells": [
    {
      "cell_type": "markdown",
      "metadata": {
        "id": "negative-thriller"
      },
      "source": [
        "<h3>torch.autograd</h3> is PyTorch’s automatic differentiation engine that powers neural network training. In this section, you will get a conceptual understanding of how autograd helps a neural network train.\n",
        "\n",
        "*<h3>Background</h3>*<br>\n",
        "Neural networks (NNs) are a collection of nested functions that are executed on some input data. These functions are defined by parameters (consisting of weights and biases), which in PyTorch are stored in tensors.\n",
        "\n",
        "Training a NN happens in two steps:\n",
        "\n",
        "Forward Propagation: In forward prop, the NN makes its best guess about the correct output. It runs the input data through each of its functions to make this guess.\n",
        "\n",
        "Backward Propagation: In backprop, the NN adjusts its parameters proportionate to the error in its guess. It does this by traversing backwards from the output, collecting the derivatives of the error with respect to the parameters of the functions (gradients), and optimizing the parameters using gradient descent. For a more detailed walkthrough of backprop."
      ],
      "id": "negative-thriller"
    },
    {
      "cell_type": "markdown",
      "metadata": {
        "id": "foster-television"
      },
      "source": [
        "<h1>Usage in PyTorch</h1> <br>\n",
        "Let’s take a look at a single training step. For this example, we load a pretrained resnet18 model from torchvision. We create a random data tensor to represent a single image with 3 channels, and height & width of 64, and its corresponding label initialized to some random values."
      ],
      "id": "foster-television"
    },
    {
      "cell_type": "code",
      "metadata": {
        "id": "informational-threshold"
      },
      "source": [
        "import torch, torchvision\n",
        "model = torchvision.models.resnext50_32x4d(pretrained=True)\n",
        "data = torch.rand(1, 3, 64, 64)\n",
        "labels = torch.rand(1, 1000)"
      ],
      "id": "informational-threshold",
      "execution_count": 10,
      "outputs": []
    },
    {
      "cell_type": "markdown",
      "metadata": {
        "id": "early-juice"
      },
      "source": [
        "Next, we run the input data through the model through each of its layers to make a prediction. This is the forward pass."
      ],
      "id": "early-juice"
    },
    {
      "cell_type": "code",
      "metadata": {
        "id": "cloudy-health"
      },
      "source": [
        "prediction = model(data) #forward pass"
      ],
      "id": "cloudy-health",
      "execution_count": 11,
      "outputs": []
    },
    {
      "cell_type": "markdown",
      "metadata": {
        "id": "advised-melbourne"
      },
      "source": [
        "We use the model’s prediction and the corresponding label to calculate the error (loss). The next step is to backpropagate this error through the network. Backward propagation is kicked off when we call .backward() on the error tensor. Autograd then calculates and stores the gradients for each model parameter in the parameter’s .grad attribute."
      ],
      "id": "advised-melbourne"
    },
    {
      "cell_type": "code",
      "metadata": {
        "id": "desirable-gentleman"
      },
      "source": [
        "loss = (prediction - labels).sum()\n",
        "loss.backward()  #backward pass"
      ],
      "id": "desirable-gentleman",
      "execution_count": 12,
      "outputs": []
    },
    {
      "cell_type": "raw",
      "metadata": {
        "id": "consistent-today"
      },
      "source": [
        "Next, we load an optimizer, in this case SGD with a learning rate of 0.01 and momentum of 0.9. We register all the parameters of the model in the optimizer."
      ],
      "id": "consistent-today"
    },
    {
      "cell_type": "code",
      "metadata": {
        "id": "partial-louisville"
      },
      "source": [
        "optim = torch.optim.SGD(model.parameters(),lr=1e-2,momentum=0.9)"
      ],
      "id": "partial-louisville",
      "execution_count": 13,
      "outputs": []
    },
    {
      "cell_type": "markdown",
      "metadata": {
        "id": "adapted-yukon"
      },
      "source": [
        "Finally, we call .step() to initiate gradient descent. The optimizer adjusts each parameter by its gradient stored in .grad."
      ],
      "id": "adapted-yukon"
    },
    {
      "cell_type": "code",
      "metadata": {
        "id": "public-classic"
      },
      "source": [
        "optim.step() #gradient Descent"
      ],
      "id": "public-classic",
      "execution_count": 14,
      "outputs": []
    },
    {
      "cell_type": "markdown",
      "metadata": {
        "id": "essential-muscle"
      },
      "source": [
        "At this point, you have everything you need to train your neural network. The below sections detail the workings of autograd"
      ],
      "id": "essential-muscle"
    },
    {
      "cell_type": "markdown",
      "metadata": {
        "id": "increased-retailer"
      },
      "source": [
        "<h2>Differentiation in Autograd</h2><br>\n",
        "Let’s take a look at how autograd collects gradients. We create two tensors a and b with requires_grad=True. This signals to autograd that every operation on them should be tracked."
      ],
      "id": "increased-retailer"
    },
    {
      "cell_type": "code",
      "metadata": {
        "id": "supported-slide"
      },
      "source": [
        "a=torch.tensor(2.0,requires_grad=True)\n",
        "b= torch.tensor(6.0,requires_grad=True)"
      ],
      "id": "supported-slide",
      "execution_count": 15,
      "outputs": []
    },
    {
      "cell_type": "code",
      "metadata": {
        "id": "empty-alfred",
        "outputId": "02aaf99c-5531-410b-f9a8-4d745254f9a6",
        "colab": {
          "base_uri": "https://localhost:8080/"
        }
      },
      "source": [
        "a+b,a-b,a*b,b/a\n"
      ],
      "id": "empty-alfred",
      "execution_count": 16,
      "outputs": [
        {
          "output_type": "execute_result",
          "data": {
            "text/plain": [
              "(tensor(8., grad_fn=<AddBackward0>),\n",
              " tensor(-4., grad_fn=<SubBackward0>),\n",
              " tensor(12., grad_fn=<MulBackward0>),\n",
              " tensor(3., grad_fn=<DivBackward0>))"
            ]
          },
          "metadata": {
            "tags": []
          },
          "execution_count": 16
        }
      ]
    },
    {
      "cell_type": "markdown",
      "metadata": {
        "id": "korean-ordinance"
      },
      "source": [
        "We create another tensor Q from a and b.\n",
        "\n",
        "               Q=3a3−b2"
      ],
      "id": "korean-ordinance"
    },
    {
      "cell_type": "code",
      "metadata": {
        "id": "naughty-footwear"
      },
      "source": [
        "Q = 3*a**3 - b**2"
      ],
      "id": "naughty-footwear",
      "execution_count": 17,
      "outputs": []
    },
    {
      "cell_type": "markdown",
      "metadata": {
        "id": "colored-harris"
      },
      "source": [
        "Let’s assume a and b to be parameters of an NN, and Q to be the error. In NN training, we want gradients of the error w.r.t. parameters, i.e.\n",
        "\n",
        "∂Q/∂a=9a2<br>\n",
        "∂Q./b=−2b<br>\n",
        "When we call .backward() on Q, autograd calculates these gradients and stores them in the respective tensors’ .grad attribute.\n",
        "\n",
        "We need to explicitly pass a gradient argument in Q.backward() because it is a vector. gradient is a tensor of the same shape as Q, and it represents the gradient of Q w.r.t. itself, i.e.\n",
        "\n",
        "dQ/dQ1<br>\n",
        "Equivalently, we can also aggregate Q into a scalar and call backward implicitly, like Q.sum().backward().\n",
        "\n"
      ],
      "id": "colored-harris"
    },
    {
      "cell_type": "code",
      "metadata": {
        "id": "documentary-philippines"
      },
      "source": [
        "Q.backward()"
      ],
      "id": "documentary-philippines",
      "execution_count": 18,
      "outputs": []
    },
    {
      "cell_type": "code",
      "metadata": {
        "id": "sonic-socket",
        "outputId": "bea5b648-f6cf-4b8c-fb76-977e926fe40a",
        "colab": {
          "base_uri": "https://localhost:8080/"
        }
      },
      "source": [
        "a.grad.data"
      ],
      "id": "sonic-socket",
      "execution_count": 19,
      "outputs": [
        {
          "output_type": "execute_result",
          "data": {
            "text/plain": [
              "tensor(36.)"
            ]
          },
          "metadata": {
            "tags": []
          },
          "execution_count": 19
        }
      ]
    },
    {
      "cell_type": "code",
      "metadata": {
        "id": "medieval-enclosure",
        "outputId": "e7a958f0-cd7e-46a4-a352-cc0e926542ed",
        "colab": {
          "base_uri": "https://localhost:8080/"
        }
      },
      "source": [
        "b.grad.data"
      ],
      "id": "medieval-enclosure",
      "execution_count": 20,
      "outputs": [
        {
          "output_type": "execute_result",
          "data": {
            "text/plain": [
              "tensor(-12.)"
            ]
          },
          "metadata": {
            "tags": []
          },
          "execution_count": 20
        }
      ]
    },
    {
      "cell_type": "code",
      "metadata": {
        "id": "fundamental-discharge",
        "outputId": "55f251de-4911-4f46-fbbd-ce58688f0db7",
        "colab": {
          "base_uri": "https://localhost:8080/"
        }
      },
      "source": [
        "print(9*a**2 == a.grad)\n",
        "print(-2*b == b.grad)"
      ],
      "id": "fundamental-discharge",
      "execution_count": 21,
      "outputs": [
        {
          "output_type": "stream",
          "text": [
            "tensor(True)\n",
            "tensor(True)\n"
          ],
          "name": "stdout"
        }
      ]
    }
  ]
}