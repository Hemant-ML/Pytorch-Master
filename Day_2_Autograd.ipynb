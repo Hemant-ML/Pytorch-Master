{
  "nbformat": 4,
  "nbformat_minor": 5,
  "metadata": {
    "kernelspec": {
      "name": "python3",
      "display_name": "Python 3.9.5 64-bit ('d2l': conda)"
    },
    "language_info": {
      "codemirror_mode": {
        "name": "ipython",
        "version": 3
      },
      "file_extension": ".py",
      "mimetype": "text/x-python",
      "name": "python",
      "nbconvert_exporter": "python",
      "pygments_lexer": "ipython3",
      "version": "3.9.5"
    },
    "colab": {
      "name": "Day_2_Autograd.ipynb",
      "provenance": []
    },
    "accelerator": "GPU",
    "interpreter": {
      "hash": "1e5d90a4ba887ce81a09358baecbd7b727b419ffad34e598e1a0e88f023a64f9"
    }
  },
  "cells": [
    {
      "cell_type": "markdown",
      "source": [
        "<h1>torch.autograd</h1> is PyTorch’s automatic differentiation engine that powers neural network training. In this section, you will get a conceptual understanding of how autograd helps a neural network train.\n",
        "\n",
        "*<h3>Background</h3>*<br>\n",
        "Neural networks (NNs) are a collection of nested functions that are executed on some input data. These functions are defined by parameters (consisting of weights and biases), which in PyTorch are stored in tensors.\n",
        "\n",
        "Training a NN happens in two steps:\n",
        "\n",
        "Forward Propagation: In forward prop, the NN makes its best guess about the correct output. It runs the input data through each of its functions to make this guess.\n",
        "\n",
        "Backward Propagation: In backprop, the NN adjusts its parameters proportionate to the error in its guess. It does this by traversing backwards from the output, collecting the derivatives of the error with respect to the parameters of the functions (gradients), and optimizing the parameters using gradient descent. For a more detailed walkthrough of backprop."
      ],
      "metadata": {
        "id": "negative-thriller"
      }
    },
    {
      "cell_type": "code",
      "execution_count": 1,
      "source": [
        "import torch\n",
        "from torch.autograd import Variable"
      ],
      "outputs": [],
      "metadata": {}
    },
    {
      "cell_type": "markdown",
      "source": [
        "Next, we load an optimizer, in this case SGD with a learning rate of 0.01 and momentum of 0.9. We register all the parameters of the model in the optimizer."
      ],
      "metadata": {
        "id": "consistent-today"
      }
    },
    {
      "cell_type": "markdown",
      "source": [
        "<h2>Differentiation in Autograd</h2><br>\n",
        "Let’s take a look at how autograd collects gradients. We create two tensors a and b with requires_grad=True. This signals to autograd that every operation on them should be tracked."
      ],
      "metadata": {
        "id": "increased-retailer"
      }
    },
    {
      "cell_type": "code",
      "execution_count": null,
      "source": [
        "a=torch.tensor(2.0,requires_grad=True)\n",
        "b= torch.tensor(6.0,requires_grad=True)"
      ],
      "outputs": [],
      "metadata": {
        "id": "supported-slide"
      }
    },
    {
      "cell_type": "code",
      "execution_count": null,
      "source": [
        "a+b,a-b,a*b,b/a\n"
      ],
      "outputs": [
        {
          "output_type": "execute_result",
          "data": {
            "text/plain": [
              "(tensor(8., grad_fn=<AddBackward0>),\n",
              " tensor(-4., grad_fn=<SubBackward0>),\n",
              " tensor(12., grad_fn=<MulBackward0>),\n",
              " tensor(3., grad_fn=<DivBackward0>))"
            ]
          },
          "metadata": {
            "tags": []
          },
          "execution_count": 16
        }
      ],
      "metadata": {
        "id": "empty-alfred",
        "outputId": "02aaf99c-5531-410b-f9a8-4d745254f9a6",
        "colab": {
          "base_uri": "https://localhost:8080/"
        }
      }
    },
    {
      "cell_type": "markdown",
      "source": [
        "We create another tensor Q from a and b.\n",
        "\n",
        "               Q=3a3−b2"
      ],
      "metadata": {
        "id": "korean-ordinance"
      }
    },
    {
      "cell_type": "code",
      "execution_count": null,
      "source": [
        "Q = 3*a**3 - b**2"
      ],
      "outputs": [],
      "metadata": {
        "id": "naughty-footwear"
      }
    },
    {
      "cell_type": "markdown",
      "source": [
        "Let’s assume a and b to be parameters of an NN, and Q to be the error. In NN training, we want gradients of the error w.r.t. parameters, i.e.\n",
        "\n",
        "∂Q/∂a=9a2<br>\n",
        "∂Q./b=−2b<br>\n",
        "When we call .backward() on Q, autograd calculates these gradients and stores them in the respective tensors’ .grad attribute.\n",
        "\n",
        "We need to explicitly pass a gradient argument in Q.backward() because it is a vector. gradient is a tensor of the same shape as Q, and it represents the gradient of Q w.r.t. itself, i.e.\n",
        "\n",
        "dQ/dQ1<br>\n",
        "Equivalently, we can also aggregate Q into a scalar and call backward implicitly, like Q.sum().backward().\n",
        "\n"
      ],
      "metadata": {
        "id": "colored-harris"
      }
    },
    {
      "cell_type": "code",
      "execution_count": null,
      "source": [
        "Q.backward()"
      ],
      "outputs": [],
      "metadata": {
        "id": "documentary-philippines"
      }
    },
    {
      "cell_type": "code",
      "execution_count": null,
      "source": [
        "a.grad.data"
      ],
      "outputs": [
        {
          "output_type": "execute_result",
          "data": {
            "text/plain": [
              "tensor(36.)"
            ]
          },
          "metadata": {
            "tags": []
          },
          "execution_count": 19
        }
      ],
      "metadata": {
        "id": "sonic-socket",
        "outputId": "bea5b648-f6cf-4b8c-fb76-977e926fe40a",
        "colab": {
          "base_uri": "https://localhost:8080/"
        }
      }
    },
    {
      "cell_type": "code",
      "execution_count": null,
      "source": [
        "b.grad.data"
      ],
      "outputs": [
        {
          "output_type": "execute_result",
          "data": {
            "text/plain": [
              "tensor(-12.)"
            ]
          },
          "metadata": {
            "tags": []
          },
          "execution_count": 20
        }
      ],
      "metadata": {
        "id": "medieval-enclosure",
        "outputId": "e7a958f0-cd7e-46a4-a352-cc0e926542ed",
        "colab": {
          "base_uri": "https://localhost:8080/"
        }
      }
    },
    {
      "cell_type": "code",
      "execution_count": null,
      "source": [
        "print(9*a**2 == a.grad)\n",
        "print(-2*b == b.grad)"
      ],
      "outputs": [
        {
          "output_type": "stream",
          "name": "stdout",
          "text": [
            "tensor(True)\n",
            "tensor(True)\n"
          ]
        }
      ],
      "metadata": {
        "id": "fundamental-discharge",
        "outputId": "55f251de-4911-4f46-fbbd-ce58688f0db7",
        "colab": {
          "base_uri": "https://localhost:8080/"
        }
      }
    },
    {
      "cell_type": "code",
      "execution_count": null,
      "source": [],
      "outputs": [],
      "metadata": {}
    }
  ]
}