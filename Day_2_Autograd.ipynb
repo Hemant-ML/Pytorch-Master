{
 "cells": [
  {
   "cell_type": "markdown",
   "id": "negative-thriller",
   "metadata": {},
   "source": [
    "<h3>torch.autograd</h3> is PyTorch’s automatic differentiation engine that powers neural network training. In this section, you will get a conceptual understanding of how autograd helps a neural network train.\n",
    "\n",
    "*<h3>Background</h3>*<br>\n",
    "Neural networks (NNs) are a collection of nested functions that are executed on some input data. These functions are defined by parameters (consisting of weights and biases), which in PyTorch are stored in tensors.\n",
    "\n",
    "Training a NN happens in two steps:\n",
    "\n",
    "Forward Propagation: In forward prop, the NN makes its best guess about the correct output. It runs the input data through each of its functions to make this guess.\n",
    "\n",
    "Backward Propagation: In backprop, the NN adjusts its parameters proportionate to the error in its guess. It does this by traversing backwards from the output, collecting the derivatives of the error with respect to the parameters of the functions (gradients), and optimizing the parameters using gradient descent. For a more detailed walkthrough of backprop."
   ]
  },
  {
   "cell_type": "markdown",
   "id": "foster-television",
   "metadata": {},
   "source": [
    "<h1>Usage in PyTorch</h1> <br>\n",
    "Let’s take a look at a single training step. For this example, we load a pretrained resnet18 model from torchvision. We create a random data tensor to represent a single image with 3 channels, and height & width of 64, and its corresponding label initialized to some random values."
   ]
  },
  {
   "cell_type": "code",
   "execution_count": 1,
   "id": "informational-threshold",
   "metadata": {},
   "outputs": [],
   "source": [
    "import torch, torchvision\n",
    "model = torchvision.models.resnet18(pretrained=True)\n",
    "data = torch.rand(1, 3, 64, 64)\n",
    "labels = torch.rand(1, 1000)"
   ]
  },
  {
   "cell_type": "markdown",
   "id": "early-juice",
   "metadata": {},
   "source": [
    "Next, we run the input data through the model through each of its layers to make a prediction. This is the forward pass."
   ]
  },
  {
   "cell_type": "code",
   "execution_count": 2,
   "id": "cloudy-health",
   "metadata": {},
   "outputs": [],
   "source": [
    "prediction = model(data) #forward pass"
   ]
  },
  {
   "cell_type": "markdown",
   "id": "advised-melbourne",
   "metadata": {},
   "source": [
    "We use the model’s prediction and the corresponding label to calculate the error (loss). The next step is to backpropagate this error through the network. Backward propagation is kicked off when we call .backward() on the error tensor. Autograd then calculates and stores the gradients for each model parameter in the parameter’s .grad attribute."
   ]
  },
  {
   "cell_type": "code",
   "execution_count": 3,
   "id": "desirable-gentleman",
   "metadata": {},
   "outputs": [],
   "source": [
    "loss = (prediction - labels).sum()\n",
    "loss.backward()  #backward pass"
   ]
  },
  {
   "cell_type": "raw",
   "id": "consistent-today",
   "metadata": {},
   "source": [
    "Next, we load an optimizer, in this case SGD with a learning rate of 0.01 and momentum of 0.9. We register all the parameters of the model in the optimizer."
   ]
  },
  {
   "cell_type": "code",
   "execution_count": 4,
   "id": "partial-louisville",
   "metadata": {},
   "outputs": [],
   "source": [
    "optim = torch.optim.SGD(model.parameters(),lr=1e-2,momentum=0.9)"
   ]
  },
  {
   "cell_type": "markdown",
   "id": "adapted-yukon",
   "metadata": {},
   "source": [
    "Finally, we call .step() to initiate gradient descent. The optimizer adjusts each parameter by its gradient stored in .grad."
   ]
  },
  {
   "cell_type": "code",
   "execution_count": 5,
   "id": "public-classic",
   "metadata": {},
   "outputs": [],
   "source": [
    "optim.step() #gradient Descent"
   ]
  },
  {
   "cell_type": "markdown",
   "id": "essential-muscle",
   "metadata": {},
   "source": [
    "At this point, you have everything you need to train your neural network. The below sections detail the workings of autograd"
   ]
  },
  {
   "cell_type": "markdown",
   "id": "increased-retailer",
   "metadata": {},
   "source": [
    "<h2>Differentiation in Autograd</h2><br>\n",
    "Let’s take a look at how autograd collects gradients. We create two tensors a and b with requires_grad=True. This signals to autograd that every operation on them should be tracked."
   ]
  },
  {
   "cell_type": "code",
   "execution_count": 17,
   "id": "supported-slide",
   "metadata": {},
   "outputs": [],
   "source": [
    "a=torch.tensor(2.0,requires_grad=True)\n",
    "b= torch.tensor(6.0,requires_grad=True)"
   ]
  },
  {
   "cell_type": "code",
   "execution_count": 24,
   "id": "empty-alfred",
   "metadata": {},
   "outputs": [
    {
     "data": {
      "text/plain": [
       "(tensor(8., grad_fn=<AddBackward0>),\n",
       " tensor(-4., grad_fn=<SubBackward0>),\n",
       " tensor(12., grad_fn=<MulBackward0>),\n",
       " tensor(3., grad_fn=<DivBackward0>))"
      ]
     },
     "execution_count": 24,
     "metadata": {},
     "output_type": "execute_result"
    }
   ],
   "source": [
    "a+b,a-b,a*b,b/a\n"
   ]
  },
  {
   "cell_type": "markdown",
   "id": "korean-ordinance",
   "metadata": {},
   "source": [
    "We create another tensor Q from a and b.\n",
    "\n",
    "               Q=3a3−b2"
   ]
  },
  {
   "cell_type": "code",
   "execution_count": 18,
   "id": "naughty-footwear",
   "metadata": {},
   "outputs": [],
   "source": [
    "Q = 3*a**3 - b**2"
   ]
  },
  {
   "cell_type": "markdown",
   "id": "colored-harris",
   "metadata": {},
   "source": [
    "Let’s assume a and b to be parameters of an NN, and Q to be the error. In NN training, we want gradients of the error w.r.t. parameters, i.e.\n",
    "\n",
    "∂Q/∂a=9a2<br>\n",
    "∂Q./b=−2b<br>\n",
    "When we call .backward() on Q, autograd calculates these gradients and stores them in the respective tensors’ .grad attribute.\n",
    "\n",
    "We need to explicitly pass a gradient argument in Q.backward() because it is a vector. gradient is a tensor of the same shape as Q, and it represents the gradient of Q w.r.t. itself, i.e.\n",
    "\n",
    "dQ/dQ1<br>\n",
    "Equivalently, we can also aggregate Q into a scalar and call backward implicitly, like Q.sum().backward().\n",
    "\n"
   ]
  },
  {
   "cell_type": "code",
   "execution_count": 19,
   "id": "documentary-philippines",
   "metadata": {},
   "outputs": [],
   "source": [
    "Q.backward()"
   ]
  },
  {
   "cell_type": "code",
   "execution_count": 20,
   "id": "sonic-socket",
   "metadata": {},
   "outputs": [
    {
     "data": {
      "text/plain": [
       "tensor(36.)"
      ]
     },
     "execution_count": 20,
     "metadata": {},
     "output_type": "execute_result"
    }
   ],
   "source": [
    "a.grad.data"
   ]
  },
  {
   "cell_type": "code",
   "execution_count": 21,
   "id": "medieval-enclosure",
   "metadata": {},
   "outputs": [
    {
     "data": {
      "text/plain": [
       "tensor(-12.)"
      ]
     },
     "execution_count": 21,
     "metadata": {},
     "output_type": "execute_result"
    }
   ],
   "source": [
    "b.grad.data"
   ]
  },
  {
   "cell_type": "code",
   "execution_count": 22,
   "id": "fundamental-discharge",
   "metadata": {},
   "outputs": [
    {
     "name": "stdout",
     "output_type": "stream",
     "text": [
      "tensor(True)\n",
      "tensor(True)\n"
     ]
    }
   ],
   "source": [
    "print(9*a**2 == a.grad)\n",
    "print(-2*b == b.grad)"
   ]
  },
  {
   "cell_type": "code",
   "execution_count": null,
   "id": "enabling-drink",
   "metadata": {},
   "outputs": [],
   "source": []
  }
 ],
 "metadata": {
  "kernelspec": {
   "display_name": "Python [conda env:pDL] *",
   "language": "python",
   "name": "conda-env-pDL-py"
  },
  "language_info": {
   "codemirror_mode": {
    "name": "ipython",
    "version": 3
   },
   "file_extension": ".py",
   "mimetype": "text/x-python",
   "name": "python",
   "nbconvert_exporter": "python",
   "pygments_lexer": "ipython3",
   "version": "3.8.8"
  }
 },
 "nbformat": 4,
 "nbformat_minor": 5
}
