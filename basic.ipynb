{
  "nbformat": 4,
  "nbformat_minor": 5,
  "metadata": {
    "kernelspec": {
      "display_name": "Python 3",
      "language": "python",
      "name": "python3"
    },
    "language_info": {
      "codemirror_mode": {
        "name": "ipython",
        "version": 3
      },
      "file_extension": ".py",
      "mimetype": "text/x-python",
      "name": "python",
      "nbconvert_exporter": "python",
      "pygments_lexer": "ipython3",
      "version": "3.8.5"
    },
    "colab": {
      "name": "basic.ipynb",
      "provenance": []
    },
    "accelerator": "GPU"
  },
  "cells": [
    {
      "cell_type": "code",
      "metadata": {
        "id": "brown-permission"
      },
      "source": [
        "import torch\n"
      ],
      "id": "brown-permission",
      "execution_count": 1,
      "outputs": []
    },
    {
      "cell_type": "markdown",
      "metadata": {
        "id": "tOPazNEHxOHU"
      },
      "source": [
        "<h1>Initislizing Tensor<h1>"
      ],
      "id": "tOPazNEHxOHU"
    },
    {
      "cell_type": "code",
      "metadata": {
        "id": "3SWDRTrLyGXB"
      },
      "source": [
        "device = \"cuda\" if torch.cuda.is_available else \"cpu\""
      ],
      "id": "3SWDRTrLyGXB",
      "execution_count": 8,
      "outputs": []
    },
    {
      "cell_type": "code",
      "metadata": {
        "id": "IInkwoYnxdlt"
      },
      "source": [
        "my_tensor = torch.tensor([[1,2,3],[4,5,6]],dtype=torch.float32,device=device)"
      ],
      "id": "IInkwoYnxdlt",
      "execution_count": 9,
      "outputs": []
    },
    {
      "cell_type": "code",
      "metadata": {
        "id": "R-1nhDjYxouQ",
        "outputId": "2410f128-be8e-4a7e-f20e-f611ca200897",
        "colab": {
          "base_uri": "https://localhost:8080/"
        }
      },
      "source": [
        "print(my_tensor)"
      ],
      "id": "R-1nhDjYxouQ",
      "execution_count": 10,
      "outputs": [
        {
          "output_type": "stream",
          "text": [
            "tensor([[1., 2., 3.],\n",
            "        [4., 5., 6.]], device='cuda:0')\n"
          ],
          "name": "stdout"
        }
      ]
    },
    {
      "cell_type": "code",
      "metadata": {
        "id": "sxBq_sqIxq-P",
        "outputId": "75af160e-93df-4155-dc0b-fd15bc21425d",
        "colab": {
          "base_uri": "https://localhost:8080/"
        }
      },
      "source": [
        "print(my_tensor.dtype)"
      ],
      "id": "sxBq_sqIxq-P",
      "execution_count": 11,
      "outputs": [
        {
          "output_type": "stream",
          "text": [
            "torch.float32\n"
          ],
          "name": "stdout"
        }
      ]
    },
    {
      "cell_type": "code",
      "metadata": {
        "id": "xzvNQixZychL",
        "outputId": "370af5fe-e98c-43f7-8240-48670ac77153",
        "colab": {
          "base_uri": "https://localhost:8080/"
        }
      },
      "source": [
        "print(my_tensor.device)"
      ],
      "id": "xzvNQixZychL",
      "execution_count": 12,
      "outputs": [
        {
          "output_type": "stream",
          "text": [
            "cuda:0\n"
          ],
          "name": "stdout"
        }
      ]
    },
    {
      "cell_type": "code",
      "metadata": {
        "id": "U5N9hgfZyi9O",
        "outputId": "d347c31a-f312-4ad1-dae6-e0750c1575b4",
        "colab": {
          "base_uri": "https://localhost:8080/"
        }
      },
      "source": [
        "print(my_tensor.shape)"
      ],
      "id": "U5N9hgfZyi9O",
      "execution_count": 14,
      "outputs": [
        {
          "output_type": "stream",
          "text": [
            "torch.Size([2, 3])\n"
          ],
          "name": "stdout"
        }
      ]
    },
    {
      "cell_type": "markdown",
      "metadata": {
        "id": "vAMQHcC_yvBZ"
      },
      "source": [
        "<h1>other initialization methods<h1>"
      ],
      "id": "vAMQHcC_yvBZ"
    },
    {
      "cell_type": "code",
      "metadata": {
        "id": "xpraZ7kay_Ac"
      },
      "source": [
        "x = torch.empty(size = (3,3))"
      ],
      "id": "xpraZ7kay_Ac",
      "execution_count": 15,
      "outputs": []
    },
    {
      "cell_type": "code",
      "metadata": {
        "id": "2qc0XjX2zaxJ"
      },
      "source": [
        "x1 = torch.zeros((3,3))"
      ],
      "id": "2qc0XjX2zaxJ",
      "execution_count": 17,
      "outputs": []
    },
    {
      "cell_type": "code",
      "metadata": {
        "id": "o_024Ti-ziK7",
        "outputId": "c49724f4-1765-4c4c-8cda-96383b59e998",
        "colab": {
          "base_uri": "https://localhost:8080/"
        }
      },
      "source": [
        "print(x,x1)"
      ],
      "id": "o_024Ti-ziK7",
      "execution_count": 18,
      "outputs": [
        {
          "output_type": "stream",
          "text": [
            "tensor([[-1.8733e-36,  3.0663e-41,  3.3631e-44],\n",
            "        [ 0.0000e+00,         nan,  6.4460e-44],\n",
            "        [ 1.1578e+27,  1.1362e+30,  7.1547e+22]]) tensor([[0., 0., 0.],\n",
            "        [0., 0., 0.],\n",
            "        [0., 0., 0.]])\n"
          ],
          "name": "stdout"
        }
      ]
    },
    {
      "cell_type": "code",
      "metadata": {
        "id": "gKEYcB7-zmss"
      },
      "source": [
        "y=torch.rand((3,3))"
      ],
      "id": "gKEYcB7-zmss",
      "execution_count": 19,
      "outputs": []
    },
    {
      "cell_type": "code",
      "metadata": {
        "id": "CtEw7jf4zsVZ",
        "outputId": "7f9a7ead-e8f3-406e-bb9d-f77ad71be5de",
        "colab": {
          "base_uri": "https://localhost:8080/"
        }
      },
      "source": [
        "print(y)"
      ],
      "id": "CtEw7jf4zsVZ",
      "execution_count": 20,
      "outputs": [
        {
          "output_type": "stream",
          "text": [
            "tensor([[0.3621, 0.5238, 0.9975],\n",
            "        [0.8192, 0.8260, 0.5082],\n",
            "        [0.6105, 0.0677, 0.2855]])\n"
          ],
          "name": "stdout"
        }
      ]
    },
    {
      "cell_type": "code",
      "metadata": {
        "id": "_iwVWzknzuQ6"
      },
      "source": [
        "y=torch.ones((3,3))"
      ],
      "id": "_iwVWzknzuQ6",
      "execution_count": 21,
      "outputs": []
    },
    {
      "cell_type": "code",
      "metadata": {
        "id": "aqJivAu5zzos",
        "outputId": "a7f1659f-9bcb-4a52-86bc-d41f0b5465b5",
        "colab": {
          "base_uri": "https://localhost:8080/"
        }
      },
      "source": [
        "print(y)"
      ],
      "id": "aqJivAu5zzos",
      "execution_count": 22,
      "outputs": [
        {
          "output_type": "stream",
          "text": [
            "tensor([[1., 1., 1.],\n",
            "        [1., 1., 1.],\n",
            "        [1., 1., 1.]])\n"
          ],
          "name": "stdout"
        }
      ]
    },
    {
      "cell_type": "code",
      "metadata": {
        "id": "j2cVDz_8z0tL"
      },
      "source": [
        "y=torch.eye(3)"
      ],
      "id": "j2cVDz_8z0tL",
      "execution_count": 24,
      "outputs": []
    },
    {
      "cell_type": "code",
      "metadata": {
        "id": "g42JOBsUz5Yq",
        "outputId": "5aba473f-f20d-433f-e70d-1d379ec2a551",
        "colab": {
          "base_uri": "https://localhost:8080/"
        }
      },
      "source": [
        "print(y)"
      ],
      "id": "g42JOBsUz5Yq",
      "execution_count": 25,
      "outputs": [
        {
          "output_type": "stream",
          "text": [
            "tensor([[1., 0., 0.],\n",
            "        [0., 1., 0.],\n",
            "        [0., 0., 1.]])\n"
          ],
          "name": "stdout"
        }
      ]
    },
    {
      "cell_type": "code",
      "metadata": {
        "id": "jnMxLhb2z-kq"
      },
      "source": [
        "y=torch.arange(0,10,2)"
      ],
      "id": "jnMxLhb2z-kq",
      "execution_count": 26,
      "outputs": []
    },
    {
      "cell_type": "code",
      "metadata": {
        "id": "z1zxHypD0GEb",
        "outputId": "1fa06ee2-f9ba-4c03-8d85-e9c60970dfac",
        "colab": {
          "base_uri": "https://localhost:8080/"
        }
      },
      "source": [
        "print(y)"
      ],
      "id": "z1zxHypD0GEb",
      "execution_count": 27,
      "outputs": [
        {
          "output_type": "stream",
          "text": [
            "tensor([0, 2, 4, 6, 8])\n"
          ],
          "name": "stdout"
        }
      ]
    },
    {
      "cell_type": "code",
      "metadata": {
        "id": "TBfeVeyx0HR5"
      },
      "source": [
        "x = torch.linspace(start=0.1,end=1,steps=10)"
      ],
      "id": "TBfeVeyx0HR5",
      "execution_count": 28,
      "outputs": []
    },
    {
      "cell_type": "code",
      "metadata": {
        "id": "N0Am2eds0WgK",
        "outputId": "4c8fe0b9-ab93-40dc-e2f9-c928d6ac047d",
        "colab": {
          "base_uri": "https://localhost:8080/"
        }
      },
      "source": [
        "print(x)"
      ],
      "id": "N0Am2eds0WgK",
      "execution_count": 29,
      "outputs": [
        {
          "output_type": "stream",
          "text": [
            "tensor([0.1000, 0.2000, 0.3000, 0.4000, 0.5000, 0.6000, 0.7000, 0.8000, 0.9000,\n",
            "        1.0000])\n"
          ],
          "name": "stdout"
        }
      ]
    },
    {
      "cell_type": "code",
      "metadata": {
        "id": "kY7TNxgS0YAI"
      },
      "source": [
        "y = torch.empty(size=(3,3)).normal_(mean=0,std=1)"
      ],
      "id": "kY7TNxgS0YAI",
      "execution_count": 30,
      "outputs": []
    },
    {
      "cell_type": "code",
      "metadata": {
        "id": "wnAVivQr04R2",
        "outputId": "27a68714-211e-43aa-c1ab-319544573282",
        "colab": {
          "base_uri": "https://localhost:8080/"
        }
      },
      "source": [
        "print(y)"
      ],
      "id": "wnAVivQr04R2",
      "execution_count": 31,
      "outputs": [
        {
          "output_type": "stream",
          "text": [
            "tensor([[ 0.1347, -0.4193,  0.3369],\n",
            "        [-0.2618, -0.4524, -0.9609],\n",
            "        [-0.3382, -1.0275, -0.7719]])\n"
          ],
          "name": "stdout"
        }
      ]
    },
    {
      "cell_type": "code",
      "metadata": {
        "id": "XGeDc09_05wr"
      },
      "source": [
        "x=torch.empty(size=(1,5)).uniform_(0,1)"
      ],
      "id": "XGeDc09_05wr",
      "execution_count": 32,
      "outputs": []
    },
    {
      "cell_type": "code",
      "metadata": {
        "id": "cbwimQO91PBY",
        "outputId": "4fa1b7c4-80f8-4b5d-9302-6ad07b3e4988",
        "colab": {
          "base_uri": "https://localhost:8080/"
        }
      },
      "source": [
        "print(x)"
      ],
      "id": "cbwimQO91PBY",
      "execution_count": 33,
      "outputs": [
        {
          "output_type": "stream",
          "text": [
            "tensor([[0.9996, 0.4878, 0.3078, 0.8140, 0.3726]])\n"
          ],
          "name": "stdout"
        }
      ]
    },
    {
      "cell_type": "code",
      "metadata": {
        "id": "Zd8jqU0_1QWL"
      },
      "source": [
        "x= torch.diag(torch.ones(3))"
      ],
      "id": "Zd8jqU0_1QWL",
      "execution_count": 34,
      "outputs": []
    },
    {
      "cell_type": "code",
      "metadata": {
        "id": "K7AQGqs11gZX",
        "outputId": "8bc7a85a-a377-4ffb-d094-ad13f6baa0d9",
        "colab": {
          "base_uri": "https://localhost:8080/"
        }
      },
      "source": [
        "print(x)"
      ],
      "id": "K7AQGqs11gZX",
      "execution_count": 35,
      "outputs": [
        {
          "output_type": "stream",
          "text": [
            "tensor([[1., 0., 0.],\n",
            "        [0., 1., 0.],\n",
            "        [0., 0., 1.]])\n"
          ],
          "name": "stdout"
        }
      ]
    },
    {
      "cell_type": "markdown",
      "metadata": {
        "id": "rXyYGje11ndd"
      },
      "source": [
        "<h1>Initialize and convert to other type (int,float,double)<h1>"
      ],
      "id": "rXyYGje11ndd"
    },
    {
      "cell_type": "code",
      "metadata": {
        "id": "E6t89-lz1hfF"
      },
      "source": [
        "tensor=torch.arange(4)"
      ],
      "id": "E6t89-lz1hfF",
      "execution_count": 36,
      "outputs": []
    },
    {
      "cell_type": "code",
      "metadata": {
        "id": "pa1PD-VQ18cK",
        "outputId": "2bcc17de-6560-4489-e4a5-ac35a1b8bdde",
        "colab": {
          "base_uri": "https://localhost:8080/"
        }
      },
      "source": [
        "tensor"
      ],
      "id": "pa1PD-VQ18cK",
      "execution_count": 37,
      "outputs": [
        {
          "output_type": "execute_result",
          "data": {
            "text/plain": [
              "tensor([0, 1, 2, 3])"
            ]
          },
          "metadata": {
            "tags": []
          },
          "execution_count": 37
        }
      ]
    },
    {
      "cell_type": "code",
      "metadata": {
        "id": "6hshfJGj19hV",
        "outputId": "feaebcb9-7088-4602-99eb-85bfd8e06d04",
        "colab": {
          "base_uri": "https://localhost:8080/"
        }
      },
      "source": [
        "tensor.dtype"
      ],
      "id": "6hshfJGj19hV",
      "execution_count": 38,
      "outputs": [
        {
          "output_type": "execute_result",
          "data": {
            "text/plain": [
              "torch.int64"
            ]
          },
          "metadata": {
            "tags": []
          },
          "execution_count": 38
        }
      ]
    },
    {
      "cell_type": "code",
      "metadata": {
        "id": "x5_sUbql2Aam",
        "outputId": "5bfdfb78-f774-4b6a-d5e3-73a2a9428738",
        "colab": {
          "base_uri": "https://localhost:8080/"
        }
      },
      "source": [
        "tensor.bool()"
      ],
      "id": "x5_sUbql2Aam",
      "execution_count": 39,
      "outputs": [
        {
          "output_type": "execute_result",
          "data": {
            "text/plain": [
              "tensor([False,  True,  True,  True])"
            ]
          },
          "metadata": {
            "tags": []
          },
          "execution_count": 39
        }
      ]
    },
    {
      "cell_type": "code",
      "metadata": {
        "id": "932URCx32Evn",
        "outputId": "ec4eabec-9d65-4163-87e3-2a982d10794f",
        "colab": {
          "base_uri": "https://localhost:8080/"
        }
      },
      "source": [
        "tensor.short()"
      ],
      "id": "932URCx32Evn",
      "execution_count": 40,
      "outputs": [
        {
          "output_type": "execute_result",
          "data": {
            "text/plain": [
              "tensor([0, 1, 2, 3], dtype=torch.int16)"
            ]
          },
          "metadata": {
            "tags": []
          },
          "execution_count": 40
        }
      ]
    },
    {
      "cell_type": "code",
      "metadata": {
        "id": "TpvnfOla2Lk3",
        "outputId": "cfe300a8-19e2-4d36-99ba-a01a564feb5f",
        "colab": {
          "base_uri": "https://localhost:8080/"
        }
      },
      "source": [
        "tensor.long()"
      ],
      "id": "TpvnfOla2Lk3",
      "execution_count": 41,
      "outputs": [
        {
          "output_type": "execute_result",
          "data": {
            "text/plain": [
              "tensor([0, 1, 2, 3])"
            ]
          },
          "metadata": {
            "tags": []
          },
          "execution_count": 41
        }
      ]
    },
    {
      "cell_type": "code",
      "metadata": {
        "id": "0LrBJN_L2Ok4",
        "outputId": "bac7e6f8-aafe-4022-b48f-cb4449782e01",
        "colab": {
          "base_uri": "https://localhost:8080/"
        }
      },
      "source": [
        "tensor.half()"
      ],
      "id": "0LrBJN_L2Ok4",
      "execution_count": 42,
      "outputs": [
        {
          "output_type": "execute_result",
          "data": {
            "text/plain": [
              "tensor([0., 1., 2., 3.], dtype=torch.float16)"
            ]
          },
          "metadata": {
            "tags": []
          },
          "execution_count": 42
        }
      ]
    },
    {
      "cell_type": "code",
      "metadata": {
        "id": "fqlrPGEA2Qmk",
        "outputId": "af94f3ce-c9c5-4d6e-d65e-12cd033bc557",
        "colab": {
          "base_uri": "https://localhost:8080/"
        }
      },
      "source": [
        "tensor.float()"
      ],
      "id": "fqlrPGEA2Qmk",
      "execution_count": 43,
      "outputs": [
        {
          "output_type": "execute_result",
          "data": {
            "text/plain": [
              "tensor([0., 1., 2., 3.])"
            ]
          },
          "metadata": {
            "tags": []
          },
          "execution_count": 43
        }
      ]
    },
    {
      "cell_type": "code",
      "metadata": {
        "id": "fekp60q-2Zkm",
        "outputId": "29743124-74ec-46e7-88f2-7642df0358ae",
        "colab": {
          "base_uri": "https://localhost:8080/"
        }
      },
      "source": [
        "tensor.double()"
      ],
      "id": "fekp60q-2Zkm",
      "execution_count": 44,
      "outputs": [
        {
          "output_type": "execute_result",
          "data": {
            "text/plain": [
              "tensor([0., 1., 2., 3.], dtype=torch.float64)"
            ]
          },
          "metadata": {
            "tags": []
          },
          "execution_count": 44
        }
      ]
    },
    {
      "cell_type": "code",
      "metadata": {
        "id": "FmiUGVEh2clV"
      },
      "source": [
        "import numpy as np"
      ],
      "id": "FmiUGVEh2clV",
      "execution_count": 45,
      "outputs": []
    },
    {
      "cell_type": "code",
      "metadata": {
        "id": "C1WwDwuI2gRX"
      },
      "source": [
        "np_array = np.array([[1,2,3],[4,5,6]])"
      ],
      "id": "C1WwDwuI2gRX",
      "execution_count": 46,
      "outputs": []
    },
    {
      "cell_type": "code",
      "metadata": {
        "id": "0plh68W123-2",
        "outputId": "fde1456b-16f3-494a-9003-111e43eecfd7",
        "colab": {
          "base_uri": "https://localhost:8080/"
        }
      },
      "source": [
        "np_array"
      ],
      "id": "0plh68W123-2",
      "execution_count": 48,
      "outputs": [
        {
          "output_type": "execute_result",
          "data": {
            "text/plain": [
              "array([[1, 2, 3],\n",
              "       [4, 5, 6]])"
            ]
          },
          "metadata": {
            "tags": []
          },
          "execution_count": 48
        }
      ]
    },
    {
      "cell_type": "code",
      "metadata": {
        "id": "LQyv76xH2qSm"
      },
      "source": [
        "torch_array=torch.from_numpy(np_array)"
      ],
      "id": "LQyv76xH2qSm",
      "execution_count": 47,
      "outputs": []
    },
    {
      "cell_type": "code",
      "metadata": {
        "id": "pzchR8yw21_2",
        "outputId": "3f6b0252-c565-4cf9-f9a5-9fb6b11546bb",
        "colab": {
          "base_uri": "https://localhost:8080/"
        }
      },
      "source": [
        "torch_array"
      ],
      "id": "pzchR8yw21_2",
      "execution_count": 49,
      "outputs": [
        {
          "output_type": "execute_result",
          "data": {
            "text/plain": [
              "tensor([[1, 2, 3],\n",
              "        [4, 5, 6]])"
            ]
          },
          "metadata": {
            "tags": []
          },
          "execution_count": 49
        }
      ]
    },
    {
      "cell_type": "code",
      "metadata": {
        "id": "ZSbOb6oh28J0"
      },
      "source": [
        "np_array_back = torch_array.numpy()"
      ],
      "id": "ZSbOb6oh28J0",
      "execution_count": 51,
      "outputs": []
    },
    {
      "cell_type": "code",
      "metadata": {
        "id": "OAD0vc-T3CNE",
        "outputId": "e212523e-7e01-4fb3-aaf6-767d7968b445",
        "colab": {
          "base_uri": "https://localhost:8080/"
        }
      },
      "source": [
        "np_array_back"
      ],
      "id": "OAD0vc-T3CNE",
      "execution_count": 52,
      "outputs": [
        {
          "output_type": "execute_result",
          "data": {
            "text/plain": [
              "array([[1, 2, 3],\n",
              "       [4, 5, 6]])"
            ]
          },
          "metadata": {
            "tags": []
          },
          "execution_count": 52
        }
      ]
    },
    {
      "cell_type": "markdown",
      "metadata": {
        "id": "q5PalrLW3TxN"
      },
      "source": [
        "<h1> Tensor math and comparison operators <h1>"
      ],
      "id": "q5PalrLW3TxN"
    },
    {
      "cell_type": "code",
      "metadata": {
        "id": "o-aW8IHe3LNT"
      },
      "source": [
        "x = torch.tensor([1,2,3])\n",
        "y=torch.tensor([9,8,7])"
      ],
      "id": "o-aW8IHe3LNT",
      "execution_count": 53,
      "outputs": []
    },
    {
      "cell_type": "markdown",
      "metadata": {
        "id": "9H0dOJVK3uht"
      },
      "source": [
        "<h1>Addition<h1>\n"
      ],
      "id": "9H0dOJVK3uht"
    },
    {
      "cell_type": "code",
      "metadata": {
        "id": "n_PzQZtg3qdS",
        "outputId": "0daf2efb-4eae-4a21-cfee-2f378011a449",
        "colab": {
          "base_uri": "https://localhost:8080/"
        }
      },
      "source": [
        "z1 = torch.empty(3)\n",
        "torch.add(x,y,out=z1)"
      ],
      "id": "n_PzQZtg3qdS",
      "execution_count": 55,
      "outputs": [
        {
          "output_type": "execute_result",
          "data": {
            "text/plain": [
              "tensor([10., 10., 10.])"
            ]
          },
          "metadata": {
            "tags": []
          },
          "execution_count": 55
        }
      ]
    },
    {
      "cell_type": "code",
      "metadata": {
        "id": "XCw-iYz44KWT"
      },
      "source": [
        "z2=torch.add(x,y)"
      ],
      "id": "XCw-iYz44KWT",
      "execution_count": 56,
      "outputs": []
    },
    {
      "cell_type": "code",
      "metadata": {
        "id": "4lt-t3Yu4O-S",
        "outputId": "a531f7fe-d60c-4d6a-8dc7-116cd3ab132b",
        "colab": {
          "base_uri": "https://localhost:8080/"
        }
      },
      "source": [
        "z2"
      ],
      "id": "4lt-t3Yu4O-S",
      "execution_count": 57,
      "outputs": [
        {
          "output_type": "execute_result",
          "data": {
            "text/plain": [
              "tensor([10, 10, 10])"
            ]
          },
          "metadata": {
            "tags": []
          },
          "execution_count": 57
        }
      ]
    },
    {
      "cell_type": "code",
      "metadata": {
        "id": "h4O8hXkp4Ptw"
      },
      "source": [
        "z=x+y"
      ],
      "id": "h4O8hXkp4Ptw",
      "execution_count": 58,
      "outputs": []
    },
    {
      "cell_type": "code",
      "metadata": {
        "id": "UkNpySss4S1j",
        "outputId": "3150874e-55cb-4682-f042-168c66752f77",
        "colab": {
          "base_uri": "https://localhost:8080/"
        }
      },
      "source": [
        "z"
      ],
      "id": "UkNpySss4S1j",
      "execution_count": 59,
      "outputs": [
        {
          "output_type": "execute_result",
          "data": {
            "text/plain": [
              "tensor([10, 10, 10])"
            ]
          },
          "metadata": {
            "tags": []
          },
          "execution_count": 59
        }
      ]
    },
    {
      "cell_type": "markdown",
      "metadata": {
        "id": "cpmGmC_k4epj"
      },
      "source": [
        "<h1>Subtraction<h1>"
      ],
      "id": "cpmGmC_k4epj"
    },
    {
      "cell_type": "code",
      "metadata": {
        "id": "OZZ1lwzv4Y6E",
        "outputId": "452b4b3a-5eb8-4f63-b83c-1c89e10b90cc",
        "colab": {
          "base_uri": "https://localhost:8080/"
        }
      },
      "source": [
        "z = x-y\n",
        "z"
      ],
      "id": "OZZ1lwzv4Y6E",
      "execution_count": 61,
      "outputs": [
        {
          "output_type": "execute_result",
          "data": {
            "text/plain": [
              "tensor([-8, -6, -4])"
            ]
          },
          "metadata": {
            "tags": []
          },
          "execution_count": 61
        }
      ]
    },
    {
      "cell_type": "code",
      "metadata": {
        "id": "LRRvQJ-Q4jrg",
        "outputId": "7534b75f-c550-46aa-a706-6ea8cfa2fb4f",
        "colab": {
          "base_uri": "https://localhost:8080/"
        }
      },
      "source": [
        "#division\n",
        "z=torch.true_divide(x,y)\n",
        "z"
      ],
      "id": "LRRvQJ-Q4jrg",
      "execution_count": 62,
      "outputs": [
        {
          "output_type": "execute_result",
          "data": {
            "text/plain": [
              "tensor([0.1111, 0.2500, 0.4286])"
            ]
          },
          "metadata": {
            "tags": []
          },
          "execution_count": 62
        }
      ]
    },
    {
      "cell_type": "code",
      "metadata": {
        "id": "-FeC0dQ-4vPw",
        "outputId": "9f895935-9612-4603-ce99-dc2fb946b7d9",
        "colab": {
          "base_uri": "https://localhost:8080/"
        }
      },
      "source": [
        "#inplace operation\n",
        "t=torch.zeros(3)\n",
        "t.add_(x)\n",
        "t"
      ],
      "id": "-FeC0dQ-4vPw",
      "execution_count": 63,
      "outputs": [
        {
          "output_type": "execute_result",
          "data": {
            "text/plain": [
              "tensor([1., 2., 3.])"
            ]
          },
          "metadata": {
            "tags": []
          },
          "execution_count": 63
        }
      ]
    },
    {
      "cell_type": "code",
      "metadata": {
        "id": "TYvs_BU85BUh",
        "outputId": "b296ef0c-91ee-414c-8663-46c74a06858f",
        "colab": {
          "base_uri": "https://localhost:8080/"
        }
      },
      "source": [
        "#exponentiation\n",
        "z=x.pow(2)\n",
        "z"
      ],
      "id": "TYvs_BU85BUh",
      "execution_count": 65,
      "outputs": [
        {
          "output_type": "execute_result",
          "data": {
            "text/plain": [
              "tensor([1, 4, 9])"
            ]
          },
          "metadata": {
            "tags": []
          },
          "execution_count": 65
        }
      ]
    },
    {
      "cell_type": "code",
      "metadata": {
        "id": "ofUYMezC5LER",
        "outputId": "7c3ae727-523c-4f7e-e8ef-5f9be3081d0d",
        "colab": {
          "base_uri": "https://localhost:8080/"
        }
      },
      "source": [
        "#simple comparison\n",
        "z= x>0\n",
        "z\n",
        "z=x<=0\n",
        "z"
      ],
      "id": "ofUYMezC5LER",
      "execution_count": 67,
      "outputs": [
        {
          "output_type": "execute_result",
          "data": {
            "text/plain": [
              "tensor([False, False, False])"
            ]
          },
          "metadata": {
            "tags": []
          },
          "execution_count": 67
        }
      ]
    },
    {
      "cell_type": "code",
      "metadata": {
        "id": "kR49BwEm5WYQ",
        "outputId": "91ff8f9b-dd66-41ac-b85f-a09bdfdb61c7",
        "colab": {
          "base_uri": "https://localhost:8080/"
        }
      },
      "source": [
        "#matrix multiplication\n",
        "x1 = torch.rand((2,5))\n",
        "x2= torch.rand((5,3))\n",
        "x3=torch.mm(x1,x2)\n",
        "x4=x1.mm(x2)\n",
        "print(x3,x4)"
      ],
      "id": "kR49BwEm5WYQ",
      "execution_count": 69,
      "outputs": [
        {
          "output_type": "stream",
          "text": [
            "tensor([[1.0627, 0.6837, 1.7649],\n",
            "        [0.8248, 0.8758, 2.3898]]) tensor([[1.0627, 0.6837, 1.7649],\n",
            "        [0.8248, 0.8758, 2.3898]])\n"
          ],
          "name": "stdout"
        }
      ]
    },
    {
      "cell_type": "code",
      "metadata": {
        "id": "ZQDWYIEu5nD9",
        "outputId": "ec446f6e-b080-4491-f71c-73108a27020e",
        "colab": {
          "base_uri": "https://localhost:8080/"
        }
      },
      "source": [
        "#matrix exponentiation\n",
        "matrix_exp = torch.rand((5,5))\n",
        "matrix_exp.matrix_power(3)"
      ],
      "id": "ZQDWYIEu5nD9",
      "execution_count": 70,
      "outputs": [
        {
          "output_type": "execute_result",
          "data": {
            "text/plain": [
              "tensor([[1.9381, 1.4151, 3.1426, 1.5073, 3.8365],\n",
              "        [1.5082, 1.1962, 2.4333, 1.2185, 3.0812],\n",
              "        [2.0619, 1.5990, 3.3471, 1.6263, 4.2589],\n",
              "        [1.9010, 1.3469, 3.1649, 1.5692, 3.8282],\n",
              "        [1.2762, 0.9322, 2.1469, 1.0404, 2.7081]])"
            ]
          },
          "metadata": {
            "tags": []
          },
          "execution_count": 70
        }
      ]
    },
    {
      "cell_type": "code",
      "metadata": {
        "id": "1ez_G9Nf6L6s",
        "outputId": "558d6190-aaa8-4951-c4e7-730d8c84c145",
        "colab": {
          "base_uri": "https://localhost:8080/"
        }
      },
      "source": [
        "#elementwise\n",
        "z = x*y\n",
        "z"
      ],
      "id": "1ez_G9Nf6L6s",
      "execution_count": 71,
      "outputs": [
        {
          "output_type": "execute_result",
          "data": {
            "text/plain": [
              "tensor([ 9, 16, 21])"
            ]
          },
          "metadata": {
            "tags": []
          },
          "execution_count": 71
        }
      ]
    },
    {
      "cell_type": "code",
      "metadata": {
        "id": "lcIS1fBK6gvt",
        "outputId": "0ca98825-405e-4119-de70-45a8eb48da05",
        "colab": {
          "base_uri": "https://localhost:8080/"
        }
      },
      "source": [
        "#dot product\n",
        "z= torch.dot(x,y)\n",
        "z"
      ],
      "id": "lcIS1fBK6gvt",
      "execution_count": 73,
      "outputs": [
        {
          "output_type": "execute_result",
          "data": {
            "text/plain": [
              "tensor(46)"
            ]
          },
          "metadata": {
            "tags": []
          },
          "execution_count": 73
        }
      ]
    },
    {
      "cell_type": "code",
      "metadata": {
        "id": "p0NvufSv6wiz",
        "outputId": "8e031951-99b7-4abf-eafb-7c387a16f9b5",
        "colab": {
          "base_uri": "https://localhost:8080/"
        }
      },
      "source": [
        "#batch matrix multiplicatiom\n",
        "batch=32\n",
        "n=10\n",
        "m=20\n",
        "p=30\n",
        "\n",
        "tensor1=torch.rand((batch,n,m))\n",
        "tensor2 =torch.rand((batch,m,p))\n",
        "out_bmm = torch.bmm(tensor1,tensor2) #(n,p)\n",
        "out_bmm"
      ],
      "id": "p0NvufSv6wiz",
      "execution_count": 75,
      "outputs": [
        {
          "output_type": "execute_result",
          "data": {
            "text/plain": [
              "tensor([[[5.9561, 3.6617, 5.0150,  ..., 5.1876, 3.6784, 3.9004],\n",
              "         [4.1467, 3.3403, 4.5206,  ..., 4.4011, 3.7219, 3.9391],\n",
              "         [6.4890, 4.0393, 5.6008,  ..., 5.3567, 4.4072, 4.7923],\n",
              "         ...,\n",
              "         [5.4165, 3.9443, 5.4644,  ..., 4.7115, 4.2237, 4.1800],\n",
              "         [6.5085, 5.1261, 5.9530,  ..., 5.4251, 4.8398, 5.5755],\n",
              "         [6.6358, 5.3675, 5.9274,  ..., 6.1584, 4.8878, 4.5485]],\n",
              "\n",
              "        [[4.9865, 6.1510, 5.2473,  ..., 4.4559, 4.9457, 4.6363],\n",
              "         [4.4854, 6.1013, 4.3341,  ..., 4.0221, 4.7060, 5.2591],\n",
              "         [5.2199, 6.4320, 4.4818,  ..., 5.5244, 4.8550, 4.5209],\n",
              "         ...,\n",
              "         [4.8582, 6.1848, 4.9578,  ..., 4.9221, 5.2907, 5.2456],\n",
              "         [4.6186, 6.1119, 5.2314,  ..., 4.5715, 4.9266, 5.6140],\n",
              "         [4.2049, 5.9179, 3.4702,  ..., 4.3226, 5.1882, 3.3774]],\n",
              "\n",
              "        [[5.5536, 5.6678, 6.4006,  ..., 6.4665, 6.2110, 6.4386],\n",
              "         [3.9688, 4.3639, 4.6895,  ..., 5.0103, 4.4729, 4.7988],\n",
              "         [4.8453, 5.2381, 5.6271,  ..., 6.0755, 5.0490, 6.3586],\n",
              "         ...,\n",
              "         [4.7468, 4.4737, 5.1708,  ..., 5.4525, 4.0145, 5.1220],\n",
              "         [3.7582, 3.8024, 5.2036,  ..., 4.6137, 3.6865, 5.4810],\n",
              "         [4.1739, 4.0546, 4.5422,  ..., 4.2770, 3.8574, 5.5744]],\n",
              "\n",
              "        ...,\n",
              "\n",
              "        [[2.9316, 3.1541, 3.1691,  ..., 3.8598, 3.7716, 4.6943],\n",
              "         [4.3981, 4.3838, 4.5890,  ..., 4.7424, 4.0403, 5.4419],\n",
              "         [5.5447, 5.5321, 4.3637,  ..., 7.4620, 4.8331, 5.9679],\n",
              "         ...,\n",
              "         [5.3371, 4.8591, 4.7993,  ..., 6.5210, 5.0721, 5.9138],\n",
              "         [4.6549, 5.3245, 4.9309,  ..., 5.8353, 4.8180, 5.5247],\n",
              "         [4.7704, 5.2941, 4.8569,  ..., 5.6811, 4.4823, 6.4428]],\n",
              "\n",
              "        [[3.6967, 5.4464, 4.6325,  ..., 5.5960, 4.3045, 5.6788],\n",
              "         [2.7291, 4.1480, 3.4108,  ..., 4.4412, 3.6489, 3.2529],\n",
              "         [2.8519, 4.3532, 4.4458,  ..., 4.9367, 4.5195, 4.4610],\n",
              "         ...,\n",
              "         [3.3800, 5.3217, 5.4588,  ..., 5.5174, 4.8064, 5.1319],\n",
              "         [4.2138, 6.3509, 6.2335,  ..., 6.2647, 5.2925, 6.1344],\n",
              "         [3.0615, 5.3566, 4.4648,  ..., 5.5805, 4.1282, 5.1909]],\n",
              "\n",
              "        [[6.4201, 4.0031, 6.0409,  ..., 5.5557, 5.1491, 6.2261],\n",
              "         [5.3453, 3.5605, 4.2757,  ..., 5.2177, 4.5232, 4.6705],\n",
              "         [6.7662, 4.0355, 5.7307,  ..., 4.9748, 4.3570, 5.7959],\n",
              "         ...,\n",
              "         [7.4829, 4.0802, 6.4213,  ..., 7.1127, 5.2897, 6.1602],\n",
              "         [6.5235, 3.5225, 5.7347,  ..., 5.2203, 4.1034, 5.6747],\n",
              "         [6.8998, 4.1609, 5.2959,  ..., 4.5025, 4.2708, 5.6955]]])"
            ]
          },
          "metadata": {
            "tags": []
          },
          "execution_count": 75
        }
      ]
    },
    {
      "cell_type": "code",
      "metadata": {
        "id": "znSenJH97hE7"
      },
      "source": [
        "#example of broadcasting\n",
        "\n"
      ],
      "id": "znSenJH97hE7",
      "execution_count": null,
      "outputs": []
    }
  ]
}