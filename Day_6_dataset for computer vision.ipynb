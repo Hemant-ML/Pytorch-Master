{
 "metadata": {
  "language_info": {
   "codemirror_mode": {
    "name": "ipython",
    "version": 3
   },
   "file_extension": ".py",
   "mimetype": "text/x-python",
   "name": "python",
   "nbconvert_exporter": "python",
   "pygments_lexer": "ipython3",
   "version": "3.9.5"
  },
  "orig_nbformat": 4,
  "kernelspec": {
   "name": "python3",
   "display_name": "Python 3.9.5 64-bit ('d2l': conda)"
  },
  "interpreter": {
   "hash": "1e5d90a4ba887ce81a09358baecbd7b727b419ffad34e598e1a0e88f023a64f9"
  }
 },
 "nbformat": 4,
 "nbformat_minor": 2,
 "cells": [
  {
   "cell_type": "code",
   "execution_count": 2,
   "source": [
    "import torch\n",
    "import numpy as np\n",
    "import cv2"
   ],
   "outputs": [],
   "metadata": {}
  },
  {
   "cell_type": "code",
   "execution_count": 6,
   "source": [
    "class CustomDataset():\n",
    "    def __init__(self,image_path,targets,augmentation=None):\n",
    "        self.image_path=image_path\n",
    "        self.targets=targets\n",
    "        self.augmentation=augmentation\n",
    "    def __len__():\n",
    "        return len(self.image_path)\n",
    "    def __getitem__(self,idx):\n",
    "        target = self.targets[idx]\n",
    "        image = cv2.imread(self.image_path[idx])\n",
    "        image = cv2.cvtColor(image,cv2.COLOR_BGR2RGB)\n",
    "        if self.augmentation is not None:\n",
    "            augmented = self.augmentation(image=image)\n",
    "        image = augmented['image']\n",
    "        image = np.transpose(image,(2,0,1)).astype(np.float32)\n",
    "        return {'image':torch.tensor(image),'target':torch.tensor(target)}\n",
    "        "
   ],
   "outputs": [],
   "metadata": {}
  },
  {
   "cell_type": "code",
   "execution_count": null,
   "source": [],
   "outputs": [],
   "metadata": {}
  }
 ]
}