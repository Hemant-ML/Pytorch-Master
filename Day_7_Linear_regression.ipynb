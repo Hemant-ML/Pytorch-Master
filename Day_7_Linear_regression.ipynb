{
  "nbformat": 4,
  "nbformat_minor": 0,
  "metadata": {
    "colab": {
      "name": "Day_7_Linear_regression.ipynb",
      "provenance": [],
      "collapsed_sections": [],
      "authorship_tag": "ABX9TyNRyivGlIntvh2pUYsFI6Zc",
      "include_colab_link": true
    },
    "kernelspec": {
      "name": "python3",
      "display_name": "Python 3"
    },
    "language_info": {
      "name": "python"
    },
    "accelerator": "GPU"
  },
  "cells": [
    {
      "cell_type": "markdown",
      "metadata": {
        "id": "view-in-github",
        "colab_type": "text"
      },
      "source": [
        "<a href=\"https://colab.research.google.com/github/Hemant-ML/Pytorch-Master/blob/main/Day_7_Linear_regression.ipynb\" target=\"_parent\"><img src=\"https://colab.research.google.com/assets/colab-badge.svg\" alt=\"Open In Colab\"/></a>"
      ]
    },
    {
      "cell_type": "markdown",
      "metadata": {
        "id": "kWI8fQq3HdU-"
      },
      "source": [
        "\n",
        "\n",
        "> **Import the packages**\n",
        "\n"
      ]
    },
    {
      "cell_type": "code",
      "metadata": {
        "id": "ArfeSzvBGEnI"
      },
      "source": [
        "from sklearn.preprocessing import StandardScaler\n",
        "from sklearn.datasets import load_boston\n",
        "from sklearn.model_selection import train_test_split\n",
        "from sklearn.metrics import r2_score\n",
        "import numpy as np\n",
        "import pandas as pd\n",
        "import matplotlib.pylab as plt\n",
        "\n",
        "import seaborn as sns\n",
        "sns.set()\n",
        "import torch.nn as nn\n",
        "import torch\n",
        "import torch.nn.functional as F\n",
        "import torch.optim as optim"
      ],
      "execution_count": 117,
      "outputs": []
    },
    {
      "cell_type": "markdown",
      "metadata": {
        "id": "ibm_m9tyHWY7"
      },
      "source": [
        "**Load the Dataset**\n",
        "<br>\n",
        "we use the boston boston house price dataset in the scikit-learn library"
      ]
    },
    {
      "cell_type": "code",
      "metadata": {
        "id": "AxVPw3k3X6Wi"
      },
      "source": [
        "dataset = load_boston()"
      ],
      "execution_count": 118,
      "outputs": []
    },
    {
      "cell_type": "markdown",
      "metadata": {
        "id": "dIH1HDzKYIcd"
      },
      "source": [
        "**Read the dataset as pandas DataFrame**"
      ]
    },
    {
      "cell_type": "code",
      "metadata": {
        "colab": {
          "base_uri": "https://localhost:8080/",
          "height": 204
        },
        "id": "WQgGy2J2YFey",
        "outputId": "3c8faa6d-5fce-4174-8587-92d8360ad2df"
      },
      "source": [
        "df=pd.DataFrame(dataset.data)\n",
        "df.columns=dataset.feature_names\n",
        "df[\"Price\"]=dataset.target\n",
        "df.head()"
      ],
      "execution_count": 119,
      "outputs": [
        {
          "output_type": "execute_result",
          "data": {
            "text/html": [
              "<div>\n",
              "<style scoped>\n",
              "    .dataframe tbody tr th:only-of-type {\n",
              "        vertical-align: middle;\n",
              "    }\n",
              "\n",
              "    .dataframe tbody tr th {\n",
              "        vertical-align: top;\n",
              "    }\n",
              "\n",
              "    .dataframe thead th {\n",
              "        text-align: right;\n",
              "    }\n",
              "</style>\n",
              "<table border=\"1\" class=\"dataframe\">\n",
              "  <thead>\n",
              "    <tr style=\"text-align: right;\">\n",
              "      <th></th>\n",
              "      <th>CRIM</th>\n",
              "      <th>ZN</th>\n",
              "      <th>INDUS</th>\n",
              "      <th>CHAS</th>\n",
              "      <th>NOX</th>\n",
              "      <th>RM</th>\n",
              "      <th>AGE</th>\n",
              "      <th>DIS</th>\n",
              "      <th>RAD</th>\n",
              "      <th>TAX</th>\n",
              "      <th>PTRATIO</th>\n",
              "      <th>B</th>\n",
              "      <th>LSTAT</th>\n",
              "      <th>Price</th>\n",
              "    </tr>\n",
              "  </thead>\n",
              "  <tbody>\n",
              "    <tr>\n",
              "      <th>0</th>\n",
              "      <td>0.00632</td>\n",
              "      <td>18.0</td>\n",
              "      <td>2.31</td>\n",
              "      <td>0.0</td>\n",
              "      <td>0.538</td>\n",
              "      <td>6.575</td>\n",
              "      <td>65.2</td>\n",
              "      <td>4.0900</td>\n",
              "      <td>1.0</td>\n",
              "      <td>296.0</td>\n",
              "      <td>15.3</td>\n",
              "      <td>396.90</td>\n",
              "      <td>4.98</td>\n",
              "      <td>24.0</td>\n",
              "    </tr>\n",
              "    <tr>\n",
              "      <th>1</th>\n",
              "      <td>0.02731</td>\n",
              "      <td>0.0</td>\n",
              "      <td>7.07</td>\n",
              "      <td>0.0</td>\n",
              "      <td>0.469</td>\n",
              "      <td>6.421</td>\n",
              "      <td>78.9</td>\n",
              "      <td>4.9671</td>\n",
              "      <td>2.0</td>\n",
              "      <td>242.0</td>\n",
              "      <td>17.8</td>\n",
              "      <td>396.90</td>\n",
              "      <td>9.14</td>\n",
              "      <td>21.6</td>\n",
              "    </tr>\n",
              "    <tr>\n",
              "      <th>2</th>\n",
              "      <td>0.02729</td>\n",
              "      <td>0.0</td>\n",
              "      <td>7.07</td>\n",
              "      <td>0.0</td>\n",
              "      <td>0.469</td>\n",
              "      <td>7.185</td>\n",
              "      <td>61.1</td>\n",
              "      <td>4.9671</td>\n",
              "      <td>2.0</td>\n",
              "      <td>242.0</td>\n",
              "      <td>17.8</td>\n",
              "      <td>392.83</td>\n",
              "      <td>4.03</td>\n",
              "      <td>34.7</td>\n",
              "    </tr>\n",
              "    <tr>\n",
              "      <th>3</th>\n",
              "      <td>0.03237</td>\n",
              "      <td>0.0</td>\n",
              "      <td>2.18</td>\n",
              "      <td>0.0</td>\n",
              "      <td>0.458</td>\n",
              "      <td>6.998</td>\n",
              "      <td>45.8</td>\n",
              "      <td>6.0622</td>\n",
              "      <td>3.0</td>\n",
              "      <td>222.0</td>\n",
              "      <td>18.7</td>\n",
              "      <td>394.63</td>\n",
              "      <td>2.94</td>\n",
              "      <td>33.4</td>\n",
              "    </tr>\n",
              "    <tr>\n",
              "      <th>4</th>\n",
              "      <td>0.06905</td>\n",
              "      <td>0.0</td>\n",
              "      <td>2.18</td>\n",
              "      <td>0.0</td>\n",
              "      <td>0.458</td>\n",
              "      <td>7.147</td>\n",
              "      <td>54.2</td>\n",
              "      <td>6.0622</td>\n",
              "      <td>3.0</td>\n",
              "      <td>222.0</td>\n",
              "      <td>18.7</td>\n",
              "      <td>396.90</td>\n",
              "      <td>5.33</td>\n",
              "      <td>36.2</td>\n",
              "    </tr>\n",
              "  </tbody>\n",
              "</table>\n",
              "</div>"
            ],
            "text/plain": [
              "      CRIM    ZN  INDUS  CHAS    NOX  ...    TAX  PTRATIO       B  LSTAT  Price\n",
              "0  0.00632  18.0   2.31   0.0  0.538  ...  296.0     15.3  396.90   4.98   24.0\n",
              "1  0.02731   0.0   7.07   0.0  0.469  ...  242.0     17.8  396.90   9.14   21.6\n",
              "2  0.02729   0.0   7.07   0.0  0.469  ...  242.0     17.8  392.83   4.03   34.7\n",
              "3  0.03237   0.0   2.18   0.0  0.458  ...  222.0     18.7  394.63   2.94   33.4\n",
              "4  0.06905   0.0   2.18   0.0  0.458  ...  222.0     18.7  396.90   5.33   36.2\n",
              "\n",
              "[5 rows x 14 columns]"
            ]
          },
          "metadata": {
            "tags": []
          },
          "execution_count": 119
        }
      ]
    },
    {
      "cell_type": "markdown",
      "metadata": {
        "id": "qkcGcUOJYwmN"
      },
      "source": [
        "let's try to check the correlation between \"Price\" and \"RM\""
      ]
    },
    {
      "cell_type": "code",
      "metadata": {
        "colab": {
          "base_uri": "https://localhost:8080/",
          "height": 302
        },
        "id": "mBEux9i5Yl-Z",
        "outputId": "8785347e-24cd-4927-c4b2-efd8a48b2f4c"
      },
      "source": [
        "df.plot(x=\"RM\",y=\"Price\",style=\"o\")\n"
      ],
      "execution_count": 120,
      "outputs": [
        {
          "output_type": "execute_result",
          "data": {
            "text/plain": [
              "<matplotlib.axes._subplots.AxesSubplot at 0x7f4ab635bb50>"
            ]
          },
          "metadata": {
            "tags": []
          },
          "execution_count": 120
        },
        {
          "output_type": "display_data",
          "data": {
            "image/png": "[encoded data removed]",
            "text/plain": [
              "<Figure size 432x288 with 1 Axes>"
            ]
          },
          "metadata": {
            "tags": []
          }
        }
      ]
    },
    {
      "cell_type": "markdown",
      "metadata": {
        "id": "f_R_iBMKgL9W"
      },
      "source": [
        "split the target variable and test variable"
      ]
    },
    {
      "cell_type": "code",
      "metadata": {
        "id": "EaJA7ElxZ08B"
      },
      "source": [
        "y=df[\"Price\"]\n",
        "x=df.drop(\"Price\",axis=1)"
      ],
      "execution_count": 121,
      "outputs": []
    },
    {
      "cell_type": "markdown",
      "metadata": {
        "id": "9S7KQAM2g_8K"
      },
      "source": [
        "**Standardize the variable**\n"
      ]
    },
    {
      "cell_type": "code",
      "metadata": {
        "id": "wmAcYJ7dg_u4"
      },
      "source": [
        "#from sklearn.preprocessing import StandardScaler\n",
        "sscaler = StandardScaler()\n",
        "sscaler.fit(x)\n",
        "X_std= sscaler.transform(x)"
      ],
      "execution_count": 122,
      "outputs": []
    },
    {
      "cell_type": "markdown",
      "metadata": {
        "id": "HJW7ntoEhoq_"
      },
      "source": [
        "**splitting the dataset**"
      ]
    },
    {
      "cell_type": "code",
      "metadata": {
        "colab": {
          "base_uri": "https://localhost:8080/"
        },
        "id": "zLhftPZLgwjM",
        "outputId": "940760cf-6c71-4655-c98b-430d8b19721f"
      },
      "source": [
        "#from sklearn.model_selection import train_test_split\n",
        "X_train,X_test,y_train,y_test=train_test_split(X_std,y,test_size=0.2,random_state=99)\n",
        "X_train.shape"
      ],
      "execution_count": 123,
      "outputs": [
        {
          "output_type": "execute_result",
          "data": {
            "text/plain": [
              "(404, 13)"
            ]
          },
          "metadata": {
            "tags": []
          },
          "execution_count": 123
        }
      ]
    },
    {
      "cell_type": "markdown",
      "metadata": {
        "id": "hAguWglJiFYd"
      },
      "source": [
        "**Define A Neural Network Model by PyTorch**"
      ]
    },
    {
      "cell_type": "code",
      "metadata": {
        "colab": {
          "base_uri": "https://localhost:8080/"
        },
        "id": "3t4kczhViAa_",
        "outputId": "62fc4169-cc8a-4247-f67a-361110e1cfae"
      },
      "source": [
        "class NN(nn.Module):\n",
        "  def __init__(self):\n",
        "    super(NN,self).__init__()\n",
        "    self.layer1=nn.Linear(X_train.shape[1],39)\n",
        "    self.layer2=nn.Linear(39,26)\n",
        "    self.layer3=nn.Linear(26,13)\n",
        "    self.layer4=nn.Linear(13,1)\n",
        "  def forward(self,x):\n",
        "    x=F.relu(self.layer1(x))\n",
        "    x=F.relu(self.layer2(x))\n",
        "    x=F.relu(self.layer3(x))\n",
        "    x=self.layer4(x)\n",
        "    return x\n",
        "model = NN()\n",
        "print(model)"
      ],
      "execution_count": 124,
      "outputs": [
        {
          "output_type": "stream",
          "text": [
            "NN(\n",
            "  (layer1): Linear(in_features=13, out_features=39, bias=True)\n",
            "  (layer2): Linear(in_features=39, out_features=26, bias=True)\n",
            "  (layer3): Linear(in_features=26, out_features=13, bias=True)\n",
            "  (layer4): Linear(in_features=13, out_features=1, bias=True)\n",
            ")\n"
          ],
          "name": "stdout"
        }
      ]
    },
    {
      "cell_type": "markdown",
      "metadata": {
        "id": "lB4oII0QjmyA"
      },
      "source": [
        "**Convert Data into Tensor**"
      ]
    },
    {
      "cell_type": "code",
      "metadata": {
        "colab": {
          "base_uri": "https://localhost:8080/"
        },
        "id": "h7fbyToJj2IJ",
        "outputId": "2723abba-708e-454f-bf83-f8cce87c2265"
      },
      "source": [
        "x=torch.tensor(np.array(X_train),dtype=torch.float32,requires_grad=True)\n",
        "y=torch.tensor(np.array(y_train).reshape(-1,1),dtype=torch.float32)\n",
        "x"
      ],
      "execution_count": 125,
      "outputs": [
        {
          "output_type": "execute_result",
          "data": {
            "text/plain": [
              "tensor([[-0.1358, -0.4877,  1.2319,  ..., -1.7364, -2.9389,  0.4888],\n",
              "        [-0.4141,  0.9286, -1.3069,  ..., -0.0257,  0.4022, -0.5219],\n",
              "        [-0.4173, -0.4877, -0.5934,  ..., -0.3031,  0.3964, -1.2087],\n",
              "        ...,\n",
              "        [-0.4135, -0.4877, -1.2660,  ..., -0.3031,  0.3337,  0.0697],\n",
              "        [-0.4130, -0.4877, -0.7553,  ...,  0.3442,  0.4411, -0.4167],\n",
              "        [-0.3180, -0.4877,  1.5690,  ...,  1.2689,  0.4411,  0.7972]],\n",
              "       requires_grad=True)"
            ]
          },
          "metadata": {
            "tags": []
          },
          "execution_count": 125
        }
      ]
    },
    {
      "cell_type": "markdown",
      "metadata": {
        "id": "HrsJNj5TkhmB"
      },
      "source": [
        "**Define an Optimizer**"
      ]
    },
    {
      "cell_type": "code",
      "metadata": {
        "id": "gWJvVmGWkfx6"
      },
      "source": [
        "#import torch.optim as optim\n",
        "optimizer= optim.SGD(model.parameters(),lr=0.005)"
      ],
      "execution_count": 126,
      "outputs": []
    },
    {
      "cell_type": "markdown",
      "metadata": {
        "id": "8PyTn7b2lFhx"
      },
      "source": [
        "**Define Loss Function**"
      ]
    },
    {
      "cell_type": "code",
      "metadata": {
        "id": "o4myKBmBlEOC"
      },
      "source": [
        "loss_fn=nn.MSELoss()"
      ],
      "execution_count": 127,
      "outputs": []
    },
    {
      "cell_type": "markdown",
      "metadata": {
        "id": "ciI3u66elaYE"
      },
      "source": [
        "## Train the model <br>\n",
        "Finally,we can train the model! <br>\n",
        "At every epoch, we perform:<br>\n",
        "1. Initialize the gradient of the model parameter\n",
        "2. Calculate the loss\n",
        "3. calculate the gradient of the model parameter by backpropagation.\n",
        "4. Update the model parameter\n"
      ]
    },
    {
      "cell_type": "code",
      "metadata": {
        "colab": {
          "base_uri": "https://localhost:8080/"
        },
        "id": "ifDrIWXHlXt1",
        "outputId": "c8516364-0ec6-4ccd-e8bc-9f895ce55162"
      },
      "source": [
        "epochs=200\n",
        "for i in range(epochs):\n",
        "  #initialize the model parameter\n",
        "  optimizer.zero_grad()\n",
        "  #calculate the loss\n",
        "  output=model(x)\n",
        "  loss=loss_fn(output,y)\n",
        "  #backpropagation\n",
        "  loss.backward()\n",
        "  #update the parameters\n",
        "  optimizer.step()\n",
        "  if(i%5==0):\n",
        "    print(f\"epochs: {i}......loss:{loss}\")"
      ],
      "execution_count": 128,
      "outputs": [
        {
          "output_type": "stream",
          "text": [
            "epochs: 0......loss:582.972412109375\n",
            "epochs: 5......loss:466.9496765136719\n",
            "epochs: 10......loss:459.3779296875\n",
            "epochs: 15......loss:53.30527114868164\n",
            "epochs: 20......loss:22.725435256958008\n",
            "epochs: 25......loss:31.16267967224121\n",
            "epochs: 30......loss:13.918932914733887\n",
            "epochs: 35......loss:12.649726867675781\n",
            "epochs: 40......loss:30.607826232910156\n",
            "epochs: 45......loss:71.65899658203125\n",
            "epochs: 50......loss:22.446674346923828\n",
            "epochs: 55......loss:36.22983169555664\n",
            "epochs: 60......loss:21.964962005615234\n",
            "epochs: 65......loss:32.6329231262207\n",
            "epochs: 70......loss:19.836414337158203\n",
            "epochs: 75......loss:28.85918617248535\n",
            "epochs: 80......loss:18.52201271057129\n",
            "epochs: 85......loss:26.274568557739258\n",
            "epochs: 90......loss:17.48412322998047\n",
            "epochs: 95......loss:24.490877151489258\n",
            "epochs: 100......loss:16.580764770507812\n",
            "epochs: 105......loss:22.827068328857422\n",
            "epochs: 110......loss:15.925877571105957\n",
            "epochs: 115......loss:21.696544647216797\n",
            "epochs: 120......loss:15.421168327331543\n",
            "epochs: 125......loss:20.93828582763672\n",
            "epochs: 130......loss:14.888379096984863\n",
            "epochs: 135......loss:20.031007766723633\n",
            "epochs: 140......loss:14.39479923248291\n",
            "epochs: 145......loss:19.288450241088867\n",
            "epochs: 150......loss:13.990804672241211\n",
            "epochs: 155......loss:18.57844352722168\n",
            "epochs: 160......loss:13.601799011230469\n",
            "epochs: 165......loss:17.90911293029785\n",
            "epochs: 170......loss:13.05496883392334\n",
            "epochs: 175......loss:17.09902000427246\n",
            "epochs: 180......loss:12.675459861755371\n",
            "epochs: 185......loss:16.50977325439453\n",
            "epochs: 190......loss:12.264001846313477\n",
            "epochs: 195......loss:15.782280921936035\n"
          ],
          "name": "stdout"
        }
      ]
    },
    {
      "cell_type": "markdown",
      "metadata": {
        "id": "Wtr3ahnSqNQL"
      },
      "source": [
        "**Validation**"
      ]
    },
    {
      "cell_type": "code",
      "metadata": {
        "id": "UqLy0Ov-nhCm"
      },
      "source": [
        "y_train_pred = model(torch.tensor(X_train,dtype=torch.float32,requires_grad=True))\n",
        "y_test_pred = model(torch.tensor(X_test,dtype=torch.float32,requires_grad=True))\n",
        "\n",
        "#convert to numpy array\n",
        "y_train_pred = y_train_pred.detach().numpy()\n",
        "y_test_pred = y_test_pred.detach().numpy()\n",
        "\n"
      ],
      "execution_count": 135,
      "outputs": []
    },
    {
      "cell_type": "markdown",
      "metadata": {
        "id": "XWZ_LtFZrC8S"
      },
      "source": [
        "**Accuracy: R^2**"
      ]
    },
    {
      "cell_type": "code",
      "metadata": {
        "colab": {
          "base_uri": "https://localhost:8080/"
        },
        "id": "VTzDlu47rBCc",
        "outputId": "335fb804-5fc9-4eeb-f8e9-4e8383d31954"
      },
      "source": [
        "test_accuracy=r2_score(y_test,y_test_pred)\n",
        "train_accuracy=r2_score(y_train,y_train_pred)\n",
        "print(train_accuracy)\n",
        "print(test_accuracy)"
      ],
      "execution_count": 136,
      "outputs": [
        {
          "output_type": "stream",
          "text": [
            "0.8555411108047325\n",
            "0.81695338678774\n"
          ],
          "name": "stdout"
        }
      ]
    },
    {
      "cell_type": "markdown",
      "metadata": {
        "id": "8JRuuuzXryZz"
      },
      "source": [
        "### The score of 0.84 is good, can be improved using hyper-parameter tuning."
      ]
    },
    {
      "cell_type": "markdown",
      "metadata": {
        "id": "HU89eMvXsYLk"
      },
      "source": [
        "# **Visualize the results**\n",
        "Finally, let's visualize the result by matplotlib.<br>\n",
        "The red and blue circles shows the results of training and validation data,respectively"
      ]
    },
    {
      "cell_type": "code",
      "metadata": {
        "colab": {
          "base_uri": "https://localhost:8080/",
          "height": 285
        },
        "id": "j-ter4VhrAPW",
        "outputId": "8f25d9e5-c9b0-4fa8-96c5-561a85135a90"
      },
      "source": [
        "sns.set()\n",
        "plt.xlabel(\"Price\")\n",
        "plt.ylabel(\"Predicted Price\")\n",
        "plt.xlim(0.60)\n",
        "plt.ylim(0.60)\n",
        "plt.xlabel(\"Price\")\n",
        "plt.ylabel(\"Predicted Price\")\n",
        "plt.scatter(y_train,y_train_pred,color='r',label=\"train_data\")\n",
        "plt.scatter(y_test,y_test_pred,color='b',label=\"test_data\")\n",
        "plt.legend()\n",
        "plt.show()"
      ],
      "execution_count": 157,
      "outputs": [
        {
          "output_type": "display_data",
          "data": {
            "image/png": "[encoded data removed]",
            "text/plain": [
              "<Figure size 432x288 with 1 Axes>"
            ]
          },
          "metadata": {
            "tags": []
          }
        }
      ]
    }
  ]
}