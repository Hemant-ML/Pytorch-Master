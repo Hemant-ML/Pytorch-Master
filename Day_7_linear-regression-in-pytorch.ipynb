{
 "cells": [
  {
   "cell_type": "markdown",
   "id": "25bbb197",
   "metadata": {
    "papermill": {
     "duration": 0.030076,
     "end_time": "2021-08-06T14:24:36.801053",
     "exception": false,
     "start_time": "2021-08-06T14:24:36.770977",
     "status": "completed"
    },
    "tags": []
   },
   "source": [
    "#### Hello, EveryBody, this is part 1 of beginner series of Pytorch project, hopes it helps beginner to infer how pytorch works."
   ]
  },
  {
   "cell_type": "markdown",
   "id": "d4864346",
   "metadata": {
    "id": "kWI8fQq3HdU-",
    "papermill": {
     "duration": 0.021949,
     "end_time": "2021-08-06T14:24:36.845827",
     "exception": false,
     "start_time": "2021-08-06T14:24:36.823878",
     "status": "completed"
    },
    "tags": []
   },
   "source": [
    "\n",
    "\n",
    "> **Import the packages**\n",
    "\n"
   ]
  },
  {
   "cell_type": "code",
   "execution_count": 1,
   "id": "eeda618f",
   "metadata": {
    "execution": {
     "iopub.execute_input": "2021-08-06T14:24:36.903475Z",
     "iopub.status.busy": "2021-08-06T14:24:36.902856Z",
     "iopub.status.idle": "2021-08-06T14:24:39.604193Z",
     "shell.execute_reply": "2021-08-06T14:24:39.603173Z",
     "shell.execute_reply.started": "2021-08-06T14:20:31.935115Z"
    },
    "id": "ArfeSzvBGEnI",
    "papermill": {
     "duration": 2.736245,
     "end_time": "2021-08-06T14:24:39.604397",
     "exception": false,
     "start_time": "2021-08-06T14:24:36.868152",
     "status": "completed"
    },
    "tags": []
   },
   "outputs": [],
   "source": [
    "from sklearn.preprocessing import StandardScaler\n",
    "from sklearn.datasets import load_boston\n",
    "from sklearn.model_selection import train_test_split\n",
    "from sklearn.metrics import r2_score\n",
    "import numpy as np\n",
    "import pandas as pd\n",
    "import matplotlib.pylab as plt\n",
    "\n",
    "import seaborn as sns\n",
    "sns.set()\n",
    "import torch.nn as nn\n",
    "import torch\n",
    "import torch.nn.functional as F\n",
    "import torch.optim as optim"
   ]
  },
  {
   "cell_type": "markdown",
   "id": "c8f79b56",
   "metadata": {
    "id": "ibm_m9tyHWY7",
    "papermill": {
     "duration": 0.02211,
     "end_time": "2021-08-06T14:24:39.650231",
     "exception": false,
     "start_time": "2021-08-06T14:24:39.628121",
     "status": "completed"
    },
    "tags": []
   },
   "source": [
    "**Load the Dataset**\n",
    "<br>\n",
    "we use the boston boston house price dataset in the scikit-learn library"
   ]
  },
  {
   "cell_type": "code",
   "execution_count": 2,
   "id": "7aceddfb",
   "metadata": {
    "execution": {
     "iopub.execute_input": "2021-08-06T14:24:39.703054Z",
     "iopub.status.busy": "2021-08-06T14:24:39.702167Z",
     "iopub.status.idle": "2021-08-06T14:24:39.717623Z",
     "shell.execute_reply": "2021-08-06T14:24:39.717000Z",
     "shell.execute_reply.started": "2021-08-06T14:20:32.322209Z"
    },
    "id": "AxVPw3k3X6Wi",
    "papermill": {
     "duration": 0.044961,
     "end_time": "2021-08-06T14:24:39.717772",
     "exception": false,
     "start_time": "2021-08-06T14:24:39.672811",
     "status": "completed"
    },
    "tags": []
   },
   "outputs": [],
   "source": [
    "dataset = load_boston()"
   ]
  },
  {
   "cell_type": "markdown",
   "id": "39e211a4",
   "metadata": {
    "id": "dIH1HDzKYIcd",
    "papermill": {
     "duration": 0.022396,
     "end_time": "2021-08-06T14:24:39.763056",
     "exception": false,
     "start_time": "2021-08-06T14:24:39.740660",
     "status": "completed"
    },
    "tags": []
   },
   "source": [
    "**Read the dataset as pandas DataFrame**"
   ]
  },
  {
   "cell_type": "code",
   "execution_count": 3,
   "id": "6e8c57de",
   "metadata": {
    "execution": {
     "iopub.execute_input": "2021-08-06T14:24:39.828078Z",
     "iopub.status.busy": "2021-08-06T14:24:39.827139Z",
     "iopub.status.idle": "2021-08-06T14:24:39.863290Z",
     "shell.execute_reply": "2021-08-06T14:24:39.862454Z",
     "shell.execute_reply.started": "2021-08-06T14:20:32.685731Z"
    },
    "id": "WQgGy2J2YFey",
    "outputId": "3c8faa6d-5fce-4174-8587-92d8360ad2df",
    "papermill": {
     "duration": 0.077233,
     "end_time": "2021-08-06T14:24:39.863466",
     "exception": false,
     "start_time": "2021-08-06T14:24:39.786233",
     "status": "completed"
    },
    "tags": []
   },
   "outputs": [
    {
     "data": {
      "text/html": [
       "<div>\n",
       "<style scoped>\n",
       "    .dataframe tbody tr th:only-of-type {\n",
       "        vertical-align: middle;\n",
       "    }\n",
       "\n",
       "    .dataframe tbody tr th {\n",
       "        vertical-align: top;\n",
       "    }\n",
       "\n",
       "    .dataframe thead th {\n",
       "        text-align: right;\n",
       "    }\n",
       "</style>\n",
       "<table border=\"1\" class=\"dataframe\">\n",
       "  <thead>\n",
       "    <tr style=\"text-align: right;\">\n",
       "      <th></th>\n",
       "      <th>CRIM</th>\n",
       "      <th>ZN</th>\n",
       "      <th>INDUS</th>\n",
       "      <th>CHAS</th>\n",
       "      <th>NOX</th>\n",
       "      <th>RM</th>\n",
       "      <th>AGE</th>\n",
       "      <th>DIS</th>\n",
       "      <th>RAD</th>\n",
       "      <th>TAX</th>\n",
       "      <th>PTRATIO</th>\n",
       "      <th>B</th>\n",
       "      <th>LSTAT</th>\n",
       "      <th>Price</th>\n",
       "    </tr>\n",
       "  </thead>\n",
       "  <tbody>\n",
       "    <tr>\n",
       "      <th>0</th>\n",
       "      <td>0.00632</td>\n",
       "      <td>18.0</td>\n",
       "      <td>2.31</td>\n",
       "      <td>0.0</td>\n",
       "      <td>0.538</td>\n",
       "      <td>6.575</td>\n",
       "      <td>65.2</td>\n",
       "      <td>4.0900</td>\n",
       "      <td>1.0</td>\n",
       "      <td>296.0</td>\n",
       "      <td>15.3</td>\n",
       "      <td>396.90</td>\n",
       "      <td>4.98</td>\n",
       "      <td>24.0</td>\n",
       "    </tr>\n",
       "    <tr>\n",
       "      <th>1</th>\n",
       "      <td>0.02731</td>\n",
       "      <td>0.0</td>\n",
       "      <td>7.07</td>\n",
       "      <td>0.0</td>\n",
       "      <td>0.469</td>\n",
       "      <td>6.421</td>\n",
       "      <td>78.9</td>\n",
       "      <td>4.9671</td>\n",
       "      <td>2.0</td>\n",
       "      <td>242.0</td>\n",
       "      <td>17.8</td>\n",
       "      <td>396.90</td>\n",
       "      <td>9.14</td>\n",
       "      <td>21.6</td>\n",
       "    </tr>\n",
       "    <tr>\n",
       "      <th>2</th>\n",
       "      <td>0.02729</td>\n",
       "      <td>0.0</td>\n",
       "      <td>7.07</td>\n",
       "      <td>0.0</td>\n",
       "      <td>0.469</td>\n",
       "      <td>7.185</td>\n",
       "      <td>61.1</td>\n",
       "      <td>4.9671</td>\n",
       "      <td>2.0</td>\n",
       "      <td>242.0</td>\n",
       "      <td>17.8</td>\n",
       "      <td>392.83</td>\n",
       "      <td>4.03</td>\n",
       "      <td>34.7</td>\n",
       "    </tr>\n",
       "    <tr>\n",
       "      <th>3</th>\n",
       "      <td>0.03237</td>\n",
       "      <td>0.0</td>\n",
       "      <td>2.18</td>\n",
       "      <td>0.0</td>\n",
       "      <td>0.458</td>\n",
       "      <td>6.998</td>\n",
       "      <td>45.8</td>\n",
       "      <td>6.0622</td>\n",
       "      <td>3.0</td>\n",
       "      <td>222.0</td>\n",
       "      <td>18.7</td>\n",
       "      <td>394.63</td>\n",
       "      <td>2.94</td>\n",
       "      <td>33.4</td>\n",
       "    </tr>\n",
       "    <tr>\n",
       "      <th>4</th>\n",
       "      <td>0.06905</td>\n",
       "      <td>0.0</td>\n",
       "      <td>2.18</td>\n",
       "      <td>0.0</td>\n",
       "      <td>0.458</td>\n",
       "      <td>7.147</td>\n",
       "      <td>54.2</td>\n",
       "      <td>6.0622</td>\n",
       "      <td>3.0</td>\n",
       "      <td>222.0</td>\n",
       "      <td>18.7</td>\n",
       "      <td>396.90</td>\n",
       "      <td>5.33</td>\n",
       "      <td>36.2</td>\n",
       "    </tr>\n",
       "  </tbody>\n",
       "</table>\n",
       "</div>"
      ],
      "text/plain": [
       "      CRIM    ZN  INDUS  CHAS    NOX     RM   AGE     DIS  RAD    TAX  \\\n",
       "0  0.00632  18.0   2.31   0.0  0.538  6.575  65.2  4.0900  1.0  296.0   \n",
       "1  0.02731   0.0   7.07   0.0  0.469  6.421  78.9  4.9671  2.0  242.0   \n",
       "2  0.02729   0.0   7.07   0.0  0.469  7.185  61.1  4.9671  2.0  242.0   \n",
       "3  0.03237   0.0   2.18   0.0  0.458  6.998  45.8  6.0622  3.0  222.0   \n",
       "4  0.06905   0.0   2.18   0.0  0.458  7.147  54.2  6.0622  3.0  222.0   \n",
       "\n",
       "   PTRATIO       B  LSTAT  Price  \n",
       "0     15.3  396.90   4.98   24.0  \n",
       "1     17.8  396.90   9.14   21.6  \n",
       "2     17.8  392.83   4.03   34.7  \n",
       "3     18.7  394.63   2.94   33.4  \n",
       "4     18.7  396.90   5.33   36.2  "
      ]
     },
     "execution_count": 3,
     "metadata": {},
     "output_type": "execute_result"
    }
   ],
   "source": [
    "df=pd.DataFrame(dataset.data)\n",
    "df.columns=dataset.feature_names\n",
    "df[\"Price\"]=dataset.target\n",
    "df.head()"
   ]
  },
  {
   "cell_type": "markdown",
   "id": "10ca8e7b",
   "metadata": {
    "id": "qkcGcUOJYwmN",
    "papermill": {
     "duration": 0.022872,
     "end_time": "2021-08-06T14:24:39.912316",
     "exception": false,
     "start_time": "2021-08-06T14:24:39.889444",
     "status": "completed"
    },
    "tags": []
   },
   "source": [
    "let's try to check the correlation between \"Price\" and \"RM\""
   ]
  },
  {
   "cell_type": "code",
   "execution_count": 4,
   "id": "9bc68642",
   "metadata": {
    "execution": {
     "iopub.execute_input": "2021-08-06T14:24:39.967780Z",
     "iopub.status.busy": "2021-08-06T14:24:39.967036Z",
     "iopub.status.idle": "2021-08-06T14:24:40.288394Z",
     "shell.execute_reply": "2021-08-06T14:24:40.287870Z",
     "shell.execute_reply.started": "2021-08-06T14:20:33.073882Z"
    },
    "id": "mBEux9i5Yl-Z",
    "outputId": "8785347e-24cd-4927-c4b2-efd8a48b2f4c",
    "papermill": {
     "duration": 0.349311,
     "end_time": "2021-08-06T14:24:40.288566",
     "exception": false,
     "start_time": "2021-08-06T14:24:39.939255",
     "status": "completed"
    },
    "tags": []
   },
   "outputs": [
    {
     "data": {
      "text/plain": [
       "<AxesSubplot:xlabel='RM'>"
      ]
     },
     "execution_count": 4,
     "metadata": {},
     "output_type": "execute_result"
    },
    {
     "data": {
      "image/png": "[encoded data removed]",
      "text/plain": [
       "<Figure size 432x288 with 1 Axes>"
      ]
     },
     "metadata": {},
     "output_type": "display_data"
    }
   ],
   "source": [
    "df.plot(x=\"RM\",y=\"Price\",style=\"o\")\n"
   ]
  },
  {
   "cell_type": "markdown",
   "id": "d617936e",
   "metadata": {
    "id": "f_R_iBMKgL9W",
    "papermill": {
     "duration": 0.024153,
     "end_time": "2021-08-06T14:24:40.337360",
     "exception": false,
     "start_time": "2021-08-06T14:24:40.313207",
     "status": "completed"
    },
    "tags": []
   },
   "source": [
    "split the target variable and test variable"
   ]
  },
  {
   "cell_type": "code",
   "execution_count": 5,
   "id": "2fc36766",
   "metadata": {
    "execution": {
     "iopub.execute_input": "2021-08-06T14:24:40.392909Z",
     "iopub.status.busy": "2021-08-06T14:24:40.392252Z",
     "iopub.status.idle": "2021-08-06T14:24:40.395376Z",
     "shell.execute_reply": "2021-08-06T14:24:40.394858Z",
     "shell.execute_reply.started": "2021-08-06T14:20:33.379598Z"
    },
    "id": "EaJA7ElxZ08B",
    "papermill": {
     "duration": 0.03368,
     "end_time": "2021-08-06T14:24:40.395539",
     "exception": false,
     "start_time": "2021-08-06T14:24:40.361859",
     "status": "completed"
    },
    "tags": []
   },
   "outputs": [],
   "source": [
    "y=df[\"Price\"]\n",
    "x=df.drop(\"Price\",axis=1)"
   ]
  },
  {
   "cell_type": "markdown",
   "id": "0e9d2616",
   "metadata": {
    "id": "9S7KQAM2g_8K",
    "papermill": {
     "duration": 0.023822,
     "end_time": "2021-08-06T14:24:40.443741",
     "exception": false,
     "start_time": "2021-08-06T14:24:40.419919",
     "status": "completed"
    },
    "tags": []
   },
   "source": [
    "**Standardize the variable**\n"
   ]
  },
  {
   "cell_type": "code",
   "execution_count": 6,
   "id": "13f60971",
   "metadata": {
    "execution": {
     "iopub.execute_input": "2021-08-06T14:24:40.499517Z",
     "iopub.status.busy": "2021-08-06T14:24:40.498833Z",
     "iopub.status.idle": "2021-08-06T14:24:40.505071Z",
     "shell.execute_reply": "2021-08-06T14:24:40.505578Z",
     "shell.execute_reply.started": "2021-08-06T14:20:33.766022Z"
    },
    "id": "wmAcYJ7dg_u4",
    "papermill": {
     "duration": 0.037844,
     "end_time": "2021-08-06T14:24:40.505771",
     "exception": false,
     "start_time": "2021-08-06T14:24:40.467927",
     "status": "completed"
    },
    "tags": []
   },
   "outputs": [],
   "source": [
    "#from sklearn.preprocessing import StandardScaler\n",
    "sscaler = StandardScaler()\n",
    "sscaler.fit(x)\n",
    "X_std= sscaler.transform(x)"
   ]
  },
  {
   "cell_type": "markdown",
   "id": "5114546d",
   "metadata": {
    "id": "HJW7ntoEhoq_",
    "papermill": {
     "duration": 0.024158,
     "end_time": "2021-08-06T14:24:40.554474",
     "exception": false,
     "start_time": "2021-08-06T14:24:40.530316",
     "status": "completed"
    },
    "tags": []
   },
   "source": [
    "**splitting the dataset**"
   ]
  },
  {
   "cell_type": "code",
   "execution_count": 7,
   "id": "b316b734",
   "metadata": {
    "execution": {
     "iopub.execute_input": "2021-08-06T14:24:40.612722Z",
     "iopub.status.busy": "2021-08-06T14:24:40.611769Z",
     "iopub.status.idle": "2021-08-06T14:24:40.617704Z",
     "shell.execute_reply": "2021-08-06T14:24:40.617152Z",
     "shell.execute_reply.started": "2021-08-06T14:20:34.188902Z"
    },
    "id": "zLhftPZLgwjM",
    "outputId": "940760cf-6c71-4655-c98b-430d8b19721f",
    "papermill": {
     "duration": 0.039105,
     "end_time": "2021-08-06T14:24:40.617851",
     "exception": false,
     "start_time": "2021-08-06T14:24:40.578746",
     "status": "completed"
    },
    "tags": []
   },
   "outputs": [
    {
     "data": {
      "text/plain": [
       "(354, 13)"
      ]
     },
     "execution_count": 7,
     "metadata": {},
     "output_type": "execute_result"
    }
   ],
   "source": [
    "#from sklearn.model_selection import train_test_split\n",
    "X_train,X_test,y_train,y_test=train_test_split(X_std,y,test_size=0.3,random_state=99)\n",
    "X_train.shape"
   ]
  },
  {
   "cell_type": "markdown",
   "id": "ce96586b",
   "metadata": {
    "id": "hAguWglJiFYd",
    "papermill": {
     "duration": 0.024449,
     "end_time": "2021-08-06T14:24:40.667563",
     "exception": false,
     "start_time": "2021-08-06T14:24:40.643114",
     "status": "completed"
    },
    "tags": []
   },
   "source": [
    "**Define A Neural Network Model by PyTorch**"
   ]
  },
  {
   "cell_type": "code",
   "execution_count": 8,
   "id": "507f1f89",
   "metadata": {
    "execution": {
     "iopub.execute_input": "2021-08-06T14:24:40.728835Z",
     "iopub.status.busy": "2021-08-06T14:24:40.728182Z",
     "iopub.status.idle": "2021-08-06T14:24:40.760413Z",
     "shell.execute_reply": "2021-08-06T14:24:40.759282Z",
     "shell.execute_reply.started": "2021-08-06T14:20:34.638863Z"
    },
    "id": "3t4kczhViAa_",
    "outputId": "62fc4169-cc8a-4247-f67a-361110e1cfae",
    "papermill": {
     "duration": 0.066532,
     "end_time": "2021-08-06T14:24:40.760639",
     "exception": false,
     "start_time": "2021-08-06T14:24:40.694107",
     "status": "completed"
    },
    "tags": []
   },
   "outputs": [
    {
     "name": "stdout",
     "output_type": "stream",
     "text": [
      "NN(\n",
      "  (layer1): Linear(in_features=13, out_features=39, bias=True)\n",
      "  (layer2): Linear(in_features=39, out_features=26, bias=True)\n",
      "  (layer3): Linear(in_features=26, out_features=13, bias=True)\n",
      "  (layer4): Linear(in_features=13, out_features=1, bias=True)\n",
      ")\n"
     ]
    }
   ],
   "source": [
    "class NN(nn.Module):\n",
    "  def __init__(self):\n",
    "    super(NN,self).__init__()\n",
    "    self.layer1=nn.Linear(X_train.shape[1],39)\n",
    "    self.layer2=nn.Linear(39,26)\n",
    "    self.layer3=nn.Linear(26,13)\n",
    "    self.layer4=nn.Linear(13,1)\n",
    "  def forward(self,x):\n",
    "    x=F.relu(self.layer1(x))\n",
    "    x=F.relu(self.layer2(x))\n",
    "    x=F.relu(self.layer3(x))\n",
    "    x=self.layer4(x)\n",
    "    return x\n",
    "model = NN()\n",
    "print(model)"
   ]
  },
  {
   "cell_type": "markdown",
   "id": "6c7f4c0e",
   "metadata": {
    "id": "lB4oII0QjmyA",
    "papermill": {
     "duration": 0.024697,
     "end_time": "2021-08-06T14:24:40.811006",
     "exception": false,
     "start_time": "2021-08-06T14:24:40.786309",
     "status": "completed"
    },
    "tags": []
   },
   "source": [
    "**Convert Data into Tensor**"
   ]
  },
  {
   "cell_type": "code",
   "execution_count": 9,
   "id": "4720ea00",
   "metadata": {
    "execution": {
     "iopub.execute_input": "2021-08-06T14:24:40.866851Z",
     "iopub.status.busy": "2021-08-06T14:24:40.866172Z",
     "iopub.status.idle": "2021-08-06T14:24:40.948680Z",
     "shell.execute_reply": "2021-08-06T14:24:40.947471Z",
     "shell.execute_reply.started": "2021-08-06T14:20:35.629155Z"
    },
    "id": "h7fbyToJj2IJ",
    "outputId": "2723abba-708e-454f-bf83-f8cce87c2265",
    "papermill": {
     "duration": 0.11281,
     "end_time": "2021-08-06T14:24:40.948843",
     "exception": false,
     "start_time": "2021-08-06T14:24:40.836033",
     "status": "completed"
    },
    "tags": []
   },
   "outputs": [
    {
     "data": {
      "text/plain": [
       "tensor([[-0.3475, -0.4877, -0.4373,  ...,  1.1765,  0.4270, -0.5864],\n",
       "        [ 0.8214, -0.4877,  1.0160,  ...,  0.8066, -3.4386,  1.5877],\n",
       "        [ 0.5939, -0.4877,  1.0160,  ...,  0.8066,  0.3871,  0.6261],\n",
       "        ...,\n",
       "        [-0.4135, -0.4877, -1.2660,  ..., -0.3031,  0.3337,  0.0697],\n",
       "        [-0.4130, -0.4877, -0.7553,  ...,  0.3442,  0.4411, -0.4167],\n",
       "        [-0.3180, -0.4877,  1.5690,  ...,  1.2689,  0.4411,  0.7972]],\n",
       "       requires_grad=True)"
      ]
     },
     "execution_count": 9,
     "metadata": {},
     "output_type": "execute_result"
    }
   ],
   "source": [
    "x=torch.tensor(np.array(X_train),dtype=torch.float32,requires_grad=True)\n",
    "y=torch.tensor(np.array(y_train).reshape(-1,1),dtype=torch.float32)\n",
    "x"
   ]
  },
  {
   "cell_type": "markdown",
   "id": "fd05cab0",
   "metadata": {
    "id": "HrsJNj5TkhmB",
    "papermill": {
     "duration": 0.024782,
     "end_time": "2021-08-06T14:24:40.999533",
     "exception": false,
     "start_time": "2021-08-06T14:24:40.974751",
     "status": "completed"
    },
    "tags": []
   },
   "source": [
    "**Define an Optimizer**"
   ]
  },
  {
   "cell_type": "code",
   "execution_count": 10,
   "id": "440efeae",
   "metadata": {
    "execution": {
     "iopub.execute_input": "2021-08-06T14:24:41.056475Z",
     "iopub.status.busy": "2021-08-06T14:24:41.055801Z",
     "iopub.status.idle": "2021-08-06T14:24:41.058202Z",
     "shell.execute_reply": "2021-08-06T14:24:41.057577Z",
     "shell.execute_reply.started": "2021-08-06T14:20:36.837409Z"
    },
    "id": "gWJvVmGWkfx6",
    "papermill": {
     "duration": 0.032195,
     "end_time": "2021-08-06T14:24:41.058347",
     "exception": false,
     "start_time": "2021-08-06T14:24:41.026152",
     "status": "completed"
    },
    "tags": []
   },
   "outputs": [],
   "source": [
    "#import torch.optim as optim\n",
    "optimizer= optim.SGD(model.parameters(),lr=0.003)"
   ]
  },
  {
   "cell_type": "markdown",
   "id": "06a36b45",
   "metadata": {
    "id": "8PyTn7b2lFhx",
    "papermill": {
     "duration": 0.024972,
     "end_time": "2021-08-06T14:24:41.109244",
     "exception": false,
     "start_time": "2021-08-06T14:24:41.084272",
     "status": "completed"
    },
    "tags": []
   },
   "source": [
    "**Define Loss Function**"
   ]
  },
  {
   "cell_type": "code",
   "execution_count": 11,
   "id": "7678dd56",
   "metadata": {
    "execution": {
     "iopub.execute_input": "2021-08-06T14:24:41.165662Z",
     "iopub.status.busy": "2021-08-06T14:24:41.164940Z",
     "iopub.status.idle": "2021-08-06T14:24:41.167820Z",
     "shell.execute_reply": "2021-08-06T14:24:41.167210Z",
     "shell.execute_reply.started": "2021-08-06T14:20:38.429957Z"
    },
    "id": "o4myKBmBlEOC",
    "papermill": {
     "duration": 0.032929,
     "end_time": "2021-08-06T14:24:41.167958",
     "exception": false,
     "start_time": "2021-08-06T14:24:41.135029",
     "status": "completed"
    },
    "tags": []
   },
   "outputs": [],
   "source": [
    "loss_fn=nn.MSELoss()"
   ]
  },
  {
   "cell_type": "markdown",
   "id": "97e99b26",
   "metadata": {
    "id": "ciI3u66elaYE",
    "papermill": {
     "duration": 0.024867,
     "end_time": "2021-08-06T14:24:41.218267",
     "exception": false,
     "start_time": "2021-08-06T14:24:41.193400",
     "status": "completed"
    },
    "tags": []
   },
   "source": [
    "## Train the model <br>\n",
    "Finally,we can train the model! <br>\n",
    "At every epoch, we perform:<br>\n",
    "1. Initialize the gradient of the model parameter\n",
    "2. Calculate the loss\n",
    "3. calculate the gradient of the model parameter by backpropagation.\n",
    "4. Update the model parameter\n"
   ]
  },
  {
   "cell_type": "code",
   "execution_count": 12,
   "id": "e1e3471f",
   "metadata": {
    "execution": {
     "iopub.execute_input": "2021-08-06T14:24:41.278258Z",
     "iopub.status.busy": "2021-08-06T14:24:41.277431Z",
     "iopub.status.idle": "2021-08-06T14:24:41.630794Z",
     "shell.execute_reply": "2021-08-06T14:24:41.631322Z",
     "shell.execute_reply.started": "2021-08-06T14:20:39.444737Z"
    },
    "id": "ifDrIWXHlXt1",
    "outputId": "c8516364-0ec6-4ccd-e8bc-9f895ce55162",
    "papermill": {
     "duration": 0.38715,
     "end_time": "2021-08-06T14:24:41.631553",
     "exception": false,
     "start_time": "2021-08-06T14:24:41.244403",
     "status": "completed"
    },
    "tags": []
   },
   "outputs": [
    {
     "name": "stdout",
     "output_type": "stream",
     "text": [
      "epochs: 0......loss:594.1595458984375\n",
      "epochs: 5......loss:526.6012573242188\n",
      "epochs: 10......loss:82.33236694335938\n",
      "epochs: 15......loss:70.07676696777344\n",
      "epochs: 20......loss:46.26658630371094\n",
      "epochs: 25......loss:88.09736633300781\n",
      "epochs: 30......loss:32.294925689697266\n",
      "epochs: 35......loss:59.15907669067383\n",
      "epochs: 40......loss:31.184385299682617\n",
      "epochs: 45......loss:53.36256790161133\n",
      "epochs: 50......loss:28.19557762145996\n",
      "epochs: 55......loss:46.25605010986328\n",
      "epochs: 60......loss:25.833452224731445\n",
      "epochs: 65......loss:40.3951301574707\n",
      "epochs: 70......loss:23.79513168334961\n",
      "epochs: 75......loss:35.542598724365234\n",
      "epochs: 80......loss:22.029104232788086\n",
      "epochs: 85......loss:31.800146102905273\n",
      "epochs: 90......loss:20.516454696655273\n",
      "epochs: 95......loss:28.681509017944336\n",
      "epochs: 100......loss:19.212005615234375\n",
      "epochs: 105......loss:26.077817916870117\n",
      "epochs: 110......loss:17.9351806640625\n",
      "epochs: 115......loss:23.592287063598633\n",
      "epochs: 120......loss:16.800559997558594\n",
      "epochs: 125......loss:21.559022903442383\n",
      "epochs: 130......loss:15.85390567779541\n",
      "epochs: 135......loss:20.074262619018555\n",
      "epochs: 140......loss:15.069336891174316\n",
      "epochs: 145......loss:18.75743865966797\n",
      "epochs: 150......loss:14.364810943603516\n",
      "epochs: 155......loss:17.63933753967285\n",
      "epochs: 160......loss:13.736202239990234\n",
      "epochs: 165......loss:16.726369857788086\n",
      "epochs: 170......loss:13.160543441772461\n",
      "epochs: 175......loss:15.777302742004395\n",
      "epochs: 180......loss:12.590842247009277\n",
      "epochs: 185......loss:14.922855377197266\n",
      "epochs: 190......loss:12.052240371704102\n",
      "epochs: 195......loss:14.146543502807617\n"
     ]
    }
   ],
   "source": [
    "epochs=200\n",
    "for i in range(epochs):\n",
    "  #initialize the model parameter\n",
    "  optimizer.zero_grad(set_to_none=True)\n",
    "  #calculate the loss\n",
    "  output=model(x)\n",
    "  loss=loss_fn(output,y)\n",
    "  #backpropagation\n",
    "  loss.backward()\n",
    "  #update the parameters\n",
    "  optimizer.step()\n",
    "  if(i%5==0):\n",
    "    print(f\"epochs: {i}......loss:{loss}\")"
   ]
  },
  {
   "cell_type": "markdown",
   "id": "ca1f906f",
   "metadata": {
    "papermill": {
     "duration": 0.025493,
     "end_time": "2021-08-06T14:24:41.685338",
     "exception": false,
     "start_time": "2021-08-06T14:24:41.659845",
     "status": "completed"
    },
    "tags": []
   },
   "source": [
    "**The loss would be gradually decreasing.It indicates that the training model is being well done.**"
   ]
  },
  {
   "cell_type": "markdown",
   "id": "cab25557",
   "metadata": {
    "id": "Wtr3ahnSqNQL",
    "papermill": {
     "duration": 0.026394,
     "end_time": "2021-08-06T14:24:41.737697",
     "exception": false,
     "start_time": "2021-08-06T14:24:41.711303",
     "status": "completed"
    },
    "tags": []
   },
   "source": [
    "**Validation**"
   ]
  },
  {
   "cell_type": "code",
   "execution_count": 13,
   "id": "bcbbd819",
   "metadata": {
    "execution": {
     "iopub.execute_input": "2021-08-06T14:24:41.796745Z",
     "iopub.status.busy": "2021-08-06T14:24:41.795867Z",
     "iopub.status.idle": "2021-08-06T14:24:41.799026Z",
     "shell.execute_reply": "2021-08-06T14:24:41.799590Z",
     "shell.execute_reply.started": "2021-08-06T14:20:44.475245Z"
    },
    "id": "UqLy0Ov-nhCm",
    "papermill": {
     "duration": 0.035924,
     "end_time": "2021-08-06T14:24:41.799789",
     "exception": false,
     "start_time": "2021-08-06T14:24:41.763865",
     "status": "completed"
    },
    "tags": []
   },
   "outputs": [],
   "source": [
    "y_train_pred = model(torch.tensor(X_train,dtype=torch.float32,requires_grad=True))\n",
    "y_test_pred = model(torch.tensor(X_test,dtype=torch.float32))\n",
    "\n",
    "#convert to numpy array\n",
    "y_train_pred = y_train_pred.detach().numpy()\n",
    "y_test_pred = y_test_pred.detach().numpy()\n",
    "\n"
   ]
  },
  {
   "cell_type": "markdown",
   "id": "bd858ed8",
   "metadata": {
    "id": "XWZ_LtFZrC8S",
    "papermill": {
     "duration": 0.025925,
     "end_time": "2021-08-06T14:24:41.854821",
     "exception": false,
     "start_time": "2021-08-06T14:24:41.828896",
     "status": "completed"
    },
    "tags": []
   },
   "source": [
    "**Accuracy: R^2**"
   ]
  },
  {
   "cell_type": "code",
   "execution_count": 14,
   "id": "ebec6f44",
   "metadata": {
    "execution": {
     "iopub.execute_input": "2021-08-06T14:24:41.910185Z",
     "iopub.status.busy": "2021-08-06T14:24:41.909485Z",
     "iopub.status.idle": "2021-08-06T14:24:41.917347Z",
     "shell.execute_reply": "2021-08-06T14:24:41.917841Z",
     "shell.execute_reply.started": "2021-08-06T14:20:46.099359Z"
    },
    "id": "VTzDlu47rBCc",
    "outputId": "335fb804-5fc9-4eeb-f8e9-4e8383d31954",
    "papermill": {
     "duration": 0.0372,
     "end_time": "2021-08-06T14:24:41.918022",
     "exception": false,
     "start_time": "2021-08-06T14:24:41.880822",
     "status": "completed"
    },
    "tags": []
   },
   "outputs": [
    {
     "name": "stdout",
     "output_type": "stream",
     "text": [
      "0.862775777889417\n",
      "0.7924181816110583\n"
     ]
    }
   ],
   "source": [
    "test_accuracy=r2_score(y_test,y_test_pred)\n",
    "train_accuracy=r2_score(y_train,y_train_pred)\n",
    "print(train_accuracy)\n",
    "print(test_accuracy)"
   ]
  },
  {
   "cell_type": "markdown",
   "id": "f7f64d88",
   "metadata": {
    "id": "8JRuuuzXryZz",
    "papermill": {
     "duration": 0.026719,
     "end_time": "2021-08-06T14:24:41.973248",
     "exception": false,
     "start_time": "2021-08-06T14:24:41.946529",
     "status": "completed"
    },
    "tags": []
   },
   "source": [
    "### The score is good, can be improved using hyper-parameter tuning."
   ]
  },
  {
   "cell_type": "markdown",
   "id": "329b234c",
   "metadata": {
    "id": "HU89eMvXsYLk",
    "papermill": {
     "duration": 0.026867,
     "end_time": "2021-08-06T14:24:42.030169",
     "exception": false,
     "start_time": "2021-08-06T14:24:42.003302",
     "status": "completed"
    },
    "tags": []
   },
   "source": [
    "# **Visualize the results**\n",
    "Finally, let's visualize the result by matplotlib.<br>\n",
    "The red and blue circles shows the results of training and validation data,respectively"
   ]
  },
  {
   "cell_type": "code",
   "execution_count": 15,
   "id": "cf3f75f4",
   "metadata": {
    "execution": {
     "iopub.execute_input": "2021-08-06T14:24:42.115640Z",
     "iopub.status.busy": "2021-08-06T14:24:42.114808Z",
     "iopub.status.idle": "2021-08-06T14:24:42.374293Z",
     "shell.execute_reply": "2021-08-06T14:24:42.374768Z",
     "shell.execute_reply.started": "2021-08-06T14:20:50.230625Z"
    },
    "id": "j-ter4VhrAPW",
    "outputId": "8f25d9e5-c9b0-4fa8-96c5-561a85135a90",
    "papermill": {
     "duration": 0.317671,
     "end_time": "2021-08-06T14:24:42.374944",
     "exception": false,
     "start_time": "2021-08-06T14:24:42.057273",
     "status": "completed"
    },
    "tags": []
   },
   "outputs": [
    {
     "data": {
      "image/png": "[encoded data removed]",
      "text/plain": [
       "<Figure size 432x288 with 1 Axes>"
      ]
     },
     "metadata": {},
     "output_type": "display_data"
    }
   ],
   "source": [
    "plt.xlabel(\"Price\")\n",
    "plt.ylabel(\"Predicted Price\")\n",
    "plt.scatter(y_train,y_train_pred,color='r',label=\"train_data\")\n",
    "plt.scatter(y_test,y_test_pred,color='b',label=\"test_data\")\n",
    "plt.legend()\n",
    "plt.show()"
   ]
  },
  {
   "cell_type": "markdown",
   "id": "a3d8b233",
   "metadata": {
    "papermill": {
     "duration": 0.026947,
     "end_time": "2021-08-06T14:24:42.429480",
     "exception": false,
     "start_time": "2021-08-06T14:24:42.402533",
     "status": "completed"
    },
    "tags": []
   },
   "source": [
    "## Summary\n",
    "we have seen the Neural Network analysis constructed by PyTorch against the boston house prices dataset.Although we use a very simple network structure,the accuracy of the validation data is more than that of Linear Regression. <br>\n",
    "**I hopes this notebook helps the readers a little.** <br>\n",
    "\n",
    "\n",
    "\n"
   ]
  },
  {
   "cell_type": "code",
   "execution_count": null,
   "id": "3163e2d8",
   "metadata": {
    "papermill": {
     "duration": 0.02683,
     "end_time": "2021-08-06T14:24:42.483762",
     "exception": false,
     "start_time": "2021-08-06T14:24:42.456932",
     "status": "completed"
    },
    "tags": []
   },
   "outputs": [],
   "source": []
  }
 ],
 "metadata": {
  "kernelspec": {
   "display_name": "Python 3",
   "language": "python",
   "name": "python3"
  },
  "language_info": {
   "codemirror_mode": {
    "name": "ipython",
    "version": 3
   },
   "file_extension": ".py",
   "mimetype": "text/x-python",
   "name": "python",
   "nbconvert_exporter": "python",
   "pygments_lexer": "ipython3",
   "version": "3.7.10"
  },
  "papermill": {
   "default_parameters": {},
   "duration": 15.654647,
   "end_time": "2021-08-06T14:24:43.422730",
   "environment_variables": {},
   "exception": null,
   "input_path": "__notebook__.ipynb",
   "output_path": "__notebook__.ipynb",
   "parameters": {},
   "start_time": "2021-08-06T14:24:27.768083",
   "version": "2.3.3"
  }
 },
 "nbformat": 4,
 "nbformat_minor": 5
}
