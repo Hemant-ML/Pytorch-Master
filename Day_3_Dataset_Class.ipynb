{
 "cells": [
  {
   "cell_type": "code",
   "execution_count": 9,
   "id": "impaired-patrol",
   "metadata": {},
   "outputs": [],
   "source": [
    "import torch\n",
    "from sklearn.datasets import make_classification"
   ]
  },
  {
   "cell_type": "code",
   "execution_count": 16,
   "id": "labeled-union",
   "metadata": {},
   "outputs": [],
   "source": [
    "class CustomDataset:\n",
    "    def __init__(self,data,target):\n",
    "        self.data=data\n",
    "        self.target=target\n",
    "    def __len__(self):\n",
    "        return(len(self.data))\n",
    "    def __getitem__(self,idx):\n",
    "        current_sample = self.data[idx,:]\n",
    "        current_target = self.target[idx]\n",
    "        return {\n",
    "                \"sample_data\":current_sample,\n",
    "                 \"sample_target\":current_target\n",
    "               }\n",
    "        \n",
    "        \n",
    "        \n",
    "        \n",
    "   "
   ]
  },
  {
   "cell_type": "code",
   "execution_count": 17,
   "id": "continuous-australian",
   "metadata": {},
   "outputs": [],
   "source": [
    "data,target = make_classification(n_samples=1000)"
   ]
  },
  {
   "cell_type": "code",
   "execution_count": 18,
   "id": "hispanic-terminal",
   "metadata": {},
   "outputs": [
    {
     "data": {
      "text/plain": [
       "((1000, 20), (1000,))"
      ]
     },
     "execution_count": 18,
     "metadata": {},
     "output_type": "execute_result"
    }
   ],
   "source": [
    "data.shape,target.shape"
   ]
  },
  {
   "cell_type": "code",
   "execution_count": 19,
   "id": "seven-magazine",
   "metadata": {},
   "outputs": [
    {
     "data": {
      "text/plain": [
       "array([0, 0, 0, 1, 0, 0, 0, 1, 0, 1])"
      ]
     },
     "execution_count": 19,
     "metadata": {},
     "output_type": "execute_result"
    }
   ],
   "source": [
    "target[:10]"
   ]
  },
  {
   "cell_type": "code",
   "execution_count": 22,
   "id": "demonstrated-brother",
   "metadata": {},
   "outputs": [],
   "source": [
    "custom_dataset = CustomDataset(torch.tensor(data,dtype=torch.float32),torch.tensor(target,dtype=torch.float32))"
   ]
  },
  {
   "cell_type": "code",
   "execution_count": 23,
   "id": "collective-allergy",
   "metadata": {},
   "outputs": [
    {
     "data": {
      "text/plain": [
       "1000"
      ]
     },
     "execution_count": 23,
     "metadata": {},
     "output_type": "execute_result"
    }
   ],
   "source": [
    "len(custom_dataset)\n"
   ]
  },
  {
   "cell_type": "code",
   "execution_count": 24,
   "id": "motivated-bidding",
   "metadata": {},
   "outputs": [
    {
     "name": "stdout",
     "output_type": "stream",
     "text": [
      "{'sample_data': tensor([-0.7468, -0.4172, -0.0224,  1.0451,  0.0253, -1.6885, -0.6179,  0.8467,\n",
      "        -1.4223, -1.0447, -2.0220, -1.0356,  1.2527, -0.7349,  0.2670,  0.2033,\n",
      "         1.1258, -0.8810, -1.2490,  0.4868]), 'sample_target': tensor(0.)}\n"
     ]
    }
   ],
   "source": [
    "for idx in range(len(data)):\n",
    "    print(custom_dataset[idx])\n",
    "    break"
   ]
  },
  {
   "cell_type": "code",
   "execution_count": null,
   "id": "behavioral-stack",
   "metadata": {},
   "outputs": [],
   "source": []
  }
 ],
 "metadata": {
  "kernelspec": {
   "display_name": "Python 3",
   "language": "python",
   "name": "python3"
  },
  "language_info": {
   "codemirror_mode": {
    "name": "ipython",
    "version": 3
   },
   "file_extension": ".py",
   "mimetype": "text/x-python",
   "name": "python",
   "nbconvert_exporter": "python",
   "pygments_lexer": "ipython3",
   "version": "3.8.8"
  }
 },
 "nbformat": 4,
 "nbformat_minor": 5
}
