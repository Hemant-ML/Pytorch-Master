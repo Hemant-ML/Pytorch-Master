{
 "cells": [
  {
   "cell_type": "code",
   "execution_count": 3,
   "source": [
    "import torch\n",
    "from sklearn.datasets import make_classification"
   ],
   "outputs": [],
   "metadata": {}
  },
  {
   "cell_type": "code",
   "execution_count": 4,
   "source": [
    "class CustomDataset:\n",
    "    def __init__(self,data,target):\n",
    "        self.data=data\n",
    "        self.target=target\n",
    "    def __len__(self):\n",
    "        return(len(self.data))\n",
    "    def __getitem__(self,idx):\n",
    "        current_sample = self.data[idx,:]\n",
    "        current_target = self.target[idx]\n",
    "        return {\n",
    "                \"sample_data\":current_sample,\n",
    "                 \"sample_target\":current_target\n",
    "               }\n",
    "        \n",
    "        \n",
    "        \n",
    "        \n",
    "   "
   ],
   "outputs": [],
   "metadata": {}
  },
  {
   "cell_type": "code",
   "execution_count": 5,
   "source": [
    "data,target = make_classification(n_samples=1000)"
   ],
   "outputs": [],
   "metadata": {}
  },
  {
   "cell_type": "code",
   "execution_count": 6,
   "source": [
    "data.shape,target.shape"
   ],
   "outputs": [
    {
     "output_type": "execute_result",
     "data": {
      "text/plain": [
       "((1000, 20), (1000,))"
      ]
     },
     "metadata": {},
     "execution_count": 6
    }
   ],
   "metadata": {}
  },
  {
   "cell_type": "code",
   "execution_count": 7,
   "source": [
    "target[:10]"
   ],
   "outputs": [
    {
     "output_type": "execute_result",
     "data": {
      "text/plain": [
       "array([0, 1, 0, 1, 1, 1, 1, 0, 1, 0])"
      ]
     },
     "metadata": {},
     "execution_count": 7
    }
   ],
   "metadata": {}
  },
  {
   "cell_type": "code",
   "execution_count": 8,
   "source": [
    "custom_dataset = CustomDataset(torch.tensor(data,dtype=torch.float32),torch.tensor(target,dtype=torch.float32))"
   ],
   "outputs": [],
   "metadata": {}
  },
  {
   "cell_type": "code",
   "execution_count": 9,
   "source": [
    "len(custom_dataset)\n"
   ],
   "outputs": [
    {
     "output_type": "execute_result",
     "data": {
      "text/plain": [
       "1000"
      ]
     },
     "metadata": {},
     "execution_count": 9
    }
   ],
   "metadata": {}
  },
  {
   "cell_type": "code",
   "execution_count": 10,
   "source": [
    "for idx in range(len(data)):\n",
    "    print(custom_dataset[idx])\n",
    "    break"
   ],
   "outputs": [
    {
     "output_type": "stream",
     "name": "stdout",
     "text": [
      "{'sample_data': tensor([-1.6024, -1.3988, -0.4137,  0.8705, -0.1745,  2.1938,  2.3469,  1.0045,\n",
      "        -0.6126, -0.6138,  0.2055, -0.5807,  1.0363,  2.7073,  0.8885, -0.0085,\n",
      "        -0.0424,  0.2680,  0.5921,  0.8982]), 'sample_target': tensor(0.)}\n"
     ]
    }
   ],
   "metadata": {}
  },
  {
   "cell_type": "code",
   "execution_count": null,
   "source": [],
   "outputs": [],
   "metadata": {}
  }
 ],
 "metadata": {
  "kernelspec": {
   "name": "python3",
   "display_name": "Python 3.9.5 64-bit ('d2l': conda)"
  },
  "language_info": {
   "codemirror_mode": {
    "name": "ipython",
    "version": 3
   },
   "file_extension": ".py",
   "mimetype": "text/x-python",
   "name": "python",
   "nbconvert_exporter": "python",
   "pygments_lexer": "ipython3",
   "version": "3.9.5"
  },
  "interpreter": {
   "hash": "1e5d90a4ba887ce81a09358baecbd7b727b419ffad34e598e1a0e88f023a64f9"
  }
 },
 "nbformat": 4,
 "nbformat_minor": 5
}