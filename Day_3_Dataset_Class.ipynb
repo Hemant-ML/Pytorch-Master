{
 "cells": [
  {
   "cell_type": "code",
   "execution_count": 3,
   "id": "immune-waters",
   "metadata": {},
   "outputs": [],
   "source": [
    "import torch\n",
    "from sklearn.datasets import make_classification"
   ]
  },
  {
   "cell_type": "code",
   "execution_count": 5,
   "id": "offshore-wellington",
   "metadata": {},
   "outputs": [],
   "source": [
    "class CustomDataset:\n",
    "    def __init__(self,data,targets):\n",
    "        self.data = data\n",
    "        self.targets= targets\n",
    "    def __len__(self):\n",
    "        return len(self.data)\n",
    "    def __getitem__(self,idx):\n",
    "        current_sample=self.data[idx,:]\n",
    "        current_target=self.targets[idx]\n",
    "        return {\n",
    "                 \"sample\":current_sample,\n",
    "                 \"target\":current_target\n",
    "        }\n",
    "    "
   ]
  },
  {
   "cell_type": "code",
   "execution_count": 6,
   "id": "specific-sussex",
   "metadata": {},
   "outputs": [],
   "source": [
    "data,target = make_classification(n_samples=1000)"
   ]
  },
  {
   "cell_type": "code",
   "execution_count": 7,
   "id": "hydraulic-allen",
   "metadata": {},
   "outputs": [
    {
     "data": {
      "text/plain": [
       "((1000, 20), (1000,))"
      ]
     },
     "execution_count": 7,
     "metadata": {},
     "output_type": "execute_result"
    }
   ],
   "source": [
    "data.shape,target.shape"
   ]
  },
  {
   "cell_type": "code",
   "execution_count": 18,
   "id": "deadly-silence",
   "metadata": {},
   "outputs": [
    {
     "data": {
      "text/plain": [
       "array([1, 1, 1, 0, 1, 0, 1, 0, 1, 0])"
      ]
     },
     "execution_count": 18,
     "metadata": {},
     "output_type": "execute_result"
    }
   ],
   "source": [
    "target[:10]"
   ]
  },
  {
   "cell_type": "code",
   "execution_count": 8,
   "id": "broadband-exemption",
   "metadata": {},
   "outputs": [],
   "source": [
    "custom_dataset = CustomDataset(data,target)"
   ]
  },
  {
   "cell_type": "code",
   "execution_count": 10,
   "id": "happy-receipt",
   "metadata": {},
   "outputs": [
    {
     "data": {
      "text/plain": [
       "1000"
      ]
     },
     "execution_count": 10,
     "metadata": {},
     "output_type": "execute_result"
    }
   ],
   "source": [
    "len(custom_dataset)\n"
   ]
  },
  {
   "cell_type": "code",
   "execution_count": 15,
   "id": "latter-compression",
   "metadata": {},
   "outputs": [
    {
     "name": "stdout",
     "output_type": "stream",
     "text": [
      "{'sample': array([ 2.14550954, -0.88412269, -1.31874366,  0.31435377,  0.15730916,\n",
      "        0.24624483, -2.36175455, -0.31110004,  1.09158122, -1.13673959,\n",
      "       -0.67609074,  0.13933721,  1.01029804,  0.57856356, -2.11869755,\n",
      "        0.82604944,  0.79385435,  0.72688418, -0.06161302,  0.92867121]), 'target': 1}\n"
     ]
    }
   ],
   "source": [
    "for idx in range(len(data)):\n",
    "    print(custom_dataset[idx])\n",
    "    break"
   ]
  },
  {
   "cell_type": "code",
   "execution_count": null,
   "id": "manual-generation",
   "metadata": {},
   "outputs": [],
   "source": []
  }
 ],
 "metadata": {
  "kernelspec": {
   "display_name": "Python [conda env:pDL] *",
   "language": "python",
   "name": "conda-env-pDL-py"
  },
  "language_info": {
   "codemirror_mode": {
    "name": "ipython",
    "version": 3
   },
   "file_extension": ".py",
   "mimetype": "text/x-python",
   "name": "python",
   "nbconvert_exporter": "python",
   "pygments_lexer": "ipython3",
   "version": "3.8.8"
  }
 },
 "nbformat": 4,
 "nbformat_minor": 5
}
