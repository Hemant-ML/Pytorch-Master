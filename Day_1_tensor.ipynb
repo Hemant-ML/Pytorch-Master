{
 "cells": [
  {
   "cell_type": "code",
   "execution_count": 1,
   "id": "american-communist",
   "metadata": {
    "id": "brown-permission"
   },
   "outputs": [],
   "source": [
    "import torch\n"
   ]
  },
  {
   "cell_type": "markdown",
   "id": "fallen-tenant",
   "metadata": {
    "id": "tOPazNEHxOHU"
   },
   "source": [
    "<h1>Initializing Tensor<h1>"
   ]
  },
  {
   "cell_type": "code",
   "execution_count": 61,
   "id": "bibliographic-member",
   "metadata": {
    "id": "3SWDRTrLyGXB"
   },
   "outputs": [],
   "source": [
    "device = \"cuda\" if torch.cuda.is_available else \"cpu\""
   ]
  },
  {
   "cell_type": "code",
   "execution_count": 3,
   "id": "peripheral-newman",
   "metadata": {
    "id": "IInkwoYnxdlt"
   },
   "outputs": [],
   "source": [
    "my_tensor = torch.tensor([[1,2,3],[4,5,6]],dtype=torch.float32,device=device)"
   ]
  },
  {
   "cell_type": "code",
   "execution_count": 4,
   "id": "appropriate-method",
   "metadata": {
    "colab": {
     "base_uri": "https://localhost:8080/"
    },
    "id": "R-1nhDjYxouQ",
    "outputId": "3952d474-7ea4-4867-a55a-ea9e48bd063f"
   },
   "outputs": [
    {
     "name": "stdout",
     "output_type": "stream",
     "text": [
      "tensor([[1., 2., 3.],\n",
      "        [4., 5., 6.]], device='cuda:0')\n"
     ]
    }
   ],
   "source": [
    "print(my_tensor)"
   ]
  },
  {
   "cell_type": "code",
   "execution_count": 5,
   "id": "qualified-maintenance",
   "metadata": {
    "colab": {
     "base_uri": "https://localhost:8080/"
    },
    "id": "sxBq_sqIxq-P",
    "outputId": "875a3c58-4e54-4a63-81fc-d7f872eba27c"
   },
   "outputs": [
    {
     "name": "stdout",
     "output_type": "stream",
     "text": [
      "torch.float32\n"
     ]
    }
   ],
   "source": [
    "print(my_tensor.dtype)"
   ]
  },
  {
   "cell_type": "code",
   "execution_count": 6,
   "id": "obvious-apache",
   "metadata": {
    "colab": {
     "base_uri": "https://localhost:8080/"
    },
    "id": "xzvNQixZychL",
    "outputId": "0957ebc4-6107-4b06-a21a-8e924634064f"
   },
   "outputs": [
    {
     "name": "stdout",
     "output_type": "stream",
     "text": [
      "cuda:0\n"
     ]
    }
   ],
   "source": [
    "print(my_tensor.device)"
   ]
  },
  {
   "cell_type": "code",
   "execution_count": 7,
   "id": "alleged-submission",
   "metadata": {
    "colab": {
     "base_uri": "https://localhost:8080/"
    },
    "id": "U5N9hgfZyi9O",
    "outputId": "992b55d2-fb75-4d17-ec60-7f735a831167"
   },
   "outputs": [
    {
     "name": "stdout",
     "output_type": "stream",
     "text": [
      "torch.Size([2, 3])\n"
     ]
    }
   ],
   "source": [
    "print(my_tensor.shape)"
   ]
  },
  {
   "cell_type": "markdown",
   "id": "classified-lyric",
   "metadata": {
    "id": "vAMQHcC_yvBZ"
   },
   "source": [
    "<h1>other initialization methods<h1>"
   ]
  },
  {
   "cell_type": "code",
   "execution_count": 8,
   "id": "blind-footage",
   "metadata": {
    "id": "xpraZ7kay_Ac"
   },
   "outputs": [],
   "source": [
    "x = torch.empty(size = (3,3))"
   ]
  },
  {
   "cell_type": "code",
   "execution_count": 9,
   "id": "tutorial-pottery",
   "metadata": {
    "id": "2qc0XjX2zaxJ"
   },
   "outputs": [],
   "source": [
    "x1 = torch.zeros((3,3))"
   ]
  },
  {
   "cell_type": "code",
   "execution_count": 10,
   "id": "tribal-willow",
   "metadata": {
    "colab": {
     "base_uri": "https://localhost:8080/"
    },
    "id": "o_024Ti-ziK7",
    "outputId": "06c2955b-3c87-4f0e-8661-3f8833dfb30b"
   },
   "outputs": [
    {
     "name": "stdout",
     "output_type": "stream",
     "text": [
      "tensor([[2.6450e-09, 3.0942e-41, 3.3631e-44],\n",
      "        [0.0000e+00,        nan, 3.0941e-41],\n",
      "        [1.1578e+27, 1.1362e+30, 7.1547e+22]]) tensor([[0., 0., 0.],\n",
      "        [0., 0., 0.],\n",
      "        [0., 0., 0.]])\n"
     ]
    }
   ],
   "source": [
    "print(x,x1)"
   ]
  },
  {
   "cell_type": "code",
   "execution_count": 11,
   "id": "accepted-colony",
   "metadata": {
    "id": "gKEYcB7-zmss"
   },
   "outputs": [],
   "source": [
    "y=torch.rand((3,3))"
   ]
  },
  {
   "cell_type": "code",
   "execution_count": 12,
   "id": "manufactured-garlic",
   "metadata": {
    "colab": {
     "base_uri": "https://localhost:8080/"
    },
    "id": "CtEw7jf4zsVZ",
    "outputId": "9179f0f3-6518-41c0-b840-925bf0b75430"
   },
   "outputs": [
    {
     "name": "stdout",
     "output_type": "stream",
     "text": [
      "tensor([[0.3288, 0.7828, 0.6812],\n",
      "        [0.2144, 0.9665, 0.8827],\n",
      "        [0.0463, 0.3824, 0.9899]])\n"
     ]
    }
   ],
   "source": [
    "print(y)"
   ]
  },
  {
   "cell_type": "code",
   "execution_count": 13,
   "id": "right-leeds",
   "metadata": {
    "id": "_iwVWzknzuQ6"
   },
   "outputs": [],
   "source": [
    "y=torch.ones((3,3))"
   ]
  },
  {
   "cell_type": "code",
   "execution_count": 14,
   "id": "appointed-concentrate",
   "metadata": {
    "colab": {
     "base_uri": "https://localhost:8080/"
    },
    "id": "aqJivAu5zzos",
    "outputId": "4a2bcaf5-04ea-4bef-caa8-09ea0ee5b319"
   },
   "outputs": [
    {
     "name": "stdout",
     "output_type": "stream",
     "text": [
      "tensor([[1., 1., 1.],\n",
      "        [1., 1., 1.],\n",
      "        [1., 1., 1.]])\n"
     ]
    }
   ],
   "source": [
    "print(y)"
   ]
  },
  {
   "cell_type": "code",
   "execution_count": 15,
   "id": "arbitrary-backup",
   "metadata": {
    "id": "j2cVDz_8z0tL"
   },
   "outputs": [],
   "source": [
    "y=torch.eye(3)"
   ]
  },
  {
   "cell_type": "code",
   "execution_count": 16,
   "id": "realistic-gardening",
   "metadata": {
    "colab": {
     "base_uri": "https://localhost:8080/"
    },
    "id": "g42JOBsUz5Yq",
    "outputId": "04343c63-0100-42fc-9139-040c5c1c9b2b"
   },
   "outputs": [
    {
     "name": "stdout",
     "output_type": "stream",
     "text": [
      "tensor([[1., 0., 0.],\n",
      "        [0., 1., 0.],\n",
      "        [0., 0., 1.]])\n"
     ]
    }
   ],
   "source": [
    "print(y)"
   ]
  },
  {
   "cell_type": "code",
   "execution_count": 17,
   "id": "polish-backup",
   "metadata": {
    "id": "jnMxLhb2z-kq"
   },
   "outputs": [],
   "source": [
    "y=torch.arange(0,10,2)"
   ]
  },
  {
   "cell_type": "code",
   "execution_count": 18,
   "id": "scenic-advice",
   "metadata": {
    "colab": {
     "base_uri": "https://localhost:8080/"
    },
    "id": "z1zxHypD0GEb",
    "outputId": "ed4d9c75-ed49-49b8-817b-d4ca9d10b7b9"
   },
   "outputs": [
    {
     "name": "stdout",
     "output_type": "stream",
     "text": [
      "tensor([0, 2, 4, 6, 8])\n"
     ]
    }
   ],
   "source": [
    "print(y)"
   ]
  },
  {
   "cell_type": "code",
   "execution_count": 19,
   "id": "global-nickname",
   "metadata": {
    "id": "TBfeVeyx0HR5"
   },
   "outputs": [],
   "source": [
    "x = torch.linspace(start=0.1,end=1,steps=10)"
   ]
  },
  {
   "cell_type": "code",
   "execution_count": 20,
   "id": "grand-viewer",
   "metadata": {
    "colab": {
     "base_uri": "https://localhost:8080/"
    },
    "id": "N0Am2eds0WgK",
    "outputId": "e1bfdb79-4562-4595-ab3b-d0e090c99c63"
   },
   "outputs": [
    {
     "name": "stdout",
     "output_type": "stream",
     "text": [
      "tensor([0.1000, 0.2000, 0.3000, 0.4000, 0.5000, 0.6000, 0.7000, 0.8000, 0.9000,\n",
      "        1.0000])\n"
     ]
    }
   ],
   "source": [
    "print(x)"
   ]
  },
  {
   "cell_type": "code",
   "execution_count": 21,
   "id": "damaged-layer",
   "metadata": {
    "id": "kY7TNxgS0YAI"
   },
   "outputs": [],
   "source": [
    "y = torch.empty(size=(3,3)).normal_(mean=0,std=1)"
   ]
  },
  {
   "cell_type": "code",
   "execution_count": 22,
   "id": "powered-norman",
   "metadata": {
    "colab": {
     "base_uri": "https://localhost:8080/"
    },
    "id": "wnAVivQr04R2",
    "outputId": "de5fe8d1-c81d-457e-a4ab-988b6201baab"
   },
   "outputs": [
    {
     "name": "stdout",
     "output_type": "stream",
     "text": [
      "tensor([[ 0.7018, -1.1102, -2.4992],\n",
      "        [ 0.2305, -0.4899,  1.8335],\n",
      "        [ 0.5406, -1.0167, -0.0726]])\n"
     ]
    }
   ],
   "source": [
    "print(y)"
   ]
  },
  {
   "cell_type": "code",
   "execution_count": 23,
   "id": "mobile-friend",
   "metadata": {
    "id": "XGeDc09_05wr"
   },
   "outputs": [],
   "source": [
    "x=torch.empty(size=(1,5)).uniform_(0,1)"
   ]
  },
  {
   "cell_type": "code",
   "execution_count": 24,
   "id": "eight-advisory",
   "metadata": {
    "colab": {
     "base_uri": "https://localhost:8080/"
    },
    "id": "cbwimQO91PBY",
    "outputId": "fc99a092-1be5-4cee-ee28-9a77d8de88cf"
   },
   "outputs": [
    {
     "name": "stdout",
     "output_type": "stream",
     "text": [
      "tensor([[0.9006, 0.2167, 0.2238, 0.1542, 0.7555]])\n"
     ]
    }
   ],
   "source": [
    "print(x)"
   ]
  },
  {
   "cell_type": "code",
   "execution_count": 25,
   "id": "cooperative-colon",
   "metadata": {
    "id": "Zd8jqU0_1QWL"
   },
   "outputs": [],
   "source": [
    "x= torch.diag(torch.ones(3))"
   ]
  },
  {
   "cell_type": "code",
   "execution_count": 26,
   "id": "million-grave",
   "metadata": {
    "colab": {
     "base_uri": "https://localhost:8080/"
    },
    "id": "K7AQGqs11gZX",
    "outputId": "f052b96c-f600-495f-c2cb-e50c35250eec"
   },
   "outputs": [
    {
     "name": "stdout",
     "output_type": "stream",
     "text": [
      "tensor([[1., 0., 0.],\n",
      "        [0., 1., 0.],\n",
      "        [0., 0., 1.]])\n"
     ]
    }
   ],
   "source": [
    "print(x)"
   ]
  },
  {
   "cell_type": "markdown",
   "id": "operational-factory",
   "metadata": {
    "id": "rXyYGje11ndd"
   },
   "source": [
    "<h1>Initialize and convert to other type (int,float,double)<h1>"
   ]
  },
  {
   "cell_type": "code",
   "execution_count": 27,
   "id": "settled-impact",
   "metadata": {
    "id": "E6t89-lz1hfF"
   },
   "outputs": [],
   "source": [
    "tensor=torch.arange(4)"
   ]
  },
  {
   "cell_type": "code",
   "execution_count": 28,
   "id": "bored-loading",
   "metadata": {
    "colab": {
     "base_uri": "https://localhost:8080/"
    },
    "id": "pa1PD-VQ18cK",
    "outputId": "14e92668-05df-415c-8cea-268b7edb9a62"
   },
   "outputs": [
    {
     "data": {
      "text/plain": [
       "tensor([0, 1, 2, 3])"
      ]
     },
     "execution_count": 28,
     "metadata": {
      "tags": []
     },
     "output_type": "execute_result"
    }
   ],
   "source": [
    "tensor"
   ]
  },
  {
   "cell_type": "code",
   "execution_count": 29,
   "id": "transparent-atlantic",
   "metadata": {
    "colab": {
     "base_uri": "https://localhost:8080/"
    },
    "id": "6hshfJGj19hV",
    "outputId": "f072313a-41f9-4603-836f-35e7f918c455"
   },
   "outputs": [
    {
     "data": {
      "text/plain": [
       "torch.int64"
      ]
     },
     "execution_count": 29,
     "metadata": {
      "tags": []
     },
     "output_type": "execute_result"
    }
   ],
   "source": [
    "tensor.dtype"
   ]
  },
  {
   "cell_type": "code",
   "execution_count": 30,
   "id": "organic-webcam",
   "metadata": {
    "colab": {
     "base_uri": "https://localhost:8080/"
    },
    "id": "x5_sUbql2Aam",
    "outputId": "ce813743-faf8-48f3-d850-04d2f3621968"
   },
   "outputs": [
    {
     "data": {
      "text/plain": [
       "tensor([False,  True,  True,  True])"
      ]
     },
     "execution_count": 30,
     "metadata": {
      "tags": []
     },
     "output_type": "execute_result"
    }
   ],
   "source": [
    "tensor.bool()"
   ]
  },
  {
   "cell_type": "code",
   "execution_count": 31,
   "id": "center-situation",
   "metadata": {
    "colab": {
     "base_uri": "https://localhost:8080/"
    },
    "id": "932URCx32Evn",
    "outputId": "a426a845-dbf3-4e31-f440-243392994da6"
   },
   "outputs": [
    {
     "data": {
      "text/plain": [
       "tensor([0, 1, 2, 3], dtype=torch.int16)"
      ]
     },
     "execution_count": 31,
     "metadata": {
      "tags": []
     },
     "output_type": "execute_result"
    }
   ],
   "source": [
    "tensor.short()"
   ]
  },
  {
   "cell_type": "code",
   "execution_count": 32,
   "id": "moved-shoot",
   "metadata": {
    "colab": {
     "base_uri": "https://localhost:8080/"
    },
    "id": "TpvnfOla2Lk3",
    "outputId": "7eb0ce00-fbc8-490a-8c2a-1e46c1697acb"
   },
   "outputs": [
    {
     "data": {
      "text/plain": [
       "tensor([0, 1, 2, 3])"
      ]
     },
     "execution_count": 32,
     "metadata": {
      "tags": []
     },
     "output_type": "execute_result"
    }
   ],
   "source": [
    "tensor.long()"
   ]
  },
  {
   "cell_type": "code",
   "execution_count": 33,
   "id": "front-blast",
   "metadata": {
    "colab": {
     "base_uri": "https://localhost:8080/"
    },
    "id": "0LrBJN_L2Ok4",
    "outputId": "c8927bec-3ec0-44e8-e6c3-78f6f3ef4033"
   },
   "outputs": [
    {
     "data": {
      "text/plain": [
       "tensor([0., 1., 2., 3.], dtype=torch.float16)"
      ]
     },
     "execution_count": 33,
     "metadata": {
      "tags": []
     },
     "output_type": "execute_result"
    }
   ],
   "source": [
    "tensor.half()"
   ]
  },
  {
   "cell_type": "code",
   "execution_count": 34,
   "id": "hearing-orbit",
   "metadata": {
    "colab": {
     "base_uri": "https://localhost:8080/"
    },
    "id": "fqlrPGEA2Qmk",
    "outputId": "94f4c06d-c2f7-4296-d4ab-7adc50232aee"
   },
   "outputs": [
    {
     "data": {
      "text/plain": [
       "tensor([0., 1., 2., 3.])"
      ]
     },
     "execution_count": 34,
     "metadata": {
      "tags": []
     },
     "output_type": "execute_result"
    }
   ],
   "source": [
    "tensor.float()"
   ]
  },
  {
   "cell_type": "code",
   "execution_count": 35,
   "id": "aggressive-elements",
   "metadata": {
    "colab": {
     "base_uri": "https://localhost:8080/"
    },
    "id": "fekp60q-2Zkm",
    "outputId": "9f37450c-efb3-4979-e33f-815902a959f4"
   },
   "outputs": [
    {
     "data": {
      "text/plain": [
       "tensor([0., 1., 2., 3.], dtype=torch.float64)"
      ]
     },
     "execution_count": 35,
     "metadata": {
      "tags": []
     },
     "output_type": "execute_result"
    }
   ],
   "source": [
    "tensor.double()"
   ]
  },
  {
   "cell_type": "code",
   "execution_count": 36,
   "id": "juvenile-saskatchewan",
   "metadata": {
    "id": "FmiUGVEh2clV"
   },
   "outputs": [],
   "source": [
    "import numpy as np"
   ]
  },
  {
   "cell_type": "code",
   "execution_count": 37,
   "id": "contained-luther",
   "metadata": {
    "id": "C1WwDwuI2gRX"
   },
   "outputs": [],
   "source": [
    "np_array = np.array([[1,2,3],[4,5,6]])"
   ]
  },
  {
   "cell_type": "code",
   "execution_count": 38,
   "id": "aerial-advocate",
   "metadata": {
    "colab": {
     "base_uri": "https://localhost:8080/"
    },
    "id": "0plh68W123-2",
    "outputId": "6d47bb7a-305e-4e59-aa3e-c570629d53bc"
   },
   "outputs": [
    {
     "data": {
      "text/plain": [
       "array([[1, 2, 3],\n",
       "       [4, 5, 6]])"
      ]
     },
     "execution_count": 38,
     "metadata": {
      "tags": []
     },
     "output_type": "execute_result"
    }
   ],
   "source": [
    "np_array"
   ]
  },
  {
   "cell_type": "code",
   "execution_count": 39,
   "id": "agreed-marine",
   "metadata": {
    "id": "LQyv76xH2qSm"
   },
   "outputs": [],
   "source": [
    "torch_array=torch.from_numpy(np_array)"
   ]
  },
  {
   "cell_type": "code",
   "execution_count": 40,
   "id": "classified-review",
   "metadata": {
    "colab": {
     "base_uri": "https://localhost:8080/"
    },
    "id": "pzchR8yw21_2",
    "outputId": "f31ae619-1903-42de-98a2-64d5393066e8"
   },
   "outputs": [
    {
     "data": {
      "text/plain": [
       "tensor([[1, 2, 3],\n",
       "        [4, 5, 6]])"
      ]
     },
     "execution_count": 40,
     "metadata": {
      "tags": []
     },
     "output_type": "execute_result"
    }
   ],
   "source": [
    "torch_array"
   ]
  },
  {
   "cell_type": "code",
   "execution_count": 41,
   "id": "located-begin",
   "metadata": {
    "id": "ZSbOb6oh28J0"
   },
   "outputs": [],
   "source": [
    "np_array_back = torch_array.numpy()"
   ]
  },
  {
   "cell_type": "code",
   "execution_count": 42,
   "id": "durable-entity",
   "metadata": {
    "colab": {
     "base_uri": "https://localhost:8080/"
    },
    "id": "OAD0vc-T3CNE",
    "outputId": "f27a6f5f-f11c-40c3-d1f8-cc668869a6d6"
   },
   "outputs": [
    {
     "data": {
      "text/plain": [
       "array([[1, 2, 3],\n",
       "       [4, 5, 6]])"
      ]
     },
     "execution_count": 42,
     "metadata": {
      "tags": []
     },
     "output_type": "execute_result"
    }
   ],
   "source": [
    "np_array_back"
   ]
  },
  {
   "cell_type": "markdown",
   "id": "confirmed-leonard",
   "metadata": {
    "id": "q5PalrLW3TxN"
   },
   "source": [
    "<h1> Tensor math and comparison operators <h1>"
   ]
  },
  {
   "cell_type": "code",
   "execution_count": 43,
   "id": "scenic-composite",
   "metadata": {
    "id": "o-aW8IHe3LNT"
   },
   "outputs": [],
   "source": [
    "x = torch.tensor([1,2,3])\n",
    "y=torch.tensor([9,8,7])"
   ]
  },
  {
   "cell_type": "markdown",
   "id": "subsequent-london",
   "metadata": {
    "id": "9H0dOJVK3uht"
   },
   "source": [
    "<h1>Addition<h1>\n"
   ]
  },
  {
   "cell_type": "code",
   "execution_count": 44,
   "id": "aerial-cutting",
   "metadata": {
    "colab": {
     "base_uri": "https://localhost:8080/"
    },
    "id": "n_PzQZtg3qdS",
    "outputId": "97cec701-d11a-473c-9510-d5f769cfb0da"
   },
   "outputs": [
    {
     "data": {
      "text/plain": [
       "tensor([10., 10., 10.])"
      ]
     },
     "execution_count": 44,
     "metadata": {
      "tags": []
     },
     "output_type": "execute_result"
    }
   ],
   "source": [
    "z1 = torch.empty(3)\n",
    "torch.add(x,y,out=z1)"
   ]
  },
  {
   "cell_type": "code",
   "execution_count": 45,
   "id": "immediate-workstation",
   "metadata": {
    "id": "XCw-iYz44KWT"
   },
   "outputs": [],
   "source": [
    "z2=torch.add(x,y)"
   ]
  },
  {
   "cell_type": "code",
   "execution_count": 46,
   "id": "engaging-reynolds",
   "metadata": {
    "colab": {
     "base_uri": "https://localhost:8080/"
    },
    "id": "4lt-t3Yu4O-S",
    "outputId": "f0a680c4-7ece-45f3-b02c-4adc0efe8075"
   },
   "outputs": [
    {
     "data": {
      "text/plain": [
       "tensor([10, 10, 10])"
      ]
     },
     "execution_count": 46,
     "metadata": {
      "tags": []
     },
     "output_type": "execute_result"
    }
   ],
   "source": [
    "z2"
   ]
  },
  {
   "cell_type": "code",
   "execution_count": 47,
   "id": "concerned-chile",
   "metadata": {
    "id": "h4O8hXkp4Ptw"
   },
   "outputs": [],
   "source": [
    "z=x+y"
   ]
  },
  {
   "cell_type": "code",
   "execution_count": 48,
   "id": "complimentary-yorkshire",
   "metadata": {
    "colab": {
     "base_uri": "https://localhost:8080/"
    },
    "id": "UkNpySss4S1j",
    "outputId": "59742d89-8f51-4725-e2eb-ab15f86e99a7"
   },
   "outputs": [
    {
     "data": {
      "text/plain": [
       "tensor([10, 10, 10])"
      ]
     },
     "execution_count": 48,
     "metadata": {
      "tags": []
     },
     "output_type": "execute_result"
    }
   ],
   "source": [
    "z"
   ]
  },
  {
   "cell_type": "markdown",
   "id": "fantastic-partner",
   "metadata": {
    "id": "cpmGmC_k4epj"
   },
   "source": [
    "<h1>Subtraction<h1>"
   ]
  },
  {
   "cell_type": "code",
   "execution_count": 49,
   "id": "native-insulation",
   "metadata": {
    "colab": {
     "base_uri": "https://localhost:8080/"
    },
    "id": "OZZ1lwzv4Y6E",
    "outputId": "ec572b41-cb54-48c0-cb04-de728aca471a"
   },
   "outputs": [
    {
     "data": {
      "text/plain": [
       "tensor([-8, -6, -4])"
      ]
     },
     "execution_count": 49,
     "metadata": {
      "tags": []
     },
     "output_type": "execute_result"
    }
   ],
   "source": [
    "z = x-y\n",
    "z"
   ]
  },
  {
   "cell_type": "code",
   "execution_count": 50,
   "id": "strange-pharmaceutical",
   "metadata": {
    "colab": {
     "base_uri": "https://localhost:8080/"
    },
    "id": "LRRvQJ-Q4jrg",
    "outputId": "0c959d78-7c3e-4f52-8f03-69e7e29b4aad"
   },
   "outputs": [
    {
     "data": {
      "text/plain": [
       "tensor([0.1111, 0.2500, 0.4286])"
      ]
     },
     "execution_count": 50,
     "metadata": {
      "tags": []
     },
     "output_type": "execute_result"
    }
   ],
   "source": [
    "#division\n",
    "z=torch.true_divide(x,y)\n",
    "z"
   ]
  },
  {
   "cell_type": "code",
   "execution_count": 51,
   "id": "differential-hebrew",
   "metadata": {
    "colab": {
     "base_uri": "https://localhost:8080/"
    },
    "id": "-FeC0dQ-4vPw",
    "outputId": "610bb6f7-e6ee-4332-e857-4bd7c86010d3"
   },
   "outputs": [
    {
     "data": {
      "text/plain": [
       "tensor([1., 2., 3.])"
      ]
     },
     "execution_count": 51,
     "metadata": {
      "tags": []
     },
     "output_type": "execute_result"
    }
   ],
   "source": [
    "#inplace operation\n",
    "t=torch.zeros(3)\n",
    "t.add_(x)\n",
    "t"
   ]
  },
  {
   "cell_type": "code",
   "execution_count": 52,
   "id": "sonic-kruger",
   "metadata": {
    "colab": {
     "base_uri": "https://localhost:8080/"
    },
    "id": "TYvs_BU85BUh",
    "outputId": "b7f5bf86-9110-4345-891b-cbf004e70138"
   },
   "outputs": [
    {
     "data": {
      "text/plain": [
       "tensor([1, 4, 9])"
      ]
     },
     "execution_count": 52,
     "metadata": {
      "tags": []
     },
     "output_type": "execute_result"
    }
   ],
   "source": [
    "#exponentiation\n",
    "z=x.pow(2)\n",
    "z"
   ]
  },
  {
   "cell_type": "code",
   "execution_count": 53,
   "id": "searching-bobby",
   "metadata": {
    "colab": {
     "base_uri": "https://localhost:8080/"
    },
    "id": "ofUYMezC5LER",
    "outputId": "3a991cde-6d5f-4059-a1f0-0bb533d9ef25"
   },
   "outputs": [
    {
     "data": {
      "text/plain": [
       "tensor([False, False, False])"
      ]
     },
     "execution_count": 53,
     "metadata": {
      "tags": []
     },
     "output_type": "execute_result"
    }
   ],
   "source": [
    "#simple comparison\n",
    "z= x>0\n",
    "z\n",
    "z=x<=0\n",
    "z"
   ]
  },
  {
   "cell_type": "code",
   "execution_count": 54,
   "id": "complex-innocent",
   "metadata": {
    "colab": {
     "base_uri": "https://localhost:8080/"
    },
    "id": "kR49BwEm5WYQ",
    "outputId": "94bdee79-6e56-4fb8-f0b7-208b9a1a7469"
   },
   "outputs": [
    {
     "name": "stdout",
     "output_type": "stream",
     "text": [
      "tensor([[1.1205, 1.2350, 0.8630],\n",
      "        [0.9560, 1.2329, 0.7818]]) tensor([[1.1205, 1.2350, 0.8630],\n",
      "        [0.9560, 1.2329, 0.7818]])\n"
     ]
    }
   ],
   "source": [
    "#matrix multiplication\n",
    "x1 = torch.rand((2,5))\n",
    "x2= torch.rand((5,3))\n",
    "x3=torch.mm(x1,x2)\n",
    "x4=x1.mm(x2)\n",
    "print(x3,x4)"
   ]
  },
  {
   "cell_type": "code",
   "execution_count": 55,
   "id": "elect-hydrogen",
   "metadata": {
    "colab": {
     "base_uri": "https://localhost:8080/"
    },
    "id": "ZQDWYIEu5nD9",
    "outputId": "c1fb8668-01fc-4ac8-9fb0-012b66cfcd76"
   },
   "outputs": [
    {
     "data": {
      "text/plain": [
       "tensor([[2.6228, 4.0148, 4.0274, 5.0467, 3.6335],\n",
       "        [1.1234, 1.7090, 1.7235, 2.1535, 1.4865],\n",
       "        [2.6943, 4.1142, 4.1125, 5.1453, 3.7083],\n",
       "        [2.4524, 3.7376, 3.8476, 4.7665, 3.2743],\n",
       "        [1.2965, 2.0127, 1.8411, 2.4082, 2.0381]])"
      ]
     },
     "execution_count": 55,
     "metadata": {
      "tags": []
     },
     "output_type": "execute_result"
    }
   ],
   "source": [
    "#matrix exponentiation\n",
    "matrix_exp = torch.rand((5,5))\n",
    "matrix_exp.matrix_power(3)"
   ]
  },
  {
   "cell_type": "code",
   "execution_count": 56,
   "id": "double-ordinary",
   "metadata": {
    "colab": {
     "base_uri": "https://localhost:8080/"
    },
    "id": "1ez_G9Nf6L6s",
    "outputId": "39a1fb1c-0b65-4f46-cd46-97ed9748960c"
   },
   "outputs": [
    {
     "data": {
      "text/plain": [
       "tensor([ 9, 16, 21])"
      ]
     },
     "execution_count": 56,
     "metadata": {
      "tags": []
     },
     "output_type": "execute_result"
    }
   ],
   "source": [
    "#elementwise\n",
    "z = x*y\n",
    "z"
   ]
  },
  {
   "cell_type": "code",
   "execution_count": 57,
   "id": "dangerous-chester",
   "metadata": {
    "colab": {
     "base_uri": "https://localhost:8080/"
    },
    "id": "lcIS1fBK6gvt",
    "outputId": "fbb5f0f9-063e-418c-ca9d-9905bfd34315"
   },
   "outputs": [
    {
     "data": {
      "text/plain": [
       "tensor(46)"
      ]
     },
     "execution_count": 57,
     "metadata": {
      "tags": []
     },
     "output_type": "execute_result"
    }
   ],
   "source": [
    "#dot product\n",
    "z= torch.dot(x,y)\n",
    "z"
   ]
  },
  {
   "cell_type": "code",
   "execution_count": 58,
   "id": "configured-catch",
   "metadata": {
    "colab": {
     "base_uri": "https://localhost:8080/"
    },
    "id": "p0NvufSv6wiz",
    "outputId": "35877c65-977a-4c54-aaa8-64a27e4777ba"
   },
   "outputs": [
    {
     "data": {
      "text/plain": [
       "tensor([[[5.1547, 6.1685, 5.4458,  ..., 3.9173, 5.1661, 3.9763],\n",
       "         [5.8688, 6.3839, 6.3506,  ..., 4.1184, 5.7413, 4.6787],\n",
       "         [4.5241, 4.7302, 4.2720,  ..., 2.5839, 3.1229, 3.6298],\n",
       "         ...,\n",
       "         [5.6624, 5.4470, 5.3483,  ..., 4.3805, 3.9904, 4.3218],\n",
       "         [4.2758, 4.9669, 5.1666,  ..., 3.9237, 4.7115, 4.5187],\n",
       "         [5.7712, 5.6763, 5.6009,  ..., 4.6951, 4.3443, 5.6542]],\n",
       "\n",
       "        [[4.8228, 4.5692, 3.4510,  ..., 4.4714, 4.4609, 4.9075],\n",
       "         [6.5658, 5.3739, 4.4767,  ..., 5.1485, 6.5346, 7.0477],\n",
       "         [4.6541, 5.0018, 3.1049,  ..., 4.3859, 4.2424, 5.0882],\n",
       "         ...,\n",
       "         [5.3366, 5.3971, 3.9449,  ..., 5.1791, 5.4910, 6.2391],\n",
       "         [5.3829, 5.0954, 4.2485,  ..., 5.1393, 5.0397, 5.6445],\n",
       "         [4.8028, 4.3808, 3.6138,  ..., 4.3202, 4.2196, 4.6441]],\n",
       "\n",
       "        [[5.4277, 5.1204, 3.5601,  ..., 5.7230, 5.4279, 5.0155],\n",
       "         [6.5057, 6.3444, 4.5111,  ..., 6.6467, 5.5804, 5.8242],\n",
       "         [3.8889, 4.5608, 3.9389,  ..., 5.3523, 4.8677, 3.7039],\n",
       "         ...,\n",
       "         [4.0249, 3.0772, 2.4260,  ..., 3.7775, 3.3881, 4.0202],\n",
       "         [5.5911, 4.7787, 3.9043,  ..., 5.9074, 4.4336, 4.3799],\n",
       "         [5.9005, 5.0504, 4.0434,  ..., 6.1611, 4.8891, 4.5186]],\n",
       "\n",
       "        ...,\n",
       "\n",
       "        [[4.3378, 4.0534, 4.2573,  ..., 4.8827, 4.5782, 4.2178],\n",
       "         [5.0661, 5.7471, 5.3626,  ..., 6.1801, 5.2555, 5.4750],\n",
       "         [5.2356, 5.7462, 6.3724,  ..., 5.7262, 4.4840, 4.1713],\n",
       "         ...,\n",
       "         [4.5881, 5.2548, 5.8494,  ..., 5.7523, 4.4299, 4.0673],\n",
       "         [4.9313, 5.2808, 5.1986,  ..., 5.7684, 4.7411, 4.5658],\n",
       "         [4.5546, 4.8210, 4.6934,  ..., 5.3504, 4.9506, 4.6941]],\n",
       "\n",
       "        [[5.1440, 4.2696, 3.8819,  ..., 4.3392, 5.1549, 5.3216],\n",
       "         [5.5507, 5.0077, 4.7868,  ..., 4.7045, 5.9297, 5.3975],\n",
       "         [5.0314, 4.6711, 4.8317,  ..., 5.0971, 6.2790, 5.6490],\n",
       "         ...,\n",
       "         [5.3762, 5.0063, 5.5717,  ..., 5.1657, 5.3728, 5.2393],\n",
       "         [4.7619, 4.0664, 4.4051,  ..., 4.2538, 5.4780, 4.7402],\n",
       "         [6.7634, 6.2550, 5.8702,  ..., 6.0694, 7.6810, 6.9450]],\n",
       "\n",
       "        [[4.8509, 5.7047, 4.7030,  ..., 5.6457, 4.3518, 5.5658],\n",
       "         [5.3386, 5.8731, 5.8681,  ..., 6.2022, 4.7082, 6.9832],\n",
       "         [4.1718, 4.9569, 4.1186,  ..., 5.1672, 4.0707, 4.9007],\n",
       "         ...,\n",
       "         [5.5647, 5.0243, 5.2019,  ..., 6.2022, 4.7914, 5.9063],\n",
       "         [4.9453, 5.5869, 4.7595,  ..., 5.0254, 4.4064, 6.2891],\n",
       "         [4.2815, 4.6091, 4.4495,  ..., 4.7104, 3.8026, 5.1051]]])"
      ]
     },
     "execution_count": 58,
     "metadata": {
      "tags": []
     },
     "output_type": "execute_result"
    }
   ],
   "source": [
    "#batch matrix multiplicatiom\n",
    "batch=32\n",
    "n=10\n",
    "m=20\n",
    "p=30\n",
    "\n",
    "tensor1=torch.rand((batch,n,m))\n",
    "tensor2 =torch.rand((batch,m,p))\n",
    "out_bmm = torch.bmm(tensor1,tensor2) #(n,p)\n",
    "out_bmm"
   ]
  },
  {
   "cell_type": "code",
   "execution_count": 62,
   "id": "korean-green",
   "metadata": {
    "colab": {
     "base_uri": "https://localhost:8080/"
    },
    "id": "znSenJH97hE7",
    "outputId": "b1e8921e-0db0-49fd-dd09-6943a178be3c"
   },
   "outputs": [
    {
     "name": "stdout",
     "output_type": "stream",
     "text": [
      "tensor([[ 0.5505, -0.1457,  0.2037, -0.3779,  0.0759],\n",
      "        [ 0.4556,  0.0691,  0.6525, -0.0155,  0.4704],\n",
      "        [ 0.7610, -0.2725,  0.7563, -0.9349,  0.0860],\n",
      "        [ 0.8018, -0.5027,  0.4831, -0.2680, -0.2130],\n",
      "        [ 0.3822, -0.2593,  0.9038, -0.8848,  0.2676]])\n"
     ]
    }
   ],
   "source": [
    "#example of broadcasting\n",
    "x1=torch.rand((5,5))\n",
    "x2=torch.rand((1,5))\n",
    "x3=x1-x2\n",
    "print(x3)\n",
    "\n",
    "\n"
   ]
  },
  {
   "cell_type": "code",
   "execution_count": 65,
   "id": "final-crystal",
   "metadata": {
    "colab": {
     "base_uri": "https://localhost:8080/"
    },
    "id": "rMfWfhleLXHN",
    "outputId": "915e3acc-18be-4f90-bdda-8ef822d6f17e"
   },
   "outputs": [
    {
     "name": "stdout",
     "output_type": "stream",
     "text": [
      "tensor([[0.0301, 0.3141, 0.0077, 0.5351, 0.2319],\n",
      "        [0.0254, 0.4512, 0.0224, 0.8773, 0.4075],\n",
      "        [0.0407, 0.2333, 0.0258, 0.0090, 0.2364],\n",
      "        [0.0427, 0.0864, 0.0169, 0.6388, 0.1033],\n",
      "        [0.0217, 0.2417, 0.0307, 0.0563, 0.3172]])\n"
     ]
    }
   ],
   "source": [
    "print(x1*x2)"
   ]
  },
  {
   "cell_type": "code",
   "execution_count": 72,
   "id": "failing-canal",
   "metadata": {
    "colab": {
     "base_uri": "https://localhost:8080/"
    },
    "id": "S9F96QqnLe3j",
    "outputId": "83d3592b-2ca8-4670-8447-9a2a24d7b7a7"
   },
   "outputs": [
    {
     "name": "stdout",
     "output_type": "stream",
     "text": [
      "tensor([ 6,  8, 10, 12])\n",
      "tensor([10, 26])\n",
      "tensor([1, 2, 3, 4])\n",
      "tensor([4, 8])\n",
      "tensor([1, 1, 1, 1])\n",
      "tensor([0, 0])\n",
      "tensor([3., 4., 5., 6.])\n",
      "tensor([[True, True, True, True],\n",
      "        [True, True, True, True]])\n",
      "tensor([[5, 6, 7, 8],\n",
      "        [1, 2, 3, 4]])\n",
      "tensor([[1, 2, 3, 4],\n",
      "        [5, 5, 5, 5]])\n"
     ]
    }
   ],
   "source": [
    "#---------------------Other_tensor_operation-----------------------\n",
    "x=torch.tensor([[1,2,3,4],[5,6,7,8]])\n",
    "y=x\n",
    "print(torch.sum(x,dim=0))\n",
    "print(torch.sum(x,dim=1))\n",
    "value,index=torch.min(x,dim=0)\n",
    "print(value)\n",
    "value,index=torch.max(x,dim=1)\n",
    "print(value)\n",
    "index=torch.argmax(x,dim=0)\n",
    "print(index)\n",
    "index=torch.argmin(x,dim=1)\n",
    "print(index)\n",
    "print(torch.mean(x.float(),dim=0))\n",
    "print(torch.eq(x,y))\n",
    "value,index=torch.sort(x,dim=0,descending=True)\n",
    "print(value)\n",
    "print(torch.clamp(x,min=0,max=5))"
   ]
  },
  {
   "cell_type": "markdown",
   "id": "smart-middle",
   "metadata": {
    "id": "S_gZa4M6RrRS"
   },
   "source": [
    "<h1>-----------tensor_indexing-------------</h1>"
   ]
  },
  {
   "cell_type": "code",
   "execution_count": 73,
   "id": "unavailable-fields",
   "metadata": {
    "id": "p6Dfwl_XNomN"
   },
   "outputs": [],
   "source": [
    "batch_size = 10\n",
    "feature=25\n",
    "z = torch.rand((batch_size,feature))"
   ]
  },
  {
   "cell_type": "code",
   "execution_count": 74,
   "id": "expired-estimate",
   "metadata": {
    "colab": {
     "base_uri": "https://localhost:8080/"
    },
    "id": "QrFx3Bh3SRIl",
    "outputId": "afcd1274-cc2f-4f67-86cc-b4392095e8f0"
   },
   "outputs": [
    {
     "name": "stdout",
     "output_type": "stream",
     "text": [
      "torch.Size([25])\n"
     ]
    }
   ],
   "source": [
    "print(z[0].shape)  # x[0,:]"
   ]
  },
  {
   "cell_type": "code",
   "execution_count": 75,
   "id": "known-blackberry",
   "metadata": {
    "colab": {
     "base_uri": "https://localhost:8080/"
    },
    "id": "c2Z3M3s4SW4D",
    "outputId": "da49002a-84ba-4fbc-aa60-9c6f5583fc37"
   },
   "outputs": [
    {
     "name": "stdout",
     "output_type": "stream",
     "text": [
      "torch.Size([10])\n"
     ]
    }
   ],
   "source": [
    "#print first feature\n",
    "print(z[:,0].shape)"
   ]
  },
  {
   "cell_type": "code",
   "execution_count": 76,
   "id": "going-specific",
   "metadata": {
    "colab": {
     "base_uri": "https://localhost:8080/"
    },
    "id": "J1K0KbskSvQy",
    "outputId": "32800742-9ab2-48d0-ff92-6fc4d81b1573"
   },
   "outputs": [
    {
     "name": "stdout",
     "output_type": "stream",
     "text": [
      "tensor([0.1097, 0.7228, 0.8232, 0.9657, 0.8420, 0.2481, 0.8307, 0.8442, 0.6629,\n",
      "        0.0557])\n"
     ]
    }
   ],
   "source": [
    "#get 3rd ex up to 10 feature\n",
    "print(z[2,0:10])"
   ]
  },
  {
   "cell_type": "code",
   "execution_count": 78,
   "id": "middle-maintenance",
   "metadata": {
    "colab": {
     "base_uri": "https://localhost:8080/"
    },
    "id": "GBD3wmooTC0P",
    "outputId": "dbc72be7-7034-4dd4-a84e-0867f9ff5c46"
   },
   "outputs": [
    {
     "name": "stdout",
     "output_type": "stream",
     "text": [
      "tensor(100.)\n"
     ]
    }
   ],
   "source": [
    "#you can assign value to the tensor\n",
    "z[0,0]=100\n",
    "print(z[0,0])"
   ]
  },
  {
   "cell_type": "code",
   "execution_count": 81,
   "id": "violent-neighborhood",
   "metadata": {
    "colab": {
     "base_uri": "https://localhost:8080/"
    },
    "id": "bT3Vg9vdTaye",
    "outputId": "248a37b4-76c8-44c6-c24b-95eee052f078"
   },
   "outputs": [
    {
     "name": "stdout",
     "output_type": "stream",
     "text": [
      "tensor([2, 5, 8])\n",
      "tensor([0.2769, 0.5394])\n"
     ]
    }
   ],
   "source": [
    "# Fancy Indexing\n",
    "x=torch.arange(10)\n",
    "indices = [2,5,8]\n",
    "print(x[indices])\n",
    "x=torch.rand((3,5))\n",
    "rows = torch.tensor([1,0])\n",
    "cols=torch.tensor([4,0])\n",
    "print(x[rows,cols])"
   ]
  },
  {
   "cell_type": "code",
   "execution_count": 85,
   "id": "expensive-brick",
   "metadata": {
    "colab": {
     "base_uri": "https://localhost:8080/"
    },
    "id": "sy4eKsy_T0O_",
    "outputId": "48a48a8e-cc49-4723-fb89-0c87d112a4e5"
   },
   "outputs": [
    {
     "name": "stdout",
     "output_type": "stream",
     "text": [
      "tensor([0, 1, 9])\n"
     ]
    }
   ],
   "source": [
    "# more advance indexing\n",
    "x=torch.arange(10)\n",
    "print(x[(x<2) | (x>8)])"
   ]
  },
  {
   "cell_type": "code",
   "execution_count": 86,
   "id": "trying-journal",
   "metadata": {
    "colab": {
     "base_uri": "https://localhost:8080/"
    },
    "id": "K98XkiRdVGRd",
    "outputId": "1d2f63c9-32a7-42d2-f52e-23ea4855b024"
   },
   "outputs": [
    {
     "name": "stdout",
     "output_type": "stream",
     "text": [
      "tensor([0, 2, 4, 6, 8])\n"
     ]
    }
   ],
   "source": [
    "print(x[x.remainder(2)==0])"
   ]
  },
  {
   "cell_type": "code",
   "execution_count": 88,
   "id": "fossil-triumph",
   "metadata": {
    "colab": {
     "base_uri": "https://localhost:8080/"
    },
    "id": "J0GAT4iXVfvL",
    "outputId": "2aa24cd7-4c84-4b66-c2f6-88ef37d64e1a"
   },
   "outputs": [
    {
     "name": "stdout",
     "output_type": "stream",
     "text": [
      "tensor([ 0,  2,  4,  6,  8, 10,  6,  7,  8,  9])\n",
      "tensor([0, 1, 2, 3])\n",
      "1\n"
     ]
    }
   ],
   "source": [
    "#useful Operation\n",
    "print(torch.where(x>5,x,x*2))\n",
    "print(torch.tensor([0,0,1,1,2,3,3]).unique())\n",
    "print(x.ndimension())"
   ]
  },
  {
   "cell_type": "code",
   "execution_count": 89,
   "id": "recorded-graphic",
   "metadata": {
    "colab": {
     "base_uri": "https://localhost:8080/"
    },
    "id": "uHQkmLywVyTb",
    "outputId": "ea91e05b-e4c0-493d-cb61-7f0287d609a5"
   },
   "outputs": [
    {
     "name": "stdout",
     "output_type": "stream",
     "text": [
      "10\n"
     ]
    }
   ],
   "source": [
    "print(x.numel())"
   ]
  },
  {
   "cell_type": "markdown",
   "id": "novel-philip",
   "metadata": {
    "id": "-OB6d_ZWWT91"
   },
   "source": [
    "<h1>-------------reshaping matrix--------</h1>"
   ]
  },
  {
   "cell_type": "code",
   "execution_count": 90,
   "id": "single-electron",
   "metadata": {
    "colab": {
     "base_uri": "https://localhost:8080/"
    },
    "id": "F3UX10MfWOxo",
    "outputId": "395de62c-f388-4ca0-9bed-089a10c7f217"
   },
   "outputs": [
    {
     "name": "stdout",
     "output_type": "stream",
     "text": [
      "tensor([[0, 1, 2],\n",
      "        [3, 4, 5],\n",
      "        [6, 7, 8]])\n",
      "tensor([[0, 1, 2],\n",
      "        [3, 4, 5],\n",
      "        [6, 7, 8]])\n"
     ]
    }
   ],
   "source": [
    "x = torch.arange(9)\n",
    "x_3x3=x.view(3,3) #need contiguous memory\n",
    "print(x_3x3)\n",
    "x_3x3=x.reshape(3,3)\n",
    "print(x_3x3)"
   ]
  },
  {
   "cell_type": "code",
   "execution_count": 92,
   "id": "sorted-stations",
   "metadata": {
    "colab": {
     "base_uri": "https://localhost:8080/"
    },
    "id": "V5PhS6JuW_NU",
    "outputId": "3e645ac9-f2f7-42de-aae2-6d7775d1978d"
   },
   "outputs": [
    {
     "data": {
      "text/plain": [
       "tensor([0, 3, 6, 1, 4, 7, 2, 5, 8])"
      ]
     },
     "execution_count": 92,
     "metadata": {
      "tags": []
     },
     "output_type": "execute_result"
    }
   ],
   "source": [
    "y=x_3x3.t()\n",
    "y.flatten()"
   ]
  },
  {
   "cell_type": "code",
   "execution_count": 94,
   "id": "automatic-stretch",
   "metadata": {
    "colab": {
     "base_uri": "https://localhost:8080/"
    },
    "id": "8zeVQ65KXQ-z",
    "outputId": "64c40e62-916c-43e9-f2d3-ad519b1c0116"
   },
   "outputs": [
    {
     "name": "stdout",
     "output_type": "stream",
     "text": [
      "torch.Size([4, 5])\n",
      "torch.Size([2, 10])\n"
     ]
    }
   ],
   "source": [
    "x1 = torch.rand((2,5))\n",
    "x2= torch.rand((2,5))\n",
    "print(torch.cat((x1,x2),dim=0).shape) #vertically stack\n",
    "print(torch.cat((x1,x2),dim=1).shape) #h stack"
   ]
  },
  {
   "cell_type": "code",
   "execution_count": 95,
   "id": "moral-wagner",
   "metadata": {
    "colab": {
     "base_uri": "https://localhost:8080/"
    },
    "id": "9DYeKwATYCRR",
    "outputId": "e674c735-0c24-4332-9f0c-b3b1738f9346"
   },
   "outputs": [
    {
     "name": "stdout",
     "output_type": "stream",
     "text": [
      "torch.Size([64, 10])\n"
     ]
    }
   ],
   "source": [
    "batch = 64\n",
    "x =  torch.rand((batch,2,5))\n",
    "z =x.view(batch,-1)\n",
    "print(z.shape)"
   ]
  },
  {
   "cell_type": "code",
   "execution_count": 96,
   "id": "entertaining-bronze",
   "metadata": {
    "colab": {
     "base_uri": "https://localhost:8080/"
    },
    "id": "Nph2UHnYYzLz",
    "outputId": "a3298940-3f1a-4e65-fa5c-1276c4ab3c3d"
   },
   "outputs": [
    {
     "name": "stdout",
     "output_type": "stream",
     "text": [
      "torch.Size([64, 5, 2])\n"
     ]
    }
   ],
   "source": [
    "#switch axis while keeping batch\n",
    "z= x.permute(0,2,1)\n",
    "print(z.shape)"
   ]
  },
  {
   "cell_type": "code",
   "execution_count": 2,
   "id": "therapeutic-resolution",
   "metadata": {
    "colab": {
     "base_uri": "https://localhost:8080/"
    },
    "id": "jYLU8Q6jZHLQ",
    "outputId": "9f1c679a-e25f-46ab-f67f-f68840ab9b9f"
   },
   "outputs": [
    {
     "name": "stdout",
     "output_type": "stream",
     "text": [
      "torch.Size([1, 10])\n",
      "torch.Size([10, 1])\n"
     ]
    }
   ],
   "source": [
    "x = torch.arange(10)  #[0,1,2,...,9]\n",
    "print(x.unsqueeze(0).shape) #[1,10]\n",
    "print(x.unsqueeze(1).shape)  #[10,1]"
   ]
  },
  {
   "cell_type": "code",
   "execution_count": null,
   "id": "suburban-kelly",
   "metadata": {},
   "outputs": [],
   "source": []
  }
 ],
 "metadata": {
  "accelerator": "GPU",
  "colab": {
   "name": "basic.ipynb",
   "provenance": []
  },
  "kernelspec": {
   "display_name": "Python 3",
   "language": "python",
   "name": "python3"
  },
  "language_info": {
   "codemirror_mode": {
    "name": "ipython",
    "version": 3
   },
   "file_extension": ".py",
   "mimetype": "text/x-python",
   "name": "python",
   "nbconvert_exporter": "python",
   "pygments_lexer": "ipython3",
   "version": "3.8.8"
  }
 },
 "nbformat": 4,
 "nbformat_minor": 5
}
