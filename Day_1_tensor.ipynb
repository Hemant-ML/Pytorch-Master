{
  "nbformat": 4,
  "nbformat_minor": 5,
  "metadata": {
    "accelerator": "TPU",
    "colab": {
      "name": "Day_1_tensor.ipynb",
      "provenance": [],
      "collapsed_sections": [],
      "include_colab_link": true
    },
    "kernelspec": {
      "display_name": "Python 3",
      "language": "python",
      "name": "python3"
    },
    "language_info": {
      "codemirror_mode": {
        "name": "ipython",
        "version": 3
      },
      "file_extension": ".py",
      "mimetype": "text/x-python",
      "name": "python",
      "nbconvert_exporter": "python",
      "pygments_lexer": "ipython3",
      "version": "3.8.8"
    }
  },
  "cells": [
    {
      "cell_type": "markdown",
      "metadata": {
        "id": "view-in-github",
        "colab_type": "text"
      },
      "source": [
        "<a href=\"https://colab.research.google.com/github/Hemant-ML/Pytorch-Master/blob/main/Day_1_tensor.ipynb\" target=\"_parent\"><img src=\"https://colab.research.google.com/assets/colab-badge.svg\" alt=\"Open In Colab\"/></a>"
      ]
    },
    {
      "cell_type": "markdown",
      "metadata": {
        "id": "chubby-bookmark"
      },
      "source": [
        "<h1>Importing libraries</h1>"
      ],
      "id": "chubby-bookmark"
    },
    {
      "cell_type": "code",
      "metadata": {
        "id": "conditional-teach",
        "colab": {
          "base_uri": "https://localhost:8080/"
        },
        "outputId": "9fbabc4f-e23a-433a-c2bf-2537ebe2def7"
      },
      "source": [
        "import torch\n",
        "import numpy as np\n",
        "import matplotlib.pyplot as plt\n",
        "\n",
        "torch.manual_seed(123)"
      ],
      "id": "conditional-teach",
      "execution_count": 1,
      "outputs": [
        {
          "output_type": "execute_result",
          "data": {
            "text/plain": [
              "<torch._C.Generator at 0x7f17085f1a10>"
            ]
          },
          "metadata": {
            "tags": []
          },
          "execution_count": 1
        }
      ]
    },
    {
      "cell_type": "markdown",
      "metadata": {
        "id": "dominant-bristol"
      },
      "source": [
        "<h1>Initializing Tensor<h1>"
      ],
      "id": "dominant-bristol"
    },
    {
      "cell_type": "code",
      "metadata": {
        "id": "herbal-graphic"
      },
      "source": [
        "device = torch.device(\"cuda\" if torch.cuda.is_available() else \"cpu\")"
      ],
      "id": "herbal-graphic",
      "execution_count": 2,
      "outputs": []
    },
    {
      "cell_type": "code",
      "metadata": {
        "id": "loaded-january"
      },
      "source": [
        "my_tensor = torch.tensor([[1,2,3],[4,5,6],[7,8,9]],dtype=torch.float32,device=device)"
      ],
      "id": "loaded-january",
      "execution_count": 3,
      "outputs": []
    },
    {
      "cell_type": "code",
      "metadata": {
        "colab": {
          "base_uri": "https://localhost:8080/"
        },
        "id": "invalid-plenty",
        "outputId": "47d0385c-046a-4cdc-f676-21fec03fd886"
      },
      "source": [
        "print(my_tensor)"
      ],
      "id": "invalid-plenty",
      "execution_count": 4,
      "outputs": [
        {
          "output_type": "stream",
          "text": [
            "tensor([[1., 2., 3.],\n",
            "        [4., 5., 6.],\n",
            "        [7., 8., 9.]])\n"
          ],
          "name": "stdout"
        }
      ]
    },
    {
      "cell_type": "code",
      "metadata": {
        "colab": {
          "base_uri": "https://localhost:8080/"
        },
        "id": "ancient-thong",
        "outputId": "ac65914a-1234-42ec-c094-be24800a2a47"
      },
      "source": [
        "print(my_tensor.dtype)"
      ],
      "id": "ancient-thong",
      "execution_count": 5,
      "outputs": [
        {
          "output_type": "stream",
          "text": [
            "torch.float32\n"
          ],
          "name": "stdout"
        }
      ]
    },
    {
      "cell_type": "code",
      "metadata": {
        "colab": {
          "base_uri": "https://localhost:8080/"
        },
        "id": "specified-space",
        "outputId": "7be2013c-7d02-4d50-dfc5-eea12ecfa191"
      },
      "source": [
        "print(my_tensor.device)"
      ],
      "id": "specified-space",
      "execution_count": 6,
      "outputs": [
        {
          "output_type": "stream",
          "text": [
            "cpu\n"
          ],
          "name": "stdout"
        }
      ]
    },
    {
      "cell_type": "code",
      "metadata": {
        "colab": {
          "base_uri": "https://localhost:8080/"
        },
        "id": "systematic-conditioning",
        "outputId": "ccc64bc5-af2a-4ffa-89b4-d8aecf2de0c4"
      },
      "source": [
        "print(my_tensor.shape)"
      ],
      "id": "systematic-conditioning",
      "execution_count": 9,
      "outputs": [
        {
          "output_type": "stream",
          "text": [
            "torch.Size([3, 3])\n"
          ],
          "name": "stdout"
        }
      ]
    },
    {
      "cell_type": "markdown",
      "metadata": {
        "id": "abstract-publisher"
      },
      "source": [
        "<h1>other initialization methods<h1>"
      ],
      "id": "abstract-publisher"
    },
    {
      "cell_type": "code",
      "metadata": {
        "id": "refined-sigma"
      },
      "source": [
        "x = torch.empty(3,3)"
      ],
      "id": "refined-sigma",
      "execution_count": 13,
      "outputs": []
    },
    {
      "cell_type": "code",
      "metadata": {
        "id": "proof-ribbon"
      },
      "source": [
        "x1 = torch.zeros((3,3))"
      ],
      "id": "proof-ribbon",
      "execution_count": 14,
      "outputs": []
    },
    {
      "cell_type": "code",
      "metadata": {
        "colab": {
          "base_uri": "https://localhost:8080/"
        },
        "id": "thick-office",
        "outputId": "677fd126-1bc0-4877-b5c4-dc20447c525b"
      },
      "source": [
        "print(x,x1)"
      ],
      "id": "thick-office",
      "execution_count": 15,
      "outputs": [
        {
          "output_type": "stream",
          "text": [
            "tensor([[4.9684e-16, 3.0698e-41, 0.0000e+00],\n",
            "        [0.0000e+00, 7.8473e-44, 0.0000e+00],\n",
            "        [2.2421e-44, 2.2421e-44, 1.4013e-45]]) tensor([[0., 0., 0.],\n",
            "        [0., 0., 0.],\n",
            "        [0., 0., 0.]])\n"
          ],
          "name": "stdout"
        }
      ]
    },
    {
      "cell_type": "code",
      "metadata": {
        "id": "elect-replication",
        "colab": {
          "base_uri": "https://localhost:8080/"
        },
        "outputId": "790a2e98-ac9e-43ff-8604-e5ae42d95a27"
      },
      "source": [
        "#number taken from normal distribution. By default mean=0 and std=1\n",
        "y=torch.randn(3,3).normal_(mean=0,std=1)\n",
        "y\n"
      ],
      "id": "elect-replication",
      "execution_count": 23,
      "outputs": [
        {
          "output_type": "execute_result",
          "data": {
            "text/plain": [
              "tensor([[ 0.9670,  1.0445,  1.3972],\n",
              "        [-0.9484, -0.2061,  1.3361],\n",
              "        [ 0.1918, -0.0500,  2.0325]])"
            ]
          },
          "metadata": {
            "tags": []
          },
          "execution_count": 23
        }
      ]
    },
    {
      "cell_type": "code",
      "metadata": {
        "colab": {
          "base_uri": "https://localhost:8080/"
        },
        "id": "still-rainbow",
        "outputId": "6411f934-becf-4261-c0b7-65521429be3e"
      },
      "source": [
        "#no taken from uniform disstribution [0,1]\n",
        "y1=torch.rand(3,3).uniform_(0,1)\n",
        "y1"
      ],
      "id": "still-rainbow",
      "execution_count": 25,
      "outputs": [
        {
          "output_type": "execute_result",
          "data": {
            "text/plain": [
              "tensor([[0.9308, 0.0890, 0.4759],\n",
              "        [0.5104, 0.5840, 0.1227],\n",
              "        [0.9587, 0.9914, 0.1547]])"
            ]
          },
          "metadata": {
            "tags": []
          },
          "execution_count": 25
        }
      ]
    },
    {
      "cell_type": "code",
      "metadata": {
        "id": "continental-transportation",
        "colab": {
          "base_uri": "https://localhost:8080/"
        },
        "outputId": "28047409-e6b1-4708-b656-8d288a16fdb5"
      },
      "source": [
        "y= torch.ones_like(y1)\n",
        "y"
      ],
      "id": "continental-transportation",
      "execution_count": 26,
      "outputs": [
        {
          "output_type": "execute_result",
          "data": {
            "text/plain": [
              "tensor([[1., 1., 1.],\n",
              "        [1., 1., 1.],\n",
              "        [1., 1., 1.]])"
            ]
          },
          "metadata": {
            "tags": []
          },
          "execution_count": 26
        }
      ]
    },
    {
      "cell_type": "code",
      "metadata": {
        "id": "japanese-fleet",
        "colab": {
          "base_uri": "https://localhost:8080/"
        },
        "outputId": "31148b9d-0ccf-4c78-9cf2-83d502b01d56"
      },
      "source": [
        "y=torch.eye(3)\n",
        "y"
      ],
      "id": "japanese-fleet",
      "execution_count": 27,
      "outputs": [
        {
          "output_type": "execute_result",
          "data": {
            "text/plain": [
              "tensor([[1., 0., 0.],\n",
              "        [0., 1., 0.],\n",
              "        [0., 0., 1.]])"
            ]
          },
          "metadata": {
            "tags": []
          },
          "execution_count": 27
        }
      ]
    },
    {
      "cell_type": "code",
      "metadata": {
        "id": "cellular-reader",
        "colab": {
          "base_uri": "https://localhost:8080/"
        },
        "outputId": "af83550a-8895-4cfe-ac37-c9c6518bbfe4"
      },
      "source": [
        "#torch.arange(start,end,step_size)\n",
        "y=torch.arange(0,10,2)\n",
        "y"
      ],
      "id": "cellular-reader",
      "execution_count": 28,
      "outputs": [
        {
          "output_type": "execute_result",
          "data": {
            "text/plain": [
              "tensor([0, 2, 4, 6, 8])"
            ]
          },
          "metadata": {
            "tags": []
          },
          "execution_count": 28
        }
      ]
    },
    {
      "cell_type": "code",
      "metadata": {
        "id": "social-navigator",
        "colab": {
          "base_uri": "https://localhost:8080/"
        },
        "outputId": "718b4178-9e16-4d83-d90a-29975704f551"
      },
      "source": [
        "\n",
        "x = torch.linspace(start=0.1,end=1,steps=10)\n",
        "x"
      ],
      "id": "social-navigator",
      "execution_count": 29,
      "outputs": [
        {
          "output_type": "execute_result",
          "data": {
            "text/plain": [
              "tensor([0.1000, 0.2000, 0.3000, 0.4000, 0.5000, 0.6000, 0.7000, 0.8000, 0.9000,\n",
              "        1.0000])"
            ]
          },
          "metadata": {
            "tags": []
          },
          "execution_count": 29
        }
      ]
    },
    {
      "cell_type": "code",
      "metadata": {
        "id": "medium-numbers",
        "colab": {
          "base_uri": "https://localhost:8080/"
        },
        "outputId": "8a90eff0-7f36-43d3-a18a-6b9a6a0f99ed"
      },
      "source": [
        "y = torch.empty(3,3).normal_(mean=0,std=1)\n",
        "\n",
        "y"
      ],
      "id": "medium-numbers",
      "execution_count": 30,
      "outputs": [
        {
          "output_type": "execute_result",
          "data": {
            "text/plain": [
              "tensor([[ 1.1383,  1.5213, -0.8358],\n",
              "        [ 1.0691,  0.3342,  0.1524],\n",
              "        [ 1.0854, -0.2531, -0.7194]])"
            ]
          },
          "metadata": {
            "tags": []
          },
          "execution_count": 30
        }
      ]
    },
    {
      "cell_type": "code",
      "metadata": {
        "id": "psychological-activation",
        "colab": {
          "base_uri": "https://localhost:8080/"
        },
        "outputId": "a1f9ae4c-2bff-456c-83ff-8e3eaa2d99ef"
      },
      "source": [
        "x=torch.empty(1,5).uniform_(0,1)\n",
        "x"
      ],
      "id": "psychological-activation",
      "execution_count": 31,
      "outputs": [
        {
          "output_type": "execute_result",
          "data": {
            "text/plain": [
              "tensor([[0.0532, 0.9964, 0.2377, 0.4616, 0.9079]])"
            ]
          },
          "metadata": {
            "tags": []
          },
          "execution_count": 31
        }
      ]
    },
    {
      "cell_type": "code",
      "metadata": {
        "id": "coastal-prison",
        "colab": {
          "base_uri": "https://localhost:8080/"
        },
        "outputId": "0a5999b4-42c6-4ac9-f3fe-e300c3d352af"
      },
      "source": [
        "x= torch.diag(y)\n",
        "x"
      ],
      "id": "coastal-prison",
      "execution_count": 32,
      "outputs": [
        {
          "output_type": "execute_result",
          "data": {
            "text/plain": [
              "tensor([ 1.1383,  0.3342, -0.7194])"
            ]
          },
          "metadata": {
            "tags": []
          },
          "execution_count": 32
        }
      ]
    },
    {
      "cell_type": "markdown",
      "metadata": {
        "id": "previous-memorial"
      },
      "source": [
        "<h1>Initialize and convert to other type (int,float,double)<h1>"
      ],
      "id": "previous-memorial"
    },
    {
      "cell_type": "code",
      "metadata": {
        "id": "prospective-proceeding"
      },
      "source": [
        "tensor=torch.arange(4)"
      ],
      "id": "prospective-proceeding",
      "execution_count": 33,
      "outputs": []
    },
    {
      "cell_type": "code",
      "metadata": {
        "colab": {
          "base_uri": "https://localhost:8080/"
        },
        "id": "worldwide-programming",
        "outputId": "89c587a7-f8ed-4dd5-e152-75272d512525"
      },
      "source": [
        "tensor"
      ],
      "id": "worldwide-programming",
      "execution_count": 34,
      "outputs": [
        {
          "output_type": "execute_result",
          "data": {
            "text/plain": [
              "tensor([0, 1, 2, 3])"
            ]
          },
          "metadata": {
            "tags": []
          },
          "execution_count": 34
        }
      ]
    },
    {
      "cell_type": "code",
      "metadata": {
        "colab": {
          "base_uri": "https://localhost:8080/"
        },
        "id": "mediterranean-wilderness",
        "outputId": "8bdd6c9d-1d82-41f2-d1db-9316d8da7ea5"
      },
      "source": [
        "tensor.dtype"
      ],
      "id": "mediterranean-wilderness",
      "execution_count": 35,
      "outputs": [
        {
          "output_type": "execute_result",
          "data": {
            "text/plain": [
              "torch.int64"
            ]
          },
          "metadata": {
            "tags": []
          },
          "execution_count": 35
        }
      ]
    },
    {
      "cell_type": "code",
      "metadata": {
        "colab": {
          "base_uri": "https://localhost:8080/"
        },
        "id": "standard-controversy",
        "outputId": "4f20c5aa-50df-4d48-b7e0-0cd7081bd764"
      },
      "source": [
        "tensor.bool()"
      ],
      "id": "standard-controversy",
      "execution_count": 36,
      "outputs": [
        {
          "output_type": "execute_result",
          "data": {
            "text/plain": [
              "tensor([False,  True,  True,  True])"
            ]
          },
          "metadata": {
            "tags": []
          },
          "execution_count": 36
        }
      ]
    },
    {
      "cell_type": "code",
      "metadata": {
        "colab": {
          "base_uri": "https://localhost:8080/"
        },
        "id": "nervous-taxation",
        "outputId": "56859de8-48a1-4308-cfe1-66a73106c3a8"
      },
      "source": [
        "tensor.short()"
      ],
      "id": "nervous-taxation",
      "execution_count": 37,
      "outputs": [
        {
          "output_type": "execute_result",
          "data": {
            "text/plain": [
              "tensor([0, 1, 2, 3], dtype=torch.int16)"
            ]
          },
          "metadata": {
            "tags": []
          },
          "execution_count": 37
        }
      ]
    },
    {
      "cell_type": "code",
      "metadata": {
        "colab": {
          "base_uri": "https://localhost:8080/"
        },
        "id": "afraid-handle",
        "outputId": "60e67422-243e-4693-929a-d02273f73846"
      },
      "source": [
        "tensor.long()"
      ],
      "id": "afraid-handle",
      "execution_count": 38,
      "outputs": [
        {
          "output_type": "execute_result",
          "data": {
            "text/plain": [
              "tensor([0, 1, 2, 3])"
            ]
          },
          "metadata": {
            "tags": []
          },
          "execution_count": 38
        }
      ]
    },
    {
      "cell_type": "code",
      "metadata": {
        "colab": {
          "base_uri": "https://localhost:8080/"
        },
        "id": "complex-hotel",
        "outputId": "2ada0ce7-80d9-4e76-b9e1-511e79e145a7"
      },
      "source": [
        "tensor.half()"
      ],
      "id": "complex-hotel",
      "execution_count": 39,
      "outputs": [
        {
          "output_type": "execute_result",
          "data": {
            "text/plain": [
              "tensor([0., 1., 2., 3.], dtype=torch.float16)"
            ]
          },
          "metadata": {
            "tags": []
          },
          "execution_count": 39
        }
      ]
    },
    {
      "cell_type": "code",
      "metadata": {
        "colab": {
          "base_uri": "https://localhost:8080/"
        },
        "id": "extraordinary-replication",
        "outputId": "84f747e7-b614-4db5-d95e-2c3ce2b65954"
      },
      "source": [
        "tensor.float()"
      ],
      "id": "extraordinary-replication",
      "execution_count": 40,
      "outputs": [
        {
          "output_type": "execute_result",
          "data": {
            "text/plain": [
              "tensor([0., 1., 2., 3.])"
            ]
          },
          "metadata": {
            "tags": []
          },
          "execution_count": 40
        }
      ]
    },
    {
      "cell_type": "code",
      "metadata": {
        "colab": {
          "base_uri": "https://localhost:8080/"
        },
        "id": "emotional-title",
        "outputId": "0e5a2513-777f-433a-b4a8-04a306c29cb7"
      },
      "source": [
        "tensor.double()"
      ],
      "id": "emotional-title",
      "execution_count": 41,
      "outputs": [
        {
          "output_type": "execute_result",
          "data": {
            "text/plain": [
              "tensor([0., 1., 2., 3.], dtype=torch.float64)"
            ]
          },
          "metadata": {
            "tags": []
          },
          "execution_count": 41
        }
      ]
    },
    {
      "cell_type": "code",
      "metadata": {
        "id": "executive-serum"
      },
      "source": [
        "np_array = np.array([[1,2,3],[4,5,6]])"
      ],
      "id": "executive-serum",
      "execution_count": 42,
      "outputs": []
    },
    {
      "cell_type": "code",
      "metadata": {
        "colab": {
          "base_uri": "https://localhost:8080/"
        },
        "id": "retired-array",
        "outputId": "c5edce79-6c64-49cb-c692-99888799299e"
      },
      "source": [
        "np_array"
      ],
      "id": "retired-array",
      "execution_count": 43,
      "outputs": [
        {
          "output_type": "execute_result",
          "data": {
            "text/plain": [
              "array([[1, 2, 3],\n",
              "       [4, 5, 6]])"
            ]
          },
          "metadata": {
            "tags": []
          },
          "execution_count": 43
        }
      ]
    },
    {
      "cell_type": "code",
      "metadata": {
        "id": "continental-lawsuit"
      },
      "source": [
        "torch_array=torch.from_numpy(np_array)"
      ],
      "id": "continental-lawsuit",
      "execution_count": 44,
      "outputs": []
    },
    {
      "cell_type": "code",
      "metadata": {
        "colab": {
          "base_uri": "https://localhost:8080/"
        },
        "id": "compound-liability",
        "outputId": "9ee072ed-88a1-407c-a440-dcb3971e510d"
      },
      "source": [
        "torch_array"
      ],
      "id": "compound-liability",
      "execution_count": 45,
      "outputs": [
        {
          "output_type": "execute_result",
          "data": {
            "text/plain": [
              "tensor([[1, 2, 3],\n",
              "        [4, 5, 6]])"
            ]
          },
          "metadata": {
            "tags": []
          },
          "execution_count": 45
        }
      ]
    },
    {
      "cell_type": "code",
      "metadata": {
        "id": "stylish-israel"
      },
      "source": [
        "np_array_back = torch_array.numpy()"
      ],
      "id": "stylish-israel",
      "execution_count": 46,
      "outputs": []
    },
    {
      "cell_type": "code",
      "metadata": {
        "colab": {
          "base_uri": "https://localhost:8080/"
        },
        "id": "suitable-seeker",
        "outputId": "2c9e03de-04f8-44b5-af1d-2c7ebe038391"
      },
      "source": [
        "np_array_back"
      ],
      "id": "suitable-seeker",
      "execution_count": 47,
      "outputs": [
        {
          "output_type": "execute_result",
          "data": {
            "text/plain": [
              "array([[1, 2, 3],\n",
              "       [4, 5, 6]])"
            ]
          },
          "metadata": {
            "tags": []
          },
          "execution_count": 47
        }
      ]
    },
    {
      "cell_type": "markdown",
      "metadata": {
        "id": "threaded-voltage"
      },
      "source": [
        "<h1> Tensor math and comparison operators <h1>"
      ],
      "id": "threaded-voltage"
    },
    {
      "cell_type": "code",
      "metadata": {
        "id": "engaged-gross"
      },
      "source": [
        "x = torch.tensor([1,2,3])\n",
        "y=torch.tensor([9,8,7])"
      ],
      "id": "engaged-gross",
      "execution_count": 48,
      "outputs": []
    },
    {
      "cell_type": "markdown",
      "metadata": {
        "id": "laughing-physics"
      },
      "source": [
        "<h1>Addition<h1>\n"
      ],
      "id": "laughing-physics"
    },
    {
      "cell_type": "code",
      "metadata": {
        "colab": {
          "base_uri": "https://localhost:8080/"
        },
        "id": "social-tower",
        "outputId": "9892c353-38a8-4e0f-bd77-47d94220b2fc"
      },
      "source": [
        "z1 = torch.empty(3)\n",
        "print(torch.add(x,y,out=z1),x+y,x.add(y),torch.add(x,y))"
      ],
      "id": "social-tower",
      "execution_count": 49,
      "outputs": [
        {
          "output_type": "stream",
          "text": [
            "tensor([10., 10., 10.]) tensor([10, 10, 10]) tensor([10, 10, 10]) tensor([10, 10, 10])\n"
          ],
          "name": "stdout"
        }
      ]
    },
    {
      "cell_type": "markdown",
      "metadata": {
        "id": "lovely-tenant"
      },
      "source": [
        "<h1>Subtraction<h1>"
      ],
      "id": "lovely-tenant"
    },
    {
      "cell_type": "code",
      "metadata": {
        "colab": {
          "base_uri": "https://localhost:8080/"
        },
        "id": "sought-colorado",
        "outputId": "1ab31208-b6d1-41c6-f1f3-513d2466c2b7"
      },
      "source": [
        "z = x-y\n",
        "z"
      ],
      "id": "sought-colorado",
      "execution_count": 50,
      "outputs": [
        {
          "output_type": "execute_result",
          "data": {
            "text/plain": [
              "tensor([-8, -6, -4])"
            ]
          },
          "metadata": {
            "tags": []
          },
          "execution_count": 50
        }
      ]
    },
    {
      "cell_type": "code",
      "metadata": {
        "colab": {
          "base_uri": "https://localhost:8080/"
        },
        "id": "legal-merit",
        "outputId": "a212dba3-8793-4909-b9a7-6617278dcb08"
      },
      "source": [
        "#division\n",
        "z=torch.true_divide(y,x)\n",
        "z"
      ],
      "id": "legal-merit",
      "execution_count": 51,
      "outputs": [
        {
          "output_type": "execute_result",
          "data": {
            "text/plain": [
              "tensor([9.0000, 4.0000, 2.3333])"
            ]
          },
          "metadata": {
            "tags": []
          },
          "execution_count": 51
        }
      ]
    },
    {
      "cell_type": "code",
      "metadata": {
        "colab": {
          "base_uri": "https://localhost:8080/"
        },
        "id": "together-norfolk",
        "outputId": "55fd3ff9-5e54-4bcf-93cf-83e4009f98a4"
      },
      "source": [
        "#wherever _ there is inplace operation\n",
        "t=torch.zeros(3)\n",
        "t.add_(x)\n",
        "t"
      ],
      "id": "together-norfolk",
      "execution_count": 52,
      "outputs": [
        {
          "output_type": "execute_result",
          "data": {
            "text/plain": [
              "tensor([1., 2., 3.])"
            ]
          },
          "metadata": {
            "tags": []
          },
          "execution_count": 52
        }
      ]
    },
    {
      "cell_type": "code",
      "metadata": {
        "colab": {
          "base_uri": "https://localhost:8080/"
        },
        "id": "operational-consumer",
        "outputId": "e453102f-ee3f-4bab-c224-3bcd21c60cb5"
      },
      "source": [
        "#exponentiation\n",
        "z=x.pow(2)\n",
        "z"
      ],
      "id": "operational-consumer",
      "execution_count": 53,
      "outputs": [
        {
          "output_type": "execute_result",
          "data": {
            "text/plain": [
              "tensor([1, 4, 9])"
            ]
          },
          "metadata": {
            "tags": []
          },
          "execution_count": 53
        }
      ]
    },
    {
      "cell_type": "code",
      "metadata": {
        "colab": {
          "base_uri": "https://localhost:8080/"
        },
        "id": "crude-immunology",
        "outputId": "e2c1b34d-7ef9-47de-d5c9-83b9596aa439"
      },
      "source": [
        "#simple comparison\n",
        "z= x>0\n",
        "print(z)\n",
        "z=x<=0\n",
        "print(z)"
      ],
      "id": "crude-immunology",
      "execution_count": 54,
      "outputs": [
        {
          "output_type": "stream",
          "text": [
            "tensor([True, True, True])\n",
            "tensor([False, False, False])\n"
          ],
          "name": "stdout"
        }
      ]
    },
    {
      "cell_type": "code",
      "metadata": {
        "colab": {
          "base_uri": "https://localhost:8080/"
        },
        "id": "sealed-consumption",
        "outputId": "b89fcf0c-2885-48a7-ea82-95a7226a3de8"
      },
      "source": [
        "#matrix multiplication\n",
        "x1 = torch.rand((5,2))\n",
        "x2= torch.rand((5,3))\n",
        "x3=torch.mm(x1.T,x2)\n",
        "x4=x1.T.mm(x2)\n",
        "print(x3,x4)"
      ],
      "id": "sealed-consumption",
      "execution_count": 55,
      "outputs": [
        {
          "output_type": "stream",
          "text": [
            "tensor([[1.9355, 1.6771, 1.2743],\n",
            "        [1.1301, 1.2115, 1.0228]]) tensor([[1.9355, 1.6771, 1.2743],\n",
            "        [1.1301, 1.2115, 1.0228]])\n"
          ],
          "name": "stdout"
        }
      ]
    },
    {
      "cell_type": "code",
      "metadata": {
        "colab": {
          "base_uri": "https://localhost:8080/"
        },
        "id": "derived-criminal",
        "outputId": "cdd6cdff-1e77-4da1-e377-a79231bb04de"
      },
      "source": [
        "#matrix exponentiation\n",
        "matrix_exp = torch.rand((5,5))\n",
        "matrix_exp.matrix_power(3)"
      ],
      "id": "derived-criminal",
      "execution_count": 56,
      "outputs": [
        {
          "output_type": "execute_result",
          "data": {
            "text/plain": [
              "tensor([[3.1231, 3.7154, 5.0476, 3.8310, 2.5067],\n",
              "        [2.0299, 2.2959, 3.1543, 2.3739, 1.6308],\n",
              "        [3.0772, 3.3634, 4.8000, 3.5104, 2.5196],\n",
              "        [2.7440, 3.2042, 4.6809, 3.3677, 2.3117],\n",
              "        [2.6748, 3.0784, 4.1741, 3.1768, 2.1502]])"
            ]
          },
          "metadata": {
            "tags": []
          },
          "execution_count": 56
        }
      ]
    },
    {
      "cell_type": "code",
      "metadata": {
        "colab": {
          "base_uri": "https://localhost:8080/"
        },
        "id": "infinite-blame",
        "outputId": "e740a217-dd71-4c7a-be93-c9bc6426f0e1"
      },
      "source": [
        "#elementwise\n",
        "x=torch.tensor([1,2,3])\n",
        "y=torch.tensor([4,5,6])\n",
        "z = x*y\n",
        "z"
      ],
      "id": "infinite-blame",
      "execution_count": 57,
      "outputs": [
        {
          "output_type": "execute_result",
          "data": {
            "text/plain": [
              "tensor([ 4, 10, 18])"
            ]
          },
          "metadata": {
            "tags": []
          },
          "execution_count": 57
        }
      ]
    },
    {
      "cell_type": "code",
      "metadata": {
        "colab": {
          "base_uri": "https://localhost:8080/"
        },
        "id": "inappropriate-valley",
        "outputId": "942ef61a-072f-45f3-b85e-ed5f9f7ecc7e"
      },
      "source": [
        "#dot product\n",
        "z= torch.dot(x,y)\n",
        "z"
      ],
      "id": "inappropriate-valley",
      "execution_count": 58,
      "outputs": [
        {
          "output_type": "execute_result",
          "data": {
            "text/plain": [
              "tensor(32)"
            ]
          },
          "metadata": {
            "tags": []
          },
          "execution_count": 58
        }
      ]
    },
    {
      "cell_type": "code",
      "metadata": {
        "colab": {
          "base_uri": "https://localhost:8080/"
        },
        "id": "ordinary-rebecca",
        "outputId": "da2b5458-f29d-4c59-badc-3a81eccaaff0"
      },
      "source": [
        "#batch matrix multiplicatiom\n",
        "batch=32\n",
        "n=10\n",
        "m=20\n",
        "p=30\n",
        "\n",
        "tensor1=torch.randn((batch,n,m))\n",
        "tensor2=torch.randn((batch,m,p)) \n",
        "output=tensor1.bmm(tensor2)\n",
        "output.size()"
      ],
      "id": "ordinary-rebecca",
      "execution_count": 60,
      "outputs": [
        {
          "output_type": "execute_result",
          "data": {
            "text/plain": [
              "torch.Size([32, 10, 30])"
            ]
          },
          "metadata": {
            "tags": []
          },
          "execution_count": 60
        }
      ]
    },
    {
      "cell_type": "code",
      "metadata": {
        "colab": {
          "base_uri": "https://localhost:8080/"
        },
        "id": "painted-nomination",
        "outputId": "432ea683-1f17-49b2-d97f-8ca73cc5528f"
      },
      "source": [
        "#example of broadcasting\n",
        "x1=torch.rand((5,5))\n",
        "x2=torch.rand((1,5))\n",
        "x3=x1-x2\n",
        "print(x3)\n",
        "\n",
        "\n"
      ],
      "id": "painted-nomination",
      "execution_count": 61,
      "outputs": [
        {
          "output_type": "stream",
          "text": [
            "tensor([[ 0.7384, -0.2076,  0.3775, -0.3414, -0.1302],\n",
            "        [ 0.1728, -0.1982,  0.5911,  0.0524, -0.0906],\n",
            "        [ 0.1879,  0.4550,  0.4373, -0.2663,  0.1806],\n",
            "        [ 0.5199, -0.2703, -0.1429, -0.0437,  0.3103],\n",
            "        [ 0.6358, -0.2488,  0.4305,  0.0230, -0.0626]])\n"
          ],
          "name": "stdout"
        }
      ]
    },
    {
      "cell_type": "code",
      "metadata": {
        "colab": {
          "base_uri": "https://localhost:8080/"
        },
        "id": "complicated-nevada",
        "outputId": "93d149f4-2a98-4c1a-e584-614306bb7c23"
      },
      "source": [
        "print(x1*x2)"
      ],
      "id": "complicated-nevada",
      "execution_count": 62,
      "outputs": [
        {
          "output_type": "stream",
          "text": [
            "tensor([[0.0412, 0.0840, 0.2126, 0.0908, 0.0068],\n",
            "        [0.0117, 0.0879, 0.2787, 0.2944, 0.0135],\n",
            "        [0.0125, 0.3568, 0.2311, 0.1296, 0.0596],\n",
            "        [0.0298, 0.0582, 0.0516, 0.2447, 0.0817],\n",
            "        [0.0358, 0.0671, 0.2290, 0.2792, 0.0183]])\n"
          ],
          "name": "stdout"
        }
      ]
    },
    {
      "cell_type": "code",
      "metadata": {
        "colab": {
          "base_uri": "https://localhost:8080/"
        },
        "id": "reliable-writer",
        "outputId": "dde08f82-33e0-49ad-a221-12b9f6e2224b"
      },
      "source": [
        "#---------------------Other_tensor_operation-----------------------\n",
        "x=torch.tensor([[1,2,3,4],[5,6,7,8]])\n",
        "y=x\n",
        "print(f\"Column wise sum: \\n {torch.sum(x,dim=0)} \")\n",
        "print(f\"row wise sum \\n  {torch.sum(x,dim=1)}\")\n",
        "value,index=torch.min(x,dim=0)\n",
        "print(value)\n",
        "value,index=torch.max(x,dim=1)\n",
        "print(value)\n",
        "index=torch.argmax(x,dim=0)\n",
        "print(index)\n",
        "index=torch.argmin(x,dim=1)\n",
        "print(index)\n",
        "print(torch.mean(x.float(),dim=0))\n",
        "print(torch.eq(x,y))\n",
        "value,index=torch.sort(x,dim=0,descending=True)\n",
        "print(value)\n",
        "print(torch.clamp(x,min=2,max=5)) #you can use it make your RELU"
      ],
      "id": "reliable-writer",
      "execution_count": 63,
      "outputs": [
        {
          "output_type": "stream",
          "text": [
            "Column wise sum: \n",
            " tensor([ 6,  8, 10, 12]) \n",
            "row wise sum \n",
            "  tensor([10, 26])\n",
            "tensor([1, 2, 3, 4])\n",
            "tensor([4, 8])\n",
            "tensor([1, 1, 1, 1])\n",
            "tensor([0, 0])\n",
            "tensor([3., 4., 5., 6.])\n",
            "tensor([[True, True, True, True],\n",
            "        [True, True, True, True]])\n",
            "tensor([[5, 6, 7, 8],\n",
            "        [1, 2, 3, 4]])\n",
            "tensor([[2, 2, 3, 4],\n",
            "        [5, 5, 5, 5]])\n"
          ],
          "name": "stdout"
        }
      ]
    },
    {
      "cell_type": "markdown",
      "metadata": {
        "id": "twenty-boston"
      },
      "source": [
        "<h1>-----------tensor_indexing-------------</h1>"
      ],
      "id": "twenty-boston"
    },
    {
      "cell_type": "code",
      "metadata": {
        "id": "geological-brief"
      },
      "source": [
        "batch_size = 10\n",
        "feature=25\n",
        "z = torch.rand((batch_size,feature))"
      ],
      "id": "geological-brief",
      "execution_count": null,
      "outputs": []
    },
    {
      "cell_type": "code",
      "metadata": {
        "colab": {
          "base_uri": "https://localhost:8080/"
        },
        "id": "basic-valley",
        "outputId": "319cc2ef-9252-4b62-d87f-24cfb2badf66"
      },
      "source": [
        "print(z[0,:].shape)  # x[0,:]"
      ],
      "id": "basic-valley",
      "execution_count": null,
      "outputs": [
        {
          "output_type": "stream",
          "text": [
            "torch.Size([25])\n"
          ],
          "name": "stdout"
        }
      ]
    },
    {
      "cell_type": "code",
      "metadata": {
        "colab": {
          "base_uri": "https://localhost:8080/"
        },
        "id": "exterior-fraud",
        "outputId": "15178a63-367c-4b5b-e802-9cf950b7f9b3"
      },
      "source": [
        "#print first feature\n",
        "print(z[:,0].shape)"
      ],
      "id": "exterior-fraud",
      "execution_count": null,
      "outputs": [
        {
          "output_type": "stream",
          "text": [
            "torch.Size([10])\n"
          ],
          "name": "stdout"
        }
      ]
    },
    {
      "cell_type": "code",
      "metadata": {
        "colab": {
          "base_uri": "https://localhost:8080/"
        },
        "id": "direct-component",
        "outputId": "15a15eb2-f7e3-4512-fb03-154de83ece6e"
      },
      "source": [
        "#get 3rd ex up to 10 feature\n",
        "print(z[2,0:10])"
      ],
      "id": "direct-component",
      "execution_count": null,
      "outputs": [
        {
          "output_type": "stream",
          "text": [
            "tensor([0.9003, 0.0411, 0.3458, 0.8994, 0.8810, 0.5502, 0.7342, 0.4790, 0.9703,\n",
            "        0.3160])\n"
          ],
          "name": "stdout"
        }
      ]
    },
    {
      "cell_type": "code",
      "metadata": {
        "colab": {
          "base_uri": "https://localhost:8080/"
        },
        "id": "careful-rings",
        "outputId": "53e59fe1-0ec9-4259-973f-5ab84bd6394b"
      },
      "source": [
        "#you can assign value to the tensor\n",
        "z[0,0]=100\n",
        "print(z[0,0])"
      ],
      "id": "careful-rings",
      "execution_count": null,
      "outputs": [
        {
          "output_type": "stream",
          "text": [
            "tensor(100.)\n"
          ],
          "name": "stdout"
        }
      ]
    },
    {
      "cell_type": "code",
      "metadata": {
        "colab": {
          "base_uri": "https://localhost:8080/"
        },
        "id": "ordinary-virginia",
        "outputId": "008f39e1-e002-42b6-cfc9-60ae73b657dc"
      },
      "source": [
        "# Fancy Indexing\n",
        "x=torch.arange(10)\n",
        "indices = [2,5,8]\n",
        "print(x[indices])\n",
        "x=torch.rand((3,5))\n",
        "rows = torch.tensor([1,0])\n",
        "cols=torch.tensor([4,0])\n",
        "print(x[rows,cols])"
      ],
      "id": "ordinary-virginia",
      "execution_count": null,
      "outputs": [
        {
          "output_type": "stream",
          "text": [
            "tensor([2, 5, 8])\n",
            "tensor([0.8499, 0.2202])\n"
          ],
          "name": "stdout"
        }
      ]
    },
    {
      "cell_type": "code",
      "metadata": {
        "colab": {
          "base_uri": "https://localhost:8080/"
        },
        "id": "demanding-royalty",
        "outputId": "ef58c076-c63f-4930-ab1f-8bdc2d7f6681"
      },
      "source": [
        "# more advance indexing\n",
        "x=torch.arange(10)\n",
        "print(x[(x<2) | (x>8)])"
      ],
      "id": "demanding-royalty",
      "execution_count": null,
      "outputs": [
        {
          "output_type": "stream",
          "text": [
            "tensor([0, 1, 9])\n"
          ],
          "name": "stdout"
        }
      ]
    },
    {
      "cell_type": "code",
      "metadata": {
        "colab": {
          "base_uri": "https://localhost:8080/"
        },
        "id": "mobile-keyboard",
        "outputId": "880ea0f9-b938-4b1e-b185-c06d319fa1f6"
      },
      "source": [
        "print(x[x.remainder(2)==0])"
      ],
      "id": "mobile-keyboard",
      "execution_count": null,
      "outputs": [
        {
          "output_type": "stream",
          "text": [
            "tensor([0, 2, 4, 6, 8])\n"
          ],
          "name": "stdout"
        }
      ]
    },
    {
      "cell_type": "code",
      "metadata": {
        "colab": {
          "base_uri": "https://localhost:8080/"
        },
        "id": "peripheral-treatment",
        "outputId": "871313fc-e1ad-4ff0-98aa-7412974fcaad"
      },
      "source": [
        "#useful Operation\n",
        "print(torch.where(x>5,x,x*2))\n",
        "print(torch.tensor([0,0,1,1,2,3,3]).unique())\n",
        "print(x.ndimension())"
      ],
      "id": "peripheral-treatment",
      "execution_count": null,
      "outputs": [
        {
          "output_type": "stream",
          "text": [
            "tensor([ 0,  2,  4,  6,  8, 10,  6,  7,  8,  9])\n",
            "tensor([0, 1, 2, 3])\n",
            "1\n"
          ],
          "name": "stdout"
        }
      ]
    },
    {
      "cell_type": "code",
      "metadata": {
        "colab": {
          "base_uri": "https://localhost:8080/"
        },
        "id": "bacterial-coffee",
        "outputId": "624a021c-391f-410c-9cdf-24ec4ce66872"
      },
      "source": [
        "# returns total number of input tensor\n",
        "print(x.numel())"
      ],
      "id": "bacterial-coffee",
      "execution_count": null,
      "outputs": [
        {
          "output_type": "stream",
          "text": [
            "10\n"
          ],
          "name": "stdout"
        }
      ]
    },
    {
      "cell_type": "markdown",
      "metadata": {
        "id": "amino-hormone"
      },
      "source": [
        "<h1>-------------reshaping matrix--------</h1>"
      ],
      "id": "amino-hormone"
    },
    {
      "cell_type": "code",
      "metadata": {
        "colab": {
          "base_uri": "https://localhost:8080/"
        },
        "id": "focal-hampshire",
        "outputId": "c4614f33-3894-4e93-b2a0-8e76e1201bf8"
      },
      "source": [
        "x = torch.arange(9)\n",
        "x_3x3=x.view(3,3) #need contiguous memory\n",
        "print(x_3x3)\n",
        "x_3x3=x.reshape(3,3)\n",
        "print(x_3x3)"
      ],
      "id": "focal-hampshire",
      "execution_count": null,
      "outputs": [
        {
          "output_type": "stream",
          "text": [
            "tensor([[0, 1, 2],\n",
            "        [3, 4, 5],\n",
            "        [6, 7, 8]])\n",
            "tensor([[0, 1, 2],\n",
            "        [3, 4, 5],\n",
            "        [6, 7, 8]])\n"
          ],
          "name": "stdout"
        }
      ]
    },
    {
      "cell_type": "code",
      "metadata": {
        "colab": {
          "base_uri": "https://localhost:8080/"
        },
        "id": "brave-bernard",
        "outputId": "aba2daf7-33a6-4697-f81c-e6aef43784c0"
      },
      "source": [
        "y=x_3x3.t()\n",
        "y.flatten()"
      ],
      "id": "brave-bernard",
      "execution_count": null,
      "outputs": [
        {
          "output_type": "execute_result",
          "data": {
            "text/plain": [
              "tensor([0, 3, 6, 1, 4, 7, 2, 5, 8])"
            ]
          },
          "metadata": {
            "tags": []
          },
          "execution_count": 77
        }
      ]
    },
    {
      "cell_type": "code",
      "metadata": {
        "colab": {
          "base_uri": "https://localhost:8080/"
        },
        "id": "early-damage",
        "outputId": "aaefa46c-ebff-42e0-d3ef-3bba2d5036b7"
      },
      "source": [
        "x1 = torch.rand((2,5))\n",
        "x2= torch.rand((2,5))\n",
        "print(torch.cat((x1,x2),dim=0).shape) #vertically stack\n",
        "print(torch.cat((x1,x2),dim=1).shape) #h stack"
      ],
      "id": "early-damage",
      "execution_count": null,
      "outputs": [
        {
          "output_type": "stream",
          "text": [
            "torch.Size([4, 5])\n",
            "torch.Size([2, 10])\n"
          ],
          "name": "stdout"
        }
      ]
    },
    {
      "cell_type": "code",
      "metadata": {
        "colab": {
          "base_uri": "https://localhost:8080/"
        },
        "id": "ignored-webmaster",
        "outputId": "34bfda7e-4a06-42ad-875c-eeb70f41b634"
      },
      "source": [
        "batch = 64\n",
        "x =  torch.rand((batch,2,5))\n",
        "z =x.view(batch,-1)\n",
        "print(z.shape)"
      ],
      "id": "ignored-webmaster",
      "execution_count": null,
      "outputs": [
        {
          "output_type": "stream",
          "text": [
            "torch.Size([64, 10])\n"
          ],
          "name": "stdout"
        }
      ]
    },
    {
      "cell_type": "code",
      "metadata": {
        "colab": {
          "base_uri": "https://localhost:8080/"
        },
        "id": "broken-liabilities",
        "outputId": "d4c4dcfb-ce17-4f61-d2e4-31d51bd51ede"
      },
      "source": [
        "#switch axis while keeping batch\n",
        "z= x.permute(0,2,1)\n",
        "print(z.shape)"
      ],
      "id": "broken-liabilities",
      "execution_count": null,
      "outputs": [
        {
          "output_type": "stream",
          "text": [
            "torch.Size([64, 5, 2])\n"
          ],
          "name": "stdout"
        }
      ]
    },
    {
      "cell_type": "code",
      "metadata": {
        "colab": {
          "base_uri": "https://localhost:8080/"
        },
        "id": "french-doctor",
        "outputId": "5a212d70-eff1-47a5-ef09-e624d2d4a807"
      },
      "source": [
        "# torch.unsqueeze() returns a new tensor with a dimension of size one inserted at the specified position.\n",
        "x = torch.arange(10)  #[0,1,2,...,9]\n",
        "print(x.unsqueeze(0)) #[1,10]\n",
        "print(x.unsqueeze(1))  #[10,1]"
      ],
      "id": "french-doctor",
      "execution_count": null,
      "outputs": [
        {
          "output_type": "stream",
          "text": [
            "tensor([[0, 1, 2, 3, 4, 5, 6, 7, 8, 9]])\n",
            "tensor([[0],\n",
            "        [1],\n",
            "        [2],\n",
            "        [3],\n",
            "        [4],\n",
            "        [5],\n",
            "        [6],\n",
            "        [7],\n",
            "        [8],\n",
            "        [9]])\n"
          ],
          "name": "stdout"
        }
      ]
    }
  ]
}