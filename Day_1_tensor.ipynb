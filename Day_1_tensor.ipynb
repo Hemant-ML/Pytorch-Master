{
  "nbformat": 4,
  "nbformat_minor": 5,
  "metadata": {
    "accelerator": "TPU",
    "colab": {
      "name": "Day_1_tensor.ipynb",
      "provenance": [],
      "collapsed_sections": [],
      "include_colab_link": true
    },
    "kernelspec": {
      "name": "python3",
      "display_name": "Python 3.9.5 64-bit ('d2l': conda)"
    },
    "language_info": {
      "codemirror_mode": {
        "name": "ipython",
        "version": 3
      },
      "file_extension": ".py",
      "mimetype": "text/x-python",
      "name": "python",
      "nbconvert_exporter": "python",
      "pygments_lexer": "ipython3",
      "version": "3.9.5"
    },
    "interpreter": {
      "hash": "1e5d90a4ba887ce81a09358baecbd7b727b419ffad34e598e1a0e88f023a64f9"
    }
  },
  "cells": [
    {
      "cell_type": "markdown",
      "source": [
        "<a href=\"https://colab.research.google.com/github/Hemant-ML/Pytorch-Master/blob/main/Day_1_tensor.ipynb\" target=\"_parent\"><img src=\"https://colab.research.google.com/assets/colab-badge.svg\" alt=\"Open In Colab\"/></a>"
      ],
      "metadata": {
        "id": "view-in-github",
        "colab_type": "text"
      }
    },
    {
      "cell_type": "markdown",
      "source": [
        "<h1>Importing libraries</h1>"
      ],
      "metadata": {
        "id": "chubby-bookmark"
      }
    },
    {
      "cell_type": "code",
      "execution_count": 1,
      "source": [
        "import torch\n",
        "import numpy as np\n",
        "import matplotlib.pyplot as plt\n",
        "\n",
        "torch.manual_seed(123)"
      ],
      "outputs": [
        {
          "output_type": "execute_result",
          "data": {
            "text/plain": [
              "<torch._C.Generator at 0x7f142c064ef0>"
            ]
          },
          "metadata": {},
          "execution_count": 1
        }
      ],
      "metadata": {
        "id": "conditional-teach",
        "colab": {
          "base_uri": "https://localhost:8080/"
        },
        "outputId": "9fbabc4f-e23a-433a-c2bf-2537ebe2def7"
      }
    },
    {
      "cell_type": "markdown",
      "source": [
        "<h1>Initializing Tensor<h1>"
      ],
      "metadata": {
        "id": "dominant-bristol"
      }
    },
    {
      "cell_type": "code",
      "execution_count": 2,
      "source": [
        "device = torch.device(\"cuda\" if torch.cuda.is_available() else \"cpu\")"
      ],
      "outputs": [],
      "metadata": {
        "id": "herbal-graphic"
      }
    },
    {
      "cell_type": "code",
      "execution_count": 3,
      "source": [
        "my_tensor = torch.tensor([[1.,2.,3.],[4.,5.,6.]],dtype=torch.float16,device=device)"
      ],
      "outputs": [],
      "metadata": {
        "id": "loaded-january"
      }
    },
    {
      "cell_type": "code",
      "execution_count": 4,
      "source": [
        "print(my_tensor)"
      ],
      "outputs": [
        {
          "output_type": "stream",
          "name": "stdout",
          "text": [
            "tensor([[1., 2., 3.],\n",
            "        [4., 5., 6.]], dtype=torch.float16)\n"
          ]
        }
      ],
      "metadata": {
        "colab": {
          "base_uri": "https://localhost:8080/"
        },
        "id": "invalid-plenty",
        "outputId": "47d0385c-046a-4cdc-f676-21fec03fd886"
      }
    },
    {
      "cell_type": "code",
      "execution_count": 5,
      "source": [
        "print(my_tensor.dtype)"
      ],
      "outputs": [
        {
          "output_type": "stream",
          "name": "stdout",
          "text": [
            "torch.float16\n"
          ]
        }
      ],
      "metadata": {
        "colab": {
          "base_uri": "https://localhost:8080/"
        },
        "id": "ancient-thong",
        "outputId": "ac65914a-1234-42ec-c094-be24800a2a47"
      }
    },
    {
      "cell_type": "code",
      "execution_count": 9,
      "source": [
        "print(my_tensor.device)"
      ],
      "outputs": [
        {
          "output_type": "stream",
          "name": "stdout",
          "text": [
            "cpu\n"
          ]
        }
      ],
      "metadata": {
        "colab": {
          "base_uri": "https://localhost:8080/"
        },
        "id": "specified-space",
        "outputId": "7be2013c-7d02-4d50-dfc5-eea12ecfa191"
      }
    },
    {
      "cell_type": "code",
      "execution_count": 6,
      "source": [
        "print(my_tensor.shape)"
      ],
      "outputs": [
        {
          "output_type": "stream",
          "name": "stdout",
          "text": [
            "torch.Size([2, 3])\n"
          ]
        }
      ],
      "metadata": {
        "colab": {
          "base_uri": "https://localhost:8080/"
        },
        "id": "systematic-conditioning",
        "outputId": "ccc64bc5-af2a-4ffa-89b4-d8aecf2de0c4"
      }
    },
    {
      "cell_type": "markdown",
      "source": [
        "<h1>other initialization methods<h1>"
      ],
      "metadata": {
        "id": "abstract-publisher"
      }
    },
    {
      "cell_type": "code",
      "execution_count": 8,
      "source": [
        "x = torch.empty(3,3)\n",
        "x"
      ],
      "outputs": [
        {
          "output_type": "execute_result",
          "data": {
            "text/plain": [
              "tensor([[-6.1409e+32,  4.5586e-41, -6.1414e+32],\n",
              "        [ 4.5586e-41, -6.1767e+32,  4.5586e-41],\n",
              "        [-6.1769e+32,  4.5586e-41, -6.0806e+32]])"
            ]
          },
          "metadata": {},
          "execution_count": 8
        }
      ],
      "metadata": {
        "id": "refined-sigma"
      }
    },
    {
      "cell_type": "code",
      "execution_count": 9,
      "source": [
        "x1=torch.zeros(3,3)"
      ],
      "outputs": [],
      "metadata": {
        "id": "proof-ribbon"
      }
    },
    {
      "cell_type": "code",
      "execution_count": 10,
      "source": [
        "print(x1,x)"
      ],
      "outputs": [
        {
          "output_type": "stream",
          "name": "stdout",
          "text": [
            "tensor([[0., 0., 0.],\n",
            "        [0., 0., 0.],\n",
            "        [0., 0., 0.]]) tensor([[-6.1409e+32,  4.5586e-41, -6.1414e+32],\n",
            "        [ 4.5586e-41, -6.1767e+32,  4.5586e-41],\n",
            "        [-6.1769e+32,  4.5586e-41, -6.0806e+32]])\n"
          ]
        }
      ],
      "metadata": {
        "colab": {
          "base_uri": "https://localhost:8080/"
        },
        "id": "thick-office",
        "outputId": "677fd126-1bc0-4877-b5c4-dc20447c525b"
      }
    },
    {
      "cell_type": "code",
      "execution_count": 11,
      "source": [
        "#number taken from normal distribution. By default mean=0 and std=1\n",
        "y=torch.randn(3,3).normal_(mean=0,std=1)\n",
        "y\n",
        "\n"
      ],
      "outputs": [
        {
          "output_type": "execute_result",
          "data": {
            "text/plain": [
              "tensor([[-0.1085,  0.2103, -0.3908],\n",
              "        [ 0.2350,  0.6653,  0.3528],\n",
              "        [ 0.9728, -0.0386, -0.8861]])"
            ]
          },
          "metadata": {},
          "execution_count": 11
        }
      ],
      "metadata": {
        "id": "elect-replication",
        "colab": {
          "base_uri": "https://localhost:8080/"
        },
        "outputId": "790a2e98-ac9e-43ff-8604-e5ae42d95a27"
      }
    },
    {
      "cell_type": "code",
      "execution_count": 12,
      "source": [
        "#no taken from uniform disstribution [0,1]\n",
        "y1=torch.rand(3,3).uniform_(0,1)\n",
        "y1"
      ],
      "outputs": [
        {
          "output_type": "execute_result",
          "data": {
            "text/plain": [
              "tensor([[0.5159, 0.4220, 0.5786],\n",
              "        [0.9455, 0.8057, 0.6775],\n",
              "        [0.6087, 0.6179, 0.6932]])"
            ]
          },
          "metadata": {},
          "execution_count": 12
        }
      ],
      "metadata": {
        "colab": {
          "base_uri": "https://localhost:8080/"
        },
        "id": "still-rainbow",
        "outputId": "6411f934-becf-4261-c0b7-65521429be3e"
      }
    },
    {
      "cell_type": "code",
      "execution_count": 13,
      "source": [
        "y= torch.ones_like(y1)\n",
        "y"
      ],
      "outputs": [
        {
          "output_type": "execute_result",
          "data": {
            "text/plain": [
              "tensor([[1., 1., 1.],\n",
              "        [1., 1., 1.],\n",
              "        [1., 1., 1.]])"
            ]
          },
          "metadata": {},
          "execution_count": 13
        }
      ],
      "metadata": {
        "id": "continental-transportation",
        "colab": {
          "base_uri": "https://localhost:8080/"
        },
        "outputId": "28047409-e6b1-4708-b656-8d288a16fdb5"
      }
    },
    {
      "cell_type": "code",
      "execution_count": 14,
      "source": [
        "y=torch.eye(3)\n",
        "y"
      ],
      "outputs": [
        {
          "output_type": "execute_result",
          "data": {
            "text/plain": [
              "tensor([[1., 0., 0.],\n",
              "        [0., 1., 0.],\n",
              "        [0., 0., 1.]])"
            ]
          },
          "metadata": {},
          "execution_count": 14
        }
      ],
      "metadata": {
        "id": "japanese-fleet",
        "colab": {
          "base_uri": "https://localhost:8080/"
        },
        "outputId": "31148b9d-0ccf-4c78-9cf2-83d502b01d56"
      }
    },
    {
      "cell_type": "code",
      "execution_count": 15,
      "source": [
        "#torch.arange(start,end,step_size)\n",
        "y=torch.arange(0,10,2)\n",
        "y"
      ],
      "outputs": [
        {
          "output_type": "execute_result",
          "data": {
            "text/plain": [
              "tensor([0, 2, 4, 6, 8])"
            ]
          },
          "metadata": {},
          "execution_count": 15
        }
      ],
      "metadata": {
        "id": "cellular-reader",
        "colab": {
          "base_uri": "https://localhost:8080/"
        },
        "outputId": "af83550a-8895-4cfe-ac37-c9c6518bbfe4"
      }
    },
    {
      "cell_type": "code",
      "execution_count": 16,
      "source": [
        "\n",
        "x = torch.linspace(start=0.1,end=1,steps=10)\n",
        "x"
      ],
      "outputs": [
        {
          "output_type": "execute_result",
          "data": {
            "text/plain": [
              "tensor([0.1000, 0.2000, 0.3000, 0.4000, 0.5000, 0.6000, 0.7000, 0.8000, 0.9000,\n",
              "        1.0000])"
            ]
          },
          "metadata": {},
          "execution_count": 16
        }
      ],
      "metadata": {
        "id": "social-navigator",
        "colab": {
          "base_uri": "https://localhost:8080/"
        },
        "outputId": "718b4178-9e16-4d83-d90a-29975704f551"
      }
    },
    {
      "cell_type": "code",
      "execution_count": 17,
      "source": [
        "y = torch.empty(3,3).normal_(mean=0,std=1)\n",
        "\n",
        "y"
      ],
      "outputs": [
        {
          "output_type": "execute_result",
          "data": {
            "text/plain": [
              "tensor([[-1.2157,  0.1295,  0.0967],\n",
              "        [ 1.4086,  0.1915,  1.0041],\n",
              "        [ 0.4198,  0.1882, -0.6040]])"
            ]
          },
          "metadata": {},
          "execution_count": 17
        }
      ],
      "metadata": {
        "id": "medium-numbers",
        "colab": {
          "base_uri": "https://localhost:8080/"
        },
        "outputId": "8a90eff0-7f36-43d3-a18a-6b9a6a0f99ed"
      }
    },
    {
      "cell_type": "code",
      "execution_count": 18,
      "source": [
        "x=torch.empty(1,5).uniform_(0,1)\n",
        "x"
      ],
      "outputs": [
        {
          "output_type": "execute_result",
          "data": {
            "text/plain": [
              "tensor([[0.7076, 0.5112, 0.7050, 0.0114, 0.4702]])"
            ]
          },
          "metadata": {},
          "execution_count": 18
        }
      ],
      "metadata": {
        "id": "psychological-activation",
        "colab": {
          "base_uri": "https://localhost:8080/"
        },
        "outputId": "a1f9ae4c-2bff-456c-83ff-8e3eaa2d99ef"
      }
    },
    {
      "cell_type": "code",
      "execution_count": 19,
      "source": [
        "x= torch.diag(y)\n",
        "x"
      ],
      "outputs": [
        {
          "output_type": "execute_result",
          "data": {
            "text/plain": [
              "tensor([-1.2157,  0.1915, -0.6040])"
            ]
          },
          "metadata": {},
          "execution_count": 19
        }
      ],
      "metadata": {
        "id": "coastal-prison",
        "colab": {
          "base_uri": "https://localhost:8080/"
        },
        "outputId": "0a5999b4-42c6-4ac9-f3fe-e300c3d352af"
      }
    },
    {
      "cell_type": "markdown",
      "source": [
        "<h1>Initialize and convert to other type (int,float,double)<h1>"
      ],
      "metadata": {
        "id": "previous-memorial"
      }
    },
    {
      "cell_type": "code",
      "execution_count": 20,
      "source": [
        "tensor=torch.arange(4)"
      ],
      "outputs": [],
      "metadata": {
        "id": "prospective-proceeding"
      }
    },
    {
      "cell_type": "code",
      "execution_count": 21,
      "source": [
        "tensor"
      ],
      "outputs": [
        {
          "output_type": "execute_result",
          "data": {
            "text/plain": [
              "tensor([0, 1, 2, 3])"
            ]
          },
          "metadata": {},
          "execution_count": 21
        }
      ],
      "metadata": {
        "colab": {
          "base_uri": "https://localhost:8080/"
        },
        "id": "worldwide-programming",
        "outputId": "89c587a7-f8ed-4dd5-e152-75272d512525"
      }
    },
    {
      "cell_type": "code",
      "execution_count": 22,
      "source": [
        "tensor.dtype"
      ],
      "outputs": [
        {
          "output_type": "execute_result",
          "data": {
            "text/plain": [
              "torch.int64"
            ]
          },
          "metadata": {},
          "execution_count": 22
        }
      ],
      "metadata": {
        "colab": {
          "base_uri": "https://localhost:8080/"
        },
        "id": "mediterranean-wilderness",
        "outputId": "8bdd6c9d-1d82-41f2-d1db-9316d8da7ea5"
      }
    },
    {
      "cell_type": "code",
      "execution_count": 23,
      "source": [
        "tensor.bool()"
      ],
      "outputs": [
        {
          "output_type": "execute_result",
          "data": {
            "text/plain": [
              "tensor([False,  True,  True,  True])"
            ]
          },
          "metadata": {},
          "execution_count": 23
        }
      ],
      "metadata": {
        "colab": {
          "base_uri": "https://localhost:8080/"
        },
        "id": "standard-controversy",
        "outputId": "4f20c5aa-50df-4d48-b7e0-0cd7081bd764"
      }
    },
    {
      "cell_type": "code",
      "execution_count": 24,
      "source": [
        "tensor.short()"
      ],
      "outputs": [
        {
          "output_type": "execute_result",
          "data": {
            "text/plain": [
              "tensor([0, 1, 2, 3], dtype=torch.int16)"
            ]
          },
          "metadata": {},
          "execution_count": 24
        }
      ],
      "metadata": {
        "colab": {
          "base_uri": "https://localhost:8080/"
        },
        "id": "nervous-taxation",
        "outputId": "56859de8-48a1-4308-cfe1-66a73106c3a8"
      }
    },
    {
      "cell_type": "code",
      "execution_count": 25,
      "source": [
        "tensor.long()"
      ],
      "outputs": [
        {
          "output_type": "execute_result",
          "data": {
            "text/plain": [
              "tensor([0, 1, 2, 3])"
            ]
          },
          "metadata": {},
          "execution_count": 25
        }
      ],
      "metadata": {
        "colab": {
          "base_uri": "https://localhost:8080/"
        },
        "id": "afraid-handle",
        "outputId": "60e67422-243e-4693-929a-d02273f73846"
      }
    },
    {
      "cell_type": "code",
      "execution_count": 26,
      "source": [
        "tensor.half()"
      ],
      "outputs": [
        {
          "output_type": "execute_result",
          "data": {
            "text/plain": [
              "tensor([0., 1., 2., 3.], dtype=torch.float16)"
            ]
          },
          "metadata": {},
          "execution_count": 26
        }
      ],
      "metadata": {
        "colab": {
          "base_uri": "https://localhost:8080/"
        },
        "id": "complex-hotel",
        "outputId": "2ada0ce7-80d9-4e76-b9e1-511e79e145a7"
      }
    },
    {
      "cell_type": "code",
      "execution_count": 27,
      "source": [
        "tensor.float()"
      ],
      "outputs": [
        {
          "output_type": "execute_result",
          "data": {
            "text/plain": [
              "tensor([0., 1., 2., 3.])"
            ]
          },
          "metadata": {},
          "execution_count": 27
        }
      ],
      "metadata": {
        "colab": {
          "base_uri": "https://localhost:8080/"
        },
        "id": "extraordinary-replication",
        "outputId": "84f747e7-b614-4db5-d95e-2c3ce2b65954"
      }
    },
    {
      "cell_type": "code",
      "execution_count": 28,
      "source": [
        "tensor.double()"
      ],
      "outputs": [
        {
          "output_type": "execute_result",
          "data": {
            "text/plain": [
              "tensor([0., 1., 2., 3.], dtype=torch.float64)"
            ]
          },
          "metadata": {},
          "execution_count": 28
        }
      ],
      "metadata": {
        "colab": {
          "base_uri": "https://localhost:8080/"
        },
        "id": "emotional-title",
        "outputId": "0e5a2513-777f-433a-b4a8-04a306c29cb7"
      }
    },
    {
      "cell_type": "code",
      "execution_count": 29,
      "source": [
        "np_array = np.array([[1,2,3],[4,5,6]])"
      ],
      "outputs": [],
      "metadata": {
        "id": "executive-serum"
      }
    },
    {
      "cell_type": "code",
      "execution_count": 30,
      "source": [
        "np_array"
      ],
      "outputs": [
        {
          "output_type": "execute_result",
          "data": {
            "text/plain": [
              "array([[1, 2, 3],\n",
              "       [4, 5, 6]])"
            ]
          },
          "metadata": {},
          "execution_count": 30
        }
      ],
      "metadata": {
        "colab": {
          "base_uri": "https://localhost:8080/"
        },
        "id": "retired-array",
        "outputId": "c5edce79-6c64-49cb-c692-99888799299e"
      }
    },
    {
      "cell_type": "code",
      "execution_count": 31,
      "source": [
        "torch_array=torch.from_numpy(np_array)"
      ],
      "outputs": [],
      "metadata": {
        "id": "continental-lawsuit"
      }
    },
    {
      "cell_type": "code",
      "execution_count": 32,
      "source": [
        "torch_array"
      ],
      "outputs": [
        {
          "output_type": "execute_result",
          "data": {
            "text/plain": [
              "tensor([[1, 2, 3],\n",
              "        [4, 5, 6]])"
            ]
          },
          "metadata": {},
          "execution_count": 32
        }
      ],
      "metadata": {
        "colab": {
          "base_uri": "https://localhost:8080/"
        },
        "id": "compound-liability",
        "outputId": "9ee072ed-88a1-407c-a440-dcb3971e510d"
      }
    },
    {
      "cell_type": "code",
      "execution_count": 33,
      "source": [
        "np_array_back = torch_array.numpy()"
      ],
      "outputs": [],
      "metadata": {
        "id": "stylish-israel"
      }
    },
    {
      "cell_type": "code",
      "execution_count": 35,
      "source": [
        "np_array_back"
      ],
      "outputs": [
        {
          "output_type": "execute_result",
          "data": {
            "text/plain": [
              "array([[1, 2, 3],\n",
              "       [4, 5, 6]])"
            ]
          },
          "metadata": {},
          "execution_count": 35
        }
      ],
      "metadata": {
        "colab": {
          "base_uri": "https://localhost:8080/"
        },
        "id": "suitable-seeker",
        "outputId": "2c9e03de-04f8-44b5-af1d-2c7ebe038391"
      }
    },
    {
      "cell_type": "markdown",
      "source": [
        "<h1> Tensor math and comparison operators <h1>"
      ],
      "metadata": {
        "id": "threaded-voltage"
      }
    },
    {
      "cell_type": "code",
      "execution_count": 36,
      "source": [
        "x = torch.tensor([1,2,3])\n",
        "y=torch.tensor([9,8,7])"
      ],
      "outputs": [],
      "metadata": {
        "id": "engaged-gross"
      }
    },
    {
      "cell_type": "markdown",
      "source": [
        "<h1>Addition<h1>\n"
      ],
      "metadata": {
        "id": "laughing-physics"
      }
    },
    {
      "cell_type": "code",
      "execution_count": 37,
      "source": [
        "z1 = torch.empty(3)\n",
        "print(torch.add(x,y,out=z1),x+y,x.add(y),torch.add(x,y))"
      ],
      "outputs": [
        {
          "output_type": "stream",
          "name": "stdout",
          "text": [
            "tensor([10., 10., 10.]) tensor([10, 10, 10]) tensor([10, 10, 10]) tensor([10, 10, 10])\n"
          ]
        }
      ],
      "metadata": {
        "colab": {
          "base_uri": "https://localhost:8080/"
        },
        "id": "social-tower",
        "outputId": "9892c353-38a8-4e0f-bd77-47d94220b2fc"
      }
    },
    {
      "cell_type": "markdown",
      "source": [
        "<h1>Subtraction<h1>"
      ],
      "metadata": {
        "id": "lovely-tenant"
      }
    },
    {
      "cell_type": "code",
      "execution_count": 38,
      "source": [
        "z = x-y\n",
        "z"
      ],
      "outputs": [
        {
          "output_type": "execute_result",
          "data": {
            "text/plain": [
              "tensor([-8, -6, -4])"
            ]
          },
          "metadata": {},
          "execution_count": 38
        }
      ],
      "metadata": {
        "colab": {
          "base_uri": "https://localhost:8080/"
        },
        "id": "sought-colorado",
        "outputId": "1ab31208-b6d1-41c6-f1f3-513d2466c2b7"
      }
    },
    {
      "cell_type": "code",
      "execution_count": 39,
      "source": [
        "#division\n",
        "z=torch.true_divide(y,x)\n",
        "z"
      ],
      "outputs": [
        {
          "output_type": "execute_result",
          "data": {
            "text/plain": [
              "tensor([9.0000, 4.0000, 2.3333])"
            ]
          },
          "metadata": {},
          "execution_count": 39
        }
      ],
      "metadata": {
        "colab": {
          "base_uri": "https://localhost:8080/"
        },
        "id": "legal-merit",
        "outputId": "a212dba3-8793-4909-b9a7-6617278dcb08"
      }
    },
    {
      "cell_type": "code",
      "execution_count": 40,
      "source": [
        "#wherever _ there is inplace operation\n",
        "t=torch.zeros(3)\n",
        "t.add_(x)\n",
        "t"
      ],
      "outputs": [
        {
          "output_type": "execute_result",
          "data": {
            "text/plain": [
              "tensor([1., 2., 3.])"
            ]
          },
          "metadata": {},
          "execution_count": 40
        }
      ],
      "metadata": {
        "colab": {
          "base_uri": "https://localhost:8080/"
        },
        "id": "together-norfolk",
        "outputId": "55fd3ff9-5e54-4bcf-93cf-83e4009f98a4"
      }
    },
    {
      "cell_type": "code",
      "execution_count": 41,
      "source": [
        "#exponentiation\n",
        "z=x.pow(2)\n",
        "z"
      ],
      "outputs": [
        {
          "output_type": "execute_result",
          "data": {
            "text/plain": [
              "tensor([1, 4, 9])"
            ]
          },
          "metadata": {},
          "execution_count": 41
        }
      ],
      "metadata": {
        "colab": {
          "base_uri": "https://localhost:8080/"
        },
        "id": "operational-consumer",
        "outputId": "e453102f-ee3f-4bab-c224-3bcd21c60cb5"
      }
    },
    {
      "cell_type": "code",
      "execution_count": 42,
      "source": [
        "#simple comparison\n",
        "z= x>0\n",
        "print(z)\n",
        "z=x<=0\n",
        "print(z)"
      ],
      "outputs": [
        {
          "output_type": "stream",
          "name": "stdout",
          "text": [
            "tensor([True, True, True])\n",
            "tensor([False, False, False])\n"
          ]
        }
      ],
      "metadata": {
        "colab": {
          "base_uri": "https://localhost:8080/"
        },
        "id": "crude-immunology",
        "outputId": "e2c1b34d-7ef9-47de-d5c9-83b9596aa439"
      }
    },
    {
      "cell_type": "code",
      "execution_count": 43,
      "source": [
        "#matrix multiplication\n",
        "x1 = torch.rand((5,2))\n",
        "x2= torch.rand((5,3))\n",
        "x3=torch.mm(x1.T,x2)\n",
        "x4=x1.T.mm(x2)\n",
        "print(x3,x4)"
      ],
      "outputs": [
        {
          "output_type": "stream",
          "name": "stdout",
          "text": [
            "tensor([[1.5696, 1.6052, 1.7650],\n",
            "        [1.2835, 1.3122, 1.3597]]) tensor([[1.5696, 1.6052, 1.7650],\n",
            "        [1.2835, 1.3122, 1.3597]])\n"
          ]
        }
      ],
      "metadata": {
        "colab": {
          "base_uri": "https://localhost:8080/"
        },
        "id": "sealed-consumption",
        "outputId": "b89fcf0c-2885-48a7-ea82-95a7226a3de8"
      }
    },
    {
      "cell_type": "code",
      "execution_count": 44,
      "source": [
        "#matrix exponentiation\n",
        "matrix_exp = torch.rand((5,5))\n",
        "matrix_exp.matrix_power(3)"
      ],
      "outputs": [
        {
          "output_type": "execute_result",
          "data": {
            "text/plain": [
              "tensor([[5.8805, 3.9918, 4.4332, 7.4143, 4.9280],\n",
              "        [5.5381, 3.8280, 4.1221, 6.9377, 4.5196],\n",
              "        [4.6329, 3.1718, 3.4700, 5.8261, 3.8677],\n",
              "        [6.3804, 4.2244, 4.7419, 7.8303, 5.1014],\n",
              "        [6.4983, 4.2490, 4.8388, 7.9231, 5.2394]])"
            ]
          },
          "metadata": {},
          "execution_count": 44
        }
      ],
      "metadata": {
        "colab": {
          "base_uri": "https://localhost:8080/"
        },
        "id": "derived-criminal",
        "outputId": "cdd6cdff-1e77-4da1-e377-a79231bb04de"
      }
    },
    {
      "cell_type": "code",
      "execution_count": 45,
      "source": [
        "#elementwise\n",
        "x=torch.tensor([1,2,3])\n",
        "y=torch.tensor([4,5,6])\n",
        "z = x*y\n",
        "z"
      ],
      "outputs": [
        {
          "output_type": "execute_result",
          "data": {
            "text/plain": [
              "tensor([ 4, 10, 18])"
            ]
          },
          "metadata": {},
          "execution_count": 45
        }
      ],
      "metadata": {
        "colab": {
          "base_uri": "https://localhost:8080/"
        },
        "id": "infinite-blame",
        "outputId": "e740a217-dd71-4c7a-be93-c9bc6426f0e1"
      }
    },
    {
      "cell_type": "code",
      "execution_count": 46,
      "source": [
        "#dot product\n",
        "z= torch.dot(x,y)\n",
        "z"
      ],
      "outputs": [
        {
          "output_type": "execute_result",
          "data": {
            "text/plain": [
              "tensor(32)"
            ]
          },
          "metadata": {},
          "execution_count": 46
        }
      ],
      "metadata": {
        "colab": {
          "base_uri": "https://localhost:8080/"
        },
        "id": "inappropriate-valley",
        "outputId": "942ef61a-072f-45f3-b85e-ed5f9f7ecc7e"
      }
    },
    {
      "cell_type": "code",
      "execution_count": 47,
      "source": [
        "#batch matrix multiplicatiom\n",
        "batch=32\n",
        "n=10\n",
        "m=20\n",
        "p=30\n",
        "\n",
        "tensor1=torch.randn((batch,n,m))\n",
        "tensor2=torch.randn((batch,m,p)) \n",
        "output=tensor1.bmm(tensor2)\n",
        "output.size()"
      ],
      "outputs": [
        {
          "output_type": "execute_result",
          "data": {
            "text/plain": [
              "torch.Size([32, 10, 30])"
            ]
          },
          "metadata": {},
          "execution_count": 47
        }
      ],
      "metadata": {
        "colab": {
          "base_uri": "https://localhost:8080/"
        },
        "id": "ordinary-rebecca",
        "outputId": "da2b5458-f29d-4c59-badc-3a81eccaaff0"
      }
    },
    {
      "cell_type": "code",
      "execution_count": 48,
      "source": [
        "#example of broadcasting\n",
        "x1=torch.rand((5,5))\n",
        "x2=torch.rand((1,5))\n",
        "x3=x1-x2\n",
        "print(x3)\n",
        "\n",
        "\n"
      ],
      "outputs": [
        {
          "output_type": "stream",
          "name": "stdout",
          "text": [
            "tensor([[-0.0283,  0.5813, -0.5292,  0.2077,  0.1392],\n",
            "        [-0.4421,  0.1230, -0.4093, -0.0526, -0.2757],\n",
            "        [-0.2908,  0.4442,  0.1383, -0.4419, -0.1286],\n",
            "        [ 0.2827, -0.1451, -0.2562, -0.4626,  0.0873],\n",
            "        [-0.1006,  0.4212,  0.0124,  0.2626, -0.0818]])\n"
          ]
        }
      ],
      "metadata": {
        "colab": {
          "base_uri": "https://localhost:8080/"
        },
        "id": "painted-nomination",
        "outputId": "432ea683-1f17-49b2-d97f-8ca73cc5528f"
      }
    },
    {
      "cell_type": "code",
      "execution_count": 49,
      "source": [
        "print(x1*x2)"
      ],
      "outputs": [
        {
          "output_type": "stream",
          "name": "stdout",
          "text": [
            "tensor([[0.4942, 0.3143, 0.0598, 0.3440, 0.6642],\n",
            "        [0.1973, 0.1581, 0.1347, 0.2160, 0.3537],\n",
            "        [0.3059, 0.2675, 0.4769, 0.0246, 0.4638],\n",
            "        [0.7172, 0.0667, 0.2304, 0.0143, 0.6253],\n",
            "        [0.4423, 0.2597, 0.3982, 0.3710, 0.4988]])\n"
          ]
        }
      ],
      "metadata": {
        "colab": {
          "base_uri": "https://localhost:8080/"
        },
        "id": "complicated-nevada",
        "outputId": "93d149f4-2a98-4c1a-e584-614306bb7c23"
      }
    },
    {
      "cell_type": "code",
      "execution_count": 50,
      "source": [
        "#---------------------Other_tensor_operation-----------------------\n",
        "x=torch.tensor([[1,2,3,4],[5,6,7,8]])\n",
        "y=x\n",
        "print(f\"Column wise sum: \\n {torch.sum(x,dim=0)} \")\n",
        "print(f\"row wise sum \\n  {torch.sum(x,dim=1)}\")\n",
        "value,index=torch.min(x,dim=0)\n",
        "print(value)\n",
        "value,index=torch.max(x,dim=1)\n",
        "print(value)\n",
        "index=torch.argmax(x,dim=0)\n",
        "print(index)\n",
        "index=torch.argmin(x,dim=1)\n",
        "print(index)\n",
        "print(torch.mean(x.float(),dim=0))\n",
        "print(torch.eq(x,y))\n",
        "value,index=torch.sort(x,dim=0,descending=True)\n",
        "print(value)\n",
        "print(torch.clamp(x,min=2,max=5)) #you can use it make your RELU"
      ],
      "outputs": [
        {
          "output_type": "stream",
          "name": "stdout",
          "text": [
            "Column wise sum: \n",
            " tensor([ 6,  8, 10, 12]) \n",
            "row wise sum \n",
            "  tensor([10, 26])\n",
            "tensor([1, 2, 3, 4])\n",
            "tensor([4, 8])\n",
            "tensor([1, 1, 1, 1])\n",
            "tensor([0, 0])\n",
            "tensor([3., 4., 5., 6.])\n",
            "tensor([[True, True, True, True],\n",
            "        [True, True, True, True]])\n",
            "tensor([[5, 6, 7, 8],\n",
            "        [1, 2, 3, 4]])\n",
            "tensor([[2, 2, 3, 4],\n",
            "        [5, 5, 5, 5]])\n"
          ]
        }
      ],
      "metadata": {
        "colab": {
          "base_uri": "https://localhost:8080/"
        },
        "id": "reliable-writer",
        "outputId": "dde08f82-33e0-49ad-a221-12b9f6e2224b"
      }
    },
    {
      "cell_type": "markdown",
      "source": [
        "<h1>-----------tensor_indexing-------------</h1>"
      ],
      "metadata": {
        "id": "twenty-boston"
      }
    },
    {
      "cell_type": "code",
      "execution_count": 51,
      "source": [
        "batch_size = 10\n",
        "feature=25\n",
        "z = torch.rand((batch_size,feature))"
      ],
      "outputs": [],
      "metadata": {
        "id": "geological-brief"
      }
    },
    {
      "cell_type": "code",
      "execution_count": 52,
      "source": [
        "print(z[0,:].shape)  # x[0,:]"
      ],
      "outputs": [
        {
          "output_type": "stream",
          "name": "stdout",
          "text": [
            "torch.Size([25])\n"
          ]
        }
      ],
      "metadata": {
        "colab": {
          "base_uri": "https://localhost:8080/"
        },
        "id": "basic-valley",
        "outputId": "319cc2ef-9252-4b62-d87f-24cfb2badf66"
      }
    },
    {
      "cell_type": "code",
      "execution_count": 53,
      "source": [
        "#print first feature\n",
        "print(z[:,0].shape)"
      ],
      "outputs": [
        {
          "output_type": "stream",
          "name": "stdout",
          "text": [
            "torch.Size([10])\n"
          ]
        }
      ],
      "metadata": {
        "colab": {
          "base_uri": "https://localhost:8080/"
        },
        "id": "exterior-fraud",
        "outputId": "15178a63-367c-4b5b-e802-9cf950b7f9b3"
      }
    },
    {
      "cell_type": "code",
      "execution_count": 54,
      "source": [
        "#get 3rd ex up to 10 feature\n",
        "print(z[2,0:10])"
      ],
      "outputs": [
        {
          "output_type": "stream",
          "name": "stdout",
          "text": [
            "tensor([0.8086, 0.7744, 0.4699, 0.1511, 0.9356, 0.7688, 0.6516, 0.0754, 0.3141,\n",
            "        0.2464])\n"
          ]
        }
      ],
      "metadata": {
        "colab": {
          "base_uri": "https://localhost:8080/"
        },
        "id": "direct-component",
        "outputId": "15a15eb2-f7e3-4512-fb03-154de83ece6e"
      }
    },
    {
      "cell_type": "code",
      "execution_count": 55,
      "source": [
        "#you can assign value to the tensor\n",
        "z[0,0]=100\n",
        "print(z[0,0])"
      ],
      "outputs": [
        {
          "output_type": "stream",
          "name": "stdout",
          "text": [
            "tensor(100.)\n"
          ]
        }
      ],
      "metadata": {
        "colab": {
          "base_uri": "https://localhost:8080/"
        },
        "id": "careful-rings",
        "outputId": "53e59fe1-0ec9-4259-973f-5ab84bd6394b"
      }
    },
    {
      "cell_type": "code",
      "execution_count": 56,
      "source": [
        "# Fancy Indexing\n",
        "x=torch.arange(10)\n",
        "indices = [2,5,8]\n",
        "print(x[indices])\n",
        "x=torch.rand((3,5))\n",
        "rows = torch.tensor([1,0])\n",
        "cols=torch.tensor([4,0])\n",
        "print(x[rows,cols])"
      ],
      "outputs": [
        {
          "output_type": "stream",
          "name": "stdout",
          "text": [
            "tensor([2, 5, 8])\n",
            "tensor([0.1210, 0.1174])\n"
          ]
        }
      ],
      "metadata": {
        "colab": {
          "base_uri": "https://localhost:8080/"
        },
        "id": "ordinary-virginia",
        "outputId": "008f39e1-e002-42b6-cfc9-60ae73b657dc"
      }
    },
    {
      "cell_type": "code",
      "execution_count": 57,
      "source": [
        "# more advance indexing\n",
        "x=torch.arange(10)\n",
        "print(x[(x<2) | (x>8)])"
      ],
      "outputs": [
        {
          "output_type": "stream",
          "name": "stdout",
          "text": [
            "tensor([0, 1, 9])\n"
          ]
        }
      ],
      "metadata": {
        "colab": {
          "base_uri": "https://localhost:8080/"
        },
        "id": "demanding-royalty",
        "outputId": "ef58c076-c63f-4930-ab1f-8bdc2d7f6681"
      }
    },
    {
      "cell_type": "code",
      "execution_count": 58,
      "source": [
        "print(x[x.remainder(2)==0])"
      ],
      "outputs": [
        {
          "output_type": "stream",
          "name": "stdout",
          "text": [
            "tensor([0, 2, 4, 6, 8])\n"
          ]
        }
      ],
      "metadata": {
        "colab": {
          "base_uri": "https://localhost:8080/"
        },
        "id": "mobile-keyboard",
        "outputId": "880ea0f9-b938-4b1e-b185-c06d319fa1f6"
      }
    },
    {
      "cell_type": "code",
      "execution_count": 59,
      "source": [
        "#useful Operation\n",
        "print(torch.where(x>5,x,x*2))\n",
        "print(torch.tensor([0,0,1,1,2,3,3]).unique())\n",
        "print(x.ndimension())"
      ],
      "outputs": [
        {
          "output_type": "stream",
          "name": "stdout",
          "text": [
            "tensor([ 0,  2,  4,  6,  8, 10,  6,  7,  8,  9])\n",
            "tensor([0, 1, 2, 3])\n",
            "1\n"
          ]
        }
      ],
      "metadata": {
        "colab": {
          "base_uri": "https://localhost:8080/"
        },
        "id": "peripheral-treatment",
        "outputId": "871313fc-e1ad-4ff0-98aa-7412974fcaad"
      }
    },
    {
      "cell_type": "code",
      "execution_count": null,
      "source": [
        "# returns total number of input tensor\n",
        "print(x.numel())"
      ],
      "outputs": [
        {
          "output_type": "stream",
          "name": "stdout",
          "text": [
            "10\n"
          ]
        }
      ],
      "metadata": {
        "colab": {
          "base_uri": "https://localhost:8080/"
        },
        "id": "bacterial-coffee",
        "outputId": "624a021c-391f-410c-9cdf-24ec4ce66872"
      }
    },
    {
      "cell_type": "markdown",
      "source": [
        "<h1>-------------reshaping matrix--------</h1>"
      ],
      "metadata": {
        "id": "amino-hormone"
      }
    },
    {
      "cell_type": "code",
      "execution_count": 60,
      "source": [
        "x = torch.arange(9)\n",
        "x_3x3=x.view(3,3) #need contiguous memory\n",
        "print(x_3x3)\n",
        "x_3x3=x.reshape(3,3)\n",
        "print(x_3x3)"
      ],
      "outputs": [
        {
          "output_type": "stream",
          "name": "stdout",
          "text": [
            "tensor([[0, 1, 2],\n",
            "        [3, 4, 5],\n",
            "        [6, 7, 8]])\n",
            "tensor([[0, 1, 2],\n",
            "        [3, 4, 5],\n",
            "        [6, 7, 8]])\n"
          ]
        }
      ],
      "metadata": {
        "colab": {
          "base_uri": "https://localhost:8080/"
        },
        "id": "focal-hampshire",
        "outputId": "c4614f33-3894-4e93-b2a0-8e76e1201bf8"
      }
    },
    {
      "cell_type": "code",
      "execution_count": 63,
      "source": [
        "y=x_3x3.t()\n",
        "y.flatten()"
      ],
      "outputs": [
        {
          "output_type": "execute_result",
          "data": {
            "text/plain": [
              "tensor([0, 3, 6, 1, 4, 7, 2, 5, 8])"
            ]
          },
          "metadata": {},
          "execution_count": 63
        }
      ],
      "metadata": {
        "colab": {
          "base_uri": "https://localhost:8080/"
        },
        "id": "brave-bernard",
        "outputId": "aba2daf7-33a6-4697-f81c-e6aef43784c0"
      }
    },
    {
      "cell_type": "code",
      "execution_count": 64,
      "source": [
        "x1 = torch.rand((2,5))\n",
        "x2= torch.rand((2,5))\n",
        "print(torch.cat((x1,x2),dim=0).shape) #vertically stack\n",
        "print(torch.cat((x1,x2),dim=1).shape) #h stack"
      ],
      "outputs": [
        {
          "output_type": "stream",
          "name": "stdout",
          "text": [
            "torch.Size([4, 5])\n",
            "torch.Size([2, 10])\n"
          ]
        }
      ],
      "metadata": {
        "colab": {
          "base_uri": "https://localhost:8080/"
        },
        "id": "early-damage",
        "outputId": "aaefa46c-ebff-42e0-d3ef-3bba2d5036b7"
      }
    },
    {
      "cell_type": "code",
      "execution_count": 65,
      "source": [
        "batch = 64\n",
        "x =  torch.rand((batch,2,5))\n",
        "z =x.view(batch,-1)\n",
        "print(z.shape)"
      ],
      "outputs": [
        {
          "output_type": "stream",
          "name": "stdout",
          "text": [
            "torch.Size([64, 10])\n"
          ]
        }
      ],
      "metadata": {
        "colab": {
          "base_uri": "https://localhost:8080/"
        },
        "id": "ignored-webmaster",
        "outputId": "34bfda7e-4a06-42ad-875c-eeb70f41b634"
      }
    },
    {
      "cell_type": "code",
      "execution_count": null,
      "source": [
        "#switch axis while keeping batch\n",
        "z= x.permute(0,2,1)\n",
        "print(z.shape)"
      ],
      "outputs": [
        {
          "output_type": "stream",
          "name": "stdout",
          "text": [
            "torch.Size([64, 5, 2])\n"
          ]
        }
      ],
      "metadata": {
        "colab": {
          "base_uri": "https://localhost:8080/"
        },
        "id": "broken-liabilities",
        "outputId": "d4c4dcfb-ce17-4f61-d2e4-31d51bd51ede"
      }
    },
    {
      "cell_type": "code",
      "execution_count": 66,
      "source": [
        "# torch.unsqueeze() returns a new tensor with a dimension of size one inserted at the specified position.\n",
        "x = torch.arange(10)  #[0,1,2,...,9]\n",
        "print(x.unsqueeze(0)) #[1,10]\n",
        "print(x.unsqueeze(1))  #[10,1]"
      ],
      "outputs": [
        {
          "output_type": "stream",
          "name": "stdout",
          "text": [
            "tensor([[0, 1, 2, 3, 4, 5, 6, 7, 8, 9]])\n",
            "tensor([[0],\n",
            "        [1],\n",
            "        [2],\n",
            "        [3],\n",
            "        [4],\n",
            "        [5],\n",
            "        [6],\n",
            "        [7],\n",
            "        [8],\n",
            "        [9]])\n"
          ]
        }
      ],
      "metadata": {
        "colab": {
          "base_uri": "https://localhost:8080/"
        },
        "id": "french-doctor",
        "outputId": "5a212d70-eff1-47a5-ef09-e624d2d4a807"
      }
    },
    {
      "cell_type": "code",
      "execution_count": null,
      "source": [],
      "outputs": [],
      "metadata": {}
    }
  ]
}