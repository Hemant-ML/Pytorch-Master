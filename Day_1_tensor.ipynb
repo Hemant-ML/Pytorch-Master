{
  "nbformat": 4,
  "nbformat_minor": 5,
  "metadata": {
    "accelerator": "GPU",
    "colab": {
      "name": "Day_1_tensor.ipynb",
      "provenance": [],
      "collapsed_sections": [],
      "include_colab_link": true
    },
    "kernelspec": {
      "display_name": "Python 3",
      "language": "python",
      "name": "python3"
    },
    "language_info": {
      "codemirror_mode": {
        "name": "ipython",
        "version": 3
      },
      "file_extension": ".py",
      "mimetype": "text/x-python",
      "name": "python",
      "nbconvert_exporter": "python",
      "pygments_lexer": "ipython3",
      "version": "3.8.8"
    }
  },
  "cells": [
    {
      "cell_type": "markdown",
      "metadata": {
        "id": "view-in-github",
        "colab_type": "text"
      },
      "source": [
        "<a href=\"https://colab.research.google.com/github/Hemant-ML/Pytorch-Master/blob/main/Day_1_tensor.ipynb\" target=\"_parent\"><img src=\"https://colab.research.google.com/assets/colab-badge.svg\" alt=\"Open In Colab\"/></a>"
      ]
    },
    {
      "cell_type": "markdown",
      "metadata": {
        "id": "chubby-bookmark"
      },
      "source": [
        "<h1>Importing libraries</h1>"
      ],
      "id": "chubby-bookmark"
    },
    {
      "cell_type": "code",
      "metadata": {
        "id": "conditional-teach",
        "colab": {
          "base_uri": "https://localhost:8080/"
        },
        "outputId": "33528771-ec97-4246-d9e5-e45307c60453"
      },
      "source": [
        "import torch\n",
        "import numpy as np\n",
        "import matplotlib.pyplot as plt\n",
        "\n",
        "torch.manual_seed(123)"
      ],
      "id": "conditional-teach",
      "execution_count": 24,
      "outputs": [
        {
          "output_type": "execute_result",
          "data": {
            "text/plain": [
              "<torch._C.Generator at 0x7f9fc54a8930>"
            ]
          },
          "metadata": {
            "tags": []
          },
          "execution_count": 24
        }
      ]
    },
    {
      "cell_type": "markdown",
      "metadata": {
        "id": "dominant-bristol"
      },
      "source": [
        "<h1>Initializing Tensor<h1>"
      ],
      "id": "dominant-bristol"
    },
    {
      "cell_type": "code",
      "metadata": {
        "id": "herbal-graphic"
      },
      "source": [
        "device = torch.device(\"cuda\" if torch.cuda.is_available() else \"cpu\")"
      ],
      "id": "herbal-graphic",
      "execution_count": 2,
      "outputs": []
    },
    {
      "cell_type": "code",
      "metadata": {
        "id": "loaded-january"
      },
      "source": [
        "my_tensor = torch.tensor([[1,2,3],[4,5,6],[7,8,9]],dtype=torch.float32,device=device)"
      ],
      "id": "loaded-january",
      "execution_count": 3,
      "outputs": []
    },
    {
      "cell_type": "code",
      "metadata": {
        "colab": {
          "base_uri": "https://localhost:8080/"
        },
        "id": "invalid-plenty",
        "outputId": "a7c34e9e-1caa-4f81-f616-71b4f209b657"
      },
      "source": [
        "print(my_tensor)"
      ],
      "id": "invalid-plenty",
      "execution_count": 4,
      "outputs": [
        {
          "output_type": "stream",
          "text": [
            "tensor([[1., 2., 3.],\n",
            "        [4., 5., 6.],\n",
            "        [7., 8., 9.]], device='cuda:0')\n"
          ],
          "name": "stdout"
        }
      ]
    },
    {
      "cell_type": "code",
      "metadata": {
        "colab": {
          "base_uri": "https://localhost:8080/"
        },
        "id": "ancient-thong",
        "outputId": "1daad485-2421-4cc2-d0d7-da146f096d2d"
      },
      "source": [
        "print(my_tensor.dtype)"
      ],
      "id": "ancient-thong",
      "execution_count": 5,
      "outputs": [
        {
          "output_type": "stream",
          "text": [
            "torch.float32\n"
          ],
          "name": "stdout"
        }
      ]
    },
    {
      "cell_type": "code",
      "metadata": {
        "colab": {
          "base_uri": "https://localhost:8080/"
        },
        "id": "specified-space",
        "outputId": "d4b89e2f-f29f-426a-b486-da6581ce9b3b"
      },
      "source": [
        "print(my_tensor.device)"
      ],
      "id": "specified-space",
      "execution_count": 6,
      "outputs": [
        {
          "output_type": "stream",
          "text": [
            "cuda:0\n"
          ],
          "name": "stdout"
        }
      ]
    },
    {
      "cell_type": "code",
      "metadata": {
        "colab": {
          "base_uri": "https://localhost:8080/"
        },
        "id": "systematic-conditioning",
        "outputId": "07c15a72-f976-429d-8474-b9007862b67f"
      },
      "source": [
        "print(my_tensor.shape)"
      ],
      "id": "systematic-conditioning",
      "execution_count": 7,
      "outputs": [
        {
          "output_type": "stream",
          "text": [
            "torch.Size([3, 3])\n"
          ],
          "name": "stdout"
        }
      ]
    },
    {
      "cell_type": "markdown",
      "metadata": {
        "id": "abstract-publisher"
      },
      "source": [
        "<h1>other initialization methods<h1>"
      ],
      "id": "abstract-publisher"
    },
    {
      "cell_type": "code",
      "metadata": {
        "id": "refined-sigma"
      },
      "source": [
        "x = torch.empty(3,3)"
      ],
      "id": "refined-sigma",
      "execution_count": 8,
      "outputs": []
    },
    {
      "cell_type": "code",
      "metadata": {
        "id": "proof-ribbon"
      },
      "source": [
        "x1 = torch.zeros((3,3))"
      ],
      "id": "proof-ribbon",
      "execution_count": 9,
      "outputs": []
    },
    {
      "cell_type": "code",
      "metadata": {
        "colab": {
          "base_uri": "https://localhost:8080/"
        },
        "id": "thick-office",
        "outputId": "1e363efb-8302-4466-92fd-cb7fb18da364"
      },
      "source": [
        "print(x,x1)"
      ],
      "id": "thick-office",
      "execution_count": 10,
      "outputs": [
        {
          "output_type": "stream",
          "text": [
            "tensor([[-3.7420e+33,  3.0613e-41,  3.3631e-44],\n",
            "        [ 0.0000e+00,         nan,  0.0000e+00],\n",
            "        [ 1.1578e+27,  1.1362e+30,  7.1547e+22]]) tensor([[0., 0., 0.],\n",
            "        [0., 0., 0.],\n",
            "        [0., 0., 0.]])\n"
          ],
          "name": "stdout"
        }
      ]
    },
    {
      "cell_type": "code",
      "metadata": {
        "id": "elect-replication",
        "colab": {
          "base_uri": "https://localhost:8080/"
        },
        "outputId": "5590ddc7-4109-4d10-f8c5-a3fd9e921872"
      },
      "source": [
        "#number taken from normal distribution. By default mean=0 and std=1\n",
        "y=torch.randn(3,3)\n",
        "y"
      ],
      "id": "elect-replication",
      "execution_count": 14,
      "outputs": [
        {
          "output_type": "execute_result",
          "data": {
            "text/plain": [
              "tensor([[-0.4015, -0.7291, -0.1218],\n",
              "        [-0.4796, -0.5166, -0.3107],\n",
              "        [ 0.2057,  0.9657,  0.7057]])"
            ]
          },
          "metadata": {
            "tags": []
          },
          "execution_count": 14
        }
      ]
    },
    {
      "cell_type": "code",
      "metadata": {
        "colab": {
          "base_uri": "https://localhost:8080/"
        },
        "id": "still-rainbow",
        "outputId": "4049cfcc-f8e9-4190-d098-8f849d839da0"
      },
      "source": [
        "#no taken from uniform disstribution [0,1]\n",
        "y1=torch.rand(3,3)\n",
        "y1"
      ],
      "id": "still-rainbow",
      "execution_count": 15,
      "outputs": [
        {
          "output_type": "execute_result",
          "data": {
            "text/plain": [
              "tensor([[0.1459, 0.0969, 0.7076],\n",
              "        [0.5112, 0.7050, 0.0114],\n",
              "        [0.4702, 0.8526, 0.7320]])"
            ]
          },
          "metadata": {
            "tags": []
          },
          "execution_count": 15
        }
      ]
    },
    {
      "cell_type": "code",
      "metadata": {
        "id": "continental-transportation",
        "colab": {
          "base_uri": "https://localhost:8080/"
        },
        "outputId": "f51ee71e-03aa-4680-fb44-1f5f4e8c5737"
      },
      "source": [
        "y= torch.ones_like(y1)\n",
        "y"
      ],
      "id": "continental-transportation",
      "execution_count": 16,
      "outputs": [
        {
          "output_type": "execute_result",
          "data": {
            "text/plain": [
              "tensor([[1., 1., 1.],\n",
              "        [1., 1., 1.],\n",
              "        [1., 1., 1.]])"
            ]
          },
          "metadata": {
            "tags": []
          },
          "execution_count": 16
        }
      ]
    },
    {
      "cell_type": "code",
      "metadata": {
        "id": "japanese-fleet",
        "colab": {
          "base_uri": "https://localhost:8080/"
        },
        "outputId": "a9450fbb-679f-43fe-da90-dfb0f37dc496"
      },
      "source": [
        "y=torch.eye(3)\n",
        "y"
      ],
      "id": "japanese-fleet",
      "execution_count": 17,
      "outputs": [
        {
          "output_type": "execute_result",
          "data": {
            "text/plain": [
              "tensor([[1., 0., 0.],\n",
              "        [0., 1., 0.],\n",
              "        [0., 0., 1.]])"
            ]
          },
          "metadata": {
            "tags": []
          },
          "execution_count": 17
        }
      ]
    },
    {
      "cell_type": "code",
      "metadata": {
        "id": "cellular-reader",
        "colab": {
          "base_uri": "https://localhost:8080/"
        },
        "outputId": "99e6e90b-8b39-467c-8c58-ae662eddafaf"
      },
      "source": [
        "#torch.arange(start,end,step_size)\n",
        "y=torch.arange(0,10,2)\n",
        "y"
      ],
      "id": "cellular-reader",
      "execution_count": 18,
      "outputs": [
        {
          "output_type": "execute_result",
          "data": {
            "text/plain": [
              "tensor([0, 2, 4, 6, 8])"
            ]
          },
          "metadata": {
            "tags": []
          },
          "execution_count": 18
        }
      ]
    },
    {
      "cell_type": "code",
      "metadata": {
        "id": "social-navigator",
        "colab": {
          "base_uri": "https://localhost:8080/"
        },
        "outputId": "c38bc02e-82c8-4d56-db03-89a9cd47c6df"
      },
      "source": [
        "\n",
        "x = torch.linspace(start=0.1,end=1,steps=10)\n",
        "x"
      ],
      "id": "social-navigator",
      "execution_count": 19,
      "outputs": [
        {
          "output_type": "execute_result",
          "data": {
            "text/plain": [
              "tensor([0.1000, 0.2000, 0.3000, 0.4000, 0.5000, 0.6000, 0.7000, 0.8000, 0.9000,\n",
              "        1.0000])"
            ]
          },
          "metadata": {
            "tags": []
          },
          "execution_count": 19
        }
      ]
    },
    {
      "cell_type": "code",
      "metadata": {
        "id": "medium-numbers",
        "colab": {
          "base_uri": "https://localhost:8080/"
        },
        "outputId": "f3ce1c74-8d28-42ac-dce2-dcb20972e728"
      },
      "source": [
        "y = torch.empty(3,3).normal_(mean=0,std=1)\n",
        "\n",
        "y"
      ],
      "id": "medium-numbers",
      "execution_count": 28,
      "outputs": [
        {
          "output_type": "execute_result",
          "data": {
            "text/plain": [
              "tensor([[-0.4015, -0.7291, -0.1218],\n",
              "        [-0.4796, -0.5166, -0.3107],\n",
              "        [ 0.2057,  0.9657,  0.7057]])"
            ]
          },
          "metadata": {
            "tags": []
          },
          "execution_count": 28
        }
      ]
    },
    {
      "cell_type": "code",
      "metadata": {
        "id": "psychological-activation",
        "colab": {
          "base_uri": "https://localhost:8080/"
        },
        "outputId": "c64767fc-52d0-4588-9bf3-8909f28132db"
      },
      "source": [
        "x=torch.empty(1,5).uniform_(0,1)\n",
        "x"
      ],
      "id": "psychological-activation",
      "execution_count": 29,
      "outputs": [
        {
          "output_type": "execute_result",
          "data": {
            "text/plain": [
              "tensor([[0.1459, 0.0969, 0.7076, 0.5112, 0.7050]])"
            ]
          },
          "metadata": {
            "tags": []
          },
          "execution_count": 29
        }
      ]
    },
    {
      "cell_type": "code",
      "metadata": {
        "id": "coastal-prison",
        "colab": {
          "base_uri": "https://localhost:8080/"
        },
        "outputId": "0af2cf43-ff9b-42c3-e58a-34daa059f67c"
      },
      "source": [
        "x= torch.diag(y)\n",
        "x"
      ],
      "id": "coastal-prison",
      "execution_count": 30,
      "outputs": [
        {
          "output_type": "execute_result",
          "data": {
            "text/plain": [
              "tensor([-0.4015, -0.5166,  0.7057])"
            ]
          },
          "metadata": {
            "tags": []
          },
          "execution_count": 30
        }
      ]
    },
    {
      "cell_type": "markdown",
      "metadata": {
        "id": "previous-memorial"
      },
      "source": [
        "<h1>Initialize and convert to other type (int,float,double)<h1>"
      ],
      "id": "previous-memorial"
    },
    {
      "cell_type": "code",
      "metadata": {
        "id": "prospective-proceeding"
      },
      "source": [
        "tensor=torch.arange(4)"
      ],
      "id": "prospective-proceeding",
      "execution_count": 31,
      "outputs": []
    },
    {
      "cell_type": "code",
      "metadata": {
        "colab": {
          "base_uri": "https://localhost:8080/"
        },
        "id": "worldwide-programming",
        "outputId": "715f3914-c110-448e-dd44-a592b659407f"
      },
      "source": [
        "tensor"
      ],
      "id": "worldwide-programming",
      "execution_count": 32,
      "outputs": [
        {
          "output_type": "execute_result",
          "data": {
            "text/plain": [
              "tensor([0, 1, 2, 3])"
            ]
          },
          "metadata": {
            "tags": []
          },
          "execution_count": 32
        }
      ]
    },
    {
      "cell_type": "code",
      "metadata": {
        "colab": {
          "base_uri": "https://localhost:8080/"
        },
        "id": "mediterranean-wilderness",
        "outputId": "900875a6-9a8e-40d9-8abe-ed692fedf96b"
      },
      "source": [
        "tensor.dtype"
      ],
      "id": "mediterranean-wilderness",
      "execution_count": 33,
      "outputs": [
        {
          "output_type": "execute_result",
          "data": {
            "text/plain": [
              "torch.int64"
            ]
          },
          "metadata": {
            "tags": []
          },
          "execution_count": 33
        }
      ]
    },
    {
      "cell_type": "code",
      "metadata": {
        "colab": {
          "base_uri": "https://localhost:8080/"
        },
        "id": "standard-controversy",
        "outputId": "efcd540f-1390-4111-c4a2-e43a19fcffd3"
      },
      "source": [
        "tensor.bool()"
      ],
      "id": "standard-controversy",
      "execution_count": 34,
      "outputs": [
        {
          "output_type": "execute_result",
          "data": {
            "text/plain": [
              "tensor([False,  True,  True,  True])"
            ]
          },
          "metadata": {
            "tags": []
          },
          "execution_count": 34
        }
      ]
    },
    {
      "cell_type": "code",
      "metadata": {
        "colab": {
          "base_uri": "https://localhost:8080/"
        },
        "id": "nervous-taxation",
        "outputId": "b005c478-5504-4ba2-f317-726538037578"
      },
      "source": [
        "tensor.short()"
      ],
      "id": "nervous-taxation",
      "execution_count": 35,
      "outputs": [
        {
          "output_type": "execute_result",
          "data": {
            "text/plain": [
              "tensor([0, 1, 2, 3], dtype=torch.int16)"
            ]
          },
          "metadata": {
            "tags": []
          },
          "execution_count": 35
        }
      ]
    },
    {
      "cell_type": "code",
      "metadata": {
        "colab": {
          "base_uri": "https://localhost:8080/"
        },
        "id": "afraid-handle",
        "outputId": "eab1d7d3-cc5b-4247-a7b8-3d33910909c4"
      },
      "source": [
        "tensor.long()"
      ],
      "id": "afraid-handle",
      "execution_count": 36,
      "outputs": [
        {
          "output_type": "execute_result",
          "data": {
            "text/plain": [
              "tensor([0, 1, 2, 3])"
            ]
          },
          "metadata": {
            "tags": []
          },
          "execution_count": 36
        }
      ]
    },
    {
      "cell_type": "code",
      "metadata": {
        "colab": {
          "base_uri": "https://localhost:8080/"
        },
        "id": "complex-hotel",
        "outputId": "22670982-8967-4ce1-dc6c-e0691b2b3e29"
      },
      "source": [
        "tensor.half()"
      ],
      "id": "complex-hotel",
      "execution_count": 37,
      "outputs": [
        {
          "output_type": "execute_result",
          "data": {
            "text/plain": [
              "tensor([0., 1., 2., 3.], dtype=torch.float16)"
            ]
          },
          "metadata": {
            "tags": []
          },
          "execution_count": 37
        }
      ]
    },
    {
      "cell_type": "code",
      "metadata": {
        "colab": {
          "base_uri": "https://localhost:8080/"
        },
        "id": "extraordinary-replication",
        "outputId": "1f20dc3d-bc8a-476f-a977-ef96242702d7"
      },
      "source": [
        "tensor.float()"
      ],
      "id": "extraordinary-replication",
      "execution_count": 38,
      "outputs": [
        {
          "output_type": "execute_result",
          "data": {
            "text/plain": [
              "tensor([0., 1., 2., 3.])"
            ]
          },
          "metadata": {
            "tags": []
          },
          "execution_count": 38
        }
      ]
    },
    {
      "cell_type": "code",
      "metadata": {
        "colab": {
          "base_uri": "https://localhost:8080/"
        },
        "id": "emotional-title",
        "outputId": "06c176d8-44f5-4082-f4ce-3bca47a94603"
      },
      "source": [
        "tensor.double()"
      ],
      "id": "emotional-title",
      "execution_count": 39,
      "outputs": [
        {
          "output_type": "execute_result",
          "data": {
            "text/plain": [
              "tensor([0., 1., 2., 3.], dtype=torch.float64)"
            ]
          },
          "metadata": {
            "tags": []
          },
          "execution_count": 39
        }
      ]
    },
    {
      "cell_type": "code",
      "metadata": {
        "id": "executive-serum"
      },
      "source": [
        "np_array = np.array([[1,2,3],[4,5,6]])"
      ],
      "id": "executive-serum",
      "execution_count": 40,
      "outputs": []
    },
    {
      "cell_type": "code",
      "metadata": {
        "colab": {
          "base_uri": "https://localhost:8080/"
        },
        "id": "retired-array",
        "outputId": "74e7187d-1eae-4e51-fbe5-413490b8f14b"
      },
      "source": [
        "np_array"
      ],
      "id": "retired-array",
      "execution_count": 41,
      "outputs": [
        {
          "output_type": "execute_result",
          "data": {
            "text/plain": [
              "array([[1, 2, 3],\n",
              "       [4, 5, 6]])"
            ]
          },
          "metadata": {
            "tags": []
          },
          "execution_count": 41
        }
      ]
    },
    {
      "cell_type": "code",
      "metadata": {
        "id": "continental-lawsuit"
      },
      "source": [
        "torch_array=torch.from_numpy(np_array)"
      ],
      "id": "continental-lawsuit",
      "execution_count": 42,
      "outputs": []
    },
    {
      "cell_type": "code",
      "metadata": {
        "colab": {
          "base_uri": "https://localhost:8080/"
        },
        "id": "compound-liability",
        "outputId": "996e68fd-e3c6-40c6-80dd-4af4819972e4"
      },
      "source": [
        "torch_array"
      ],
      "id": "compound-liability",
      "execution_count": 43,
      "outputs": [
        {
          "output_type": "execute_result",
          "data": {
            "text/plain": [
              "tensor([[1, 2, 3],\n",
              "        [4, 5, 6]])"
            ]
          },
          "metadata": {
            "tags": []
          },
          "execution_count": 43
        }
      ]
    },
    {
      "cell_type": "code",
      "metadata": {
        "id": "stylish-israel"
      },
      "source": [
        "np_array_back = torch_array.numpy()"
      ],
      "id": "stylish-israel",
      "execution_count": 44,
      "outputs": []
    },
    {
      "cell_type": "code",
      "metadata": {
        "colab": {
          "base_uri": "https://localhost:8080/"
        },
        "id": "suitable-seeker",
        "outputId": "81b2a982-7dd7-4583-a03d-549244b0d927"
      },
      "source": [
        "np_array_back"
      ],
      "id": "suitable-seeker",
      "execution_count": 45,
      "outputs": [
        {
          "output_type": "execute_result",
          "data": {
            "text/plain": [
              "array([[1, 2, 3],\n",
              "       [4, 5, 6]])"
            ]
          },
          "metadata": {
            "tags": []
          },
          "execution_count": 45
        }
      ]
    },
    {
      "cell_type": "markdown",
      "metadata": {
        "id": "threaded-voltage"
      },
      "source": [
        "<h1> Tensor math and comparison operators <h1>"
      ],
      "id": "threaded-voltage"
    },
    {
      "cell_type": "code",
      "metadata": {
        "id": "engaged-gross"
      },
      "source": [
        "x = torch.tensor([1,2,3])\n",
        "y=torch.tensor([9,8,7])"
      ],
      "id": "engaged-gross",
      "execution_count": 46,
      "outputs": []
    },
    {
      "cell_type": "markdown",
      "metadata": {
        "id": "laughing-physics"
      },
      "source": [
        "<h1>Addition<h1>\n"
      ],
      "id": "laughing-physics"
    },
    {
      "cell_type": "code",
      "metadata": {
        "colab": {
          "base_uri": "https://localhost:8080/"
        },
        "id": "social-tower",
        "outputId": "48485a40-ac34-4214-e49f-db15cc15c7c4"
      },
      "source": [
        "z1 = torch.empty(3)\n",
        "print(torch.add(x,y,out=z1),x+y,x.add(y),torch.add(x,y))"
      ],
      "id": "social-tower",
      "execution_count": 47,
      "outputs": [
        {
          "output_type": "stream",
          "text": [
            "tensor([10., 10., 10.]) tensor([10, 10, 10]) tensor([10, 10, 10]) tensor([10, 10, 10])\n"
          ],
          "name": "stdout"
        }
      ]
    },
    {
      "cell_type": "markdown",
      "metadata": {
        "id": "lovely-tenant"
      },
      "source": [
        "<h1>Subtraction<h1>"
      ],
      "id": "lovely-tenant"
    },
    {
      "cell_type": "code",
      "metadata": {
        "colab": {
          "base_uri": "https://localhost:8080/"
        },
        "id": "sought-colorado",
        "outputId": "94548e42-2cda-4ae0-fb64-07bc41b4352c"
      },
      "source": [
        "z = x-y\n",
        "z"
      ],
      "id": "sought-colorado",
      "execution_count": 48,
      "outputs": [
        {
          "output_type": "execute_result",
          "data": {
            "text/plain": [
              "tensor([-8, -6, -4])"
            ]
          },
          "metadata": {
            "tags": []
          },
          "execution_count": 48
        }
      ]
    },
    {
      "cell_type": "code",
      "metadata": {
        "colab": {
          "base_uri": "https://localhost:8080/"
        },
        "id": "legal-merit",
        "outputId": "7b4400cc-5231-4c8d-bbd4-52b004736b53"
      },
      "source": [
        "#division\n",
        "z=torch.true_divide(y,x)\n",
        "z"
      ],
      "id": "legal-merit",
      "execution_count": 50,
      "outputs": [
        {
          "output_type": "execute_result",
          "data": {
            "text/plain": [
              "tensor([9.0000, 4.0000, 2.3333])"
            ]
          },
          "metadata": {
            "tags": []
          },
          "execution_count": 50
        }
      ]
    },
    {
      "cell_type": "code",
      "metadata": {
        "colab": {
          "base_uri": "https://localhost:8080/"
        },
        "id": "together-norfolk",
        "outputId": "74109841-eb06-489e-c9f4-e79a6b7fad20"
      },
      "source": [
        "#wherever _ there is inplace operation\n",
        "t=torch.zeros(3)\n",
        "t.add_(x)\n",
        "t"
      ],
      "id": "together-norfolk",
      "execution_count": 52,
      "outputs": [
        {
          "output_type": "execute_result",
          "data": {
            "text/plain": [
              "tensor([1., 2., 3.])"
            ]
          },
          "metadata": {
            "tags": []
          },
          "execution_count": 52
        }
      ]
    },
    {
      "cell_type": "code",
      "metadata": {
        "colab": {
          "base_uri": "https://localhost:8080/"
        },
        "id": "operational-consumer",
        "outputId": "92373d5f-2393-487c-83d1-f84612dd40b2"
      },
      "source": [
        "#exponentiation\n",
        "z=x.pow(2)\n",
        "z"
      ],
      "id": "operational-consumer",
      "execution_count": 53,
      "outputs": [
        {
          "output_type": "execute_result",
          "data": {
            "text/plain": [
              "tensor([1, 4, 9])"
            ]
          },
          "metadata": {
            "tags": []
          },
          "execution_count": 53
        }
      ]
    },
    {
      "cell_type": "code",
      "metadata": {
        "colab": {
          "base_uri": "https://localhost:8080/"
        },
        "id": "crude-immunology",
        "outputId": "dbb935c1-7c9d-4fb7-ac14-91c20037458e"
      },
      "source": [
        "#simple comparison\n",
        "z= x>0\n",
        "print(z)\n",
        "z=x<=0\n",
        "print(z)"
      ],
      "id": "crude-immunology",
      "execution_count": 54,
      "outputs": [
        {
          "output_type": "stream",
          "text": [
            "tensor([True, True, True])\n",
            "tensor([False, False, False])\n"
          ],
          "name": "stdout"
        }
      ]
    },
    {
      "cell_type": "code",
      "metadata": {
        "colab": {
          "base_uri": "https://localhost:8080/"
        },
        "id": "sealed-consumption",
        "outputId": "8c71c802-a881-4968-bae1-f881915e1cf3"
      },
      "source": [
        "#matrix multiplication\n",
        "x1 = torch.rand((5,2))\n",
        "x2= torch.rand((5,3))\n",
        "x3=torch.mm(x1.T,x2)\n",
        "x4=x1.T.mm(x2)\n",
        "print(x3,x4)"
      ],
      "id": "sealed-consumption",
      "execution_count": 56,
      "outputs": [
        {
          "output_type": "stream",
          "text": [
            "tensor([[2.3269, 1.7523, 1.4526],\n",
            "        [1.5877, 1.5875, 0.9443]]) tensor([[2.3269, 1.7523, 1.4526],\n",
            "        [1.5877, 1.5875, 0.9443]])\n"
          ],
          "name": "stdout"
        }
      ]
    },
    {
      "cell_type": "code",
      "metadata": {
        "colab": {
          "base_uri": "https://localhost:8080/"
        },
        "id": "derived-criminal",
        "outputId": "748b07ff-6b3a-4275-fbab-1c811d31e23b"
      },
      "source": [
        "#matrix exponentiation\n",
        "matrix_exp = torch.rand((5,5))\n",
        "matrix_exp.matrix_power(3)"
      ],
      "id": "derived-criminal",
      "execution_count": 57,
      "outputs": [
        {
          "output_type": "execute_result",
          "data": {
            "text/plain": [
              "tensor([[4.1573, 3.2568, 3.3922, 2.0159, 3.3206],\n",
              "        [2.3992, 1.8879, 1.9911, 1.1633, 1.9319],\n",
              "        [3.1266, 2.3969, 2.5419, 1.5334, 2.5542],\n",
              "        [3.6363, 2.7914, 2.8935, 1.7815, 2.8824],\n",
              "        [1.8266, 1.4077, 1.4851, 0.9094, 1.4860]])"
            ]
          },
          "metadata": {
            "tags": []
          },
          "execution_count": 57
        }
      ]
    },
    {
      "cell_type": "code",
      "metadata": {
        "colab": {
          "base_uri": "https://localhost:8080/"
        },
        "id": "infinite-blame",
        "outputId": "e1e2974b-a86b-4108-f57c-d609891d217a"
      },
      "source": [
        "#elementwise\n",
        "x=torch.tensor([1,2,3])\n",
        "y=torch.tensor([4,5,6])\n",
        "z = x*y\n",
        "z"
      ],
      "id": "infinite-blame",
      "execution_count": 58,
      "outputs": [
        {
          "output_type": "execute_result",
          "data": {
            "text/plain": [
              "tensor([ 4, 10, 18])"
            ]
          },
          "metadata": {
            "tags": []
          },
          "execution_count": 58
        }
      ]
    },
    {
      "cell_type": "code",
      "metadata": {
        "colab": {
          "base_uri": "https://localhost:8080/"
        },
        "id": "inappropriate-valley",
        "outputId": "f9658233-c2b1-4c2a-96f0-26a712186c6e"
      },
      "source": [
        "#dot product\n",
        "z= torch.dot(x,y)\n",
        "z"
      ],
      "id": "inappropriate-valley",
      "execution_count": 59,
      "outputs": [
        {
          "output_type": "execute_result",
          "data": {
            "text/plain": [
              "tensor(32)"
            ]
          },
          "metadata": {
            "tags": []
          },
          "execution_count": 59
        }
      ]
    },
    {
      "cell_type": "code",
      "metadata": {
        "colab": {
          "base_uri": "https://localhost:8080/"
        },
        "id": "ordinary-rebecca",
        "outputId": "5f8e67a8-4880-4fc9-e461-685c54ff6b70"
      },
      "source": [
        "#batch matrix multiplicatiom\n",
        "batch=32\n",
        "n=10\n",
        "m=20\n",
        "p=30\n",
        "\n",
        "tensor1=torch.randn((batch,n,m))\n",
        "tensor2=torch.randn((batch,m,p)) \n",
        "output=tensor1.bmm(tensor2)\n",
        "output.size()"
      ],
      "id": "ordinary-rebecca",
      "execution_count": 60,
      "outputs": [
        {
          "output_type": "execute_result",
          "data": {
            "text/plain": [
              "torch.Size([32, 10, 30])"
            ]
          },
          "metadata": {
            "tags": []
          },
          "execution_count": 60
        }
      ]
    },
    {
      "cell_type": "code",
      "metadata": {
        "colab": {
          "base_uri": "https://localhost:8080/"
        },
        "id": "painted-nomination",
        "outputId": "e129526d-84f5-4d9c-86cc-2554623ff81b"
      },
      "source": [
        "#example of broadcasting\n",
        "x1=torch.rand((5,5))\n",
        "x2=torch.rand((1,5))\n",
        "x3=x1-x2\n",
        "print(x3)\n",
        "\n",
        "\n"
      ],
      "id": "painted-nomination",
      "execution_count": 61,
      "outputs": [
        {
          "output_type": "stream",
          "text": [
            "tensor([[-0.1071, -0.0019, -0.2777,  0.0714, -0.1623],\n",
            "        [-0.3697,  0.0799, -0.8669,  0.5600, -0.6555],\n",
            "        [-0.0863, -0.1528, -0.5131,  0.2667, -0.2366],\n",
            "        [-0.3320, -0.4105, -0.7233,  0.4484, -0.1834],\n",
            "        [-0.4774, -0.6249, -0.9174, -0.0964, -0.2323]])\n"
          ],
          "name": "stdout"
        }
      ]
    },
    {
      "cell_type": "code",
      "metadata": {
        "colab": {
          "base_uri": "https://localhost:8080/"
        },
        "id": "complicated-nevada",
        "outputId": "83090f47-fb92-46a5-d787-6cca0641e3ba"
      },
      "source": [
        "print(x1*x2)"
      ],
      "id": "complicated-nevada",
      "execution_count": 62,
      "outputs": [
        {
          "output_type": "stream",
          "text": [
            "tensor([[0.6500, 0.4455, 0.7136, 0.0918, 0.4919],\n",
            "        [0.4237, 0.5002, 0.1273, 0.2235, 0.1036],\n",
            "        [0.6679, 0.3447, 0.4793, 0.1445, 0.4334],\n",
            "        [0.4562, 0.1724, 0.2702, 0.1934, 0.4753],\n",
            "        [0.3310, 0.0291, 0.0771, 0.0466, 0.4368]])\n"
          ],
          "name": "stdout"
        }
      ]
    },
    {
      "cell_type": "code",
      "metadata": {
        "colab": {
          "base_uri": "https://localhost:8080/"
        },
        "id": "reliable-writer",
        "outputId": "a1f8fdf1-67b1-4f63-8a8c-2e2f779de3c4"
      },
      "source": [
        "#---------------------Other_tensor_operation-----------------------\n",
        "x=torch.tensor([[1,2,3,4],[5,6,7,8]])\n",
        "y=x\n",
        "print(f\"Column wise sum: \\n {torch.sum(x,dim=0)} \")\n",
        "print(f\"row wise sum \\n  {torch.sum(x,dim=1)}\")\n",
        "value,index=torch.min(x,dim=0)\n",
        "print(value)\n",
        "value,index=torch.max(x,dim=1)\n",
        "print(value)\n",
        "index=torch.argmax(x,dim=0)\n",
        "print(index)\n",
        "index=torch.argmin(x,dim=1)\n",
        "print(index)\n",
        "print(torch.mean(x.float(),dim=0))\n",
        "print(torch.eq(x,y))\n",
        "value,index=torch.sort(x,dim=0,descending=True)\n",
        "print(value)\n",
        "print(torch.clamp(x,min=2,max=5)) #you can use it make your RELU"
      ],
      "id": "reliable-writer",
      "execution_count": 63,
      "outputs": [
        {
          "output_type": "stream",
          "text": [
            "Column wise sum: \n",
            " tensor([ 6,  8, 10, 12]) \n",
            "row wise sum \n",
            "  tensor([10, 26])\n",
            "tensor([1, 2, 3, 4])\n",
            "tensor([4, 8])\n",
            "tensor([1, 1, 1, 1])\n",
            "tensor([0, 0])\n",
            "tensor([3., 4., 5., 6.])\n",
            "tensor([[True, True, True, True],\n",
            "        [True, True, True, True]])\n",
            "tensor([[5, 6, 7, 8],\n",
            "        [1, 2, 3, 4]])\n",
            "tensor([[2, 2, 3, 4],\n",
            "        [5, 5, 5, 5]])\n"
          ],
          "name": "stdout"
        }
      ]
    },
    {
      "cell_type": "markdown",
      "metadata": {
        "id": "twenty-boston"
      },
      "source": [
        "<h1>-----------tensor_indexing-------------</h1>"
      ],
      "id": "twenty-boston"
    },
    {
      "cell_type": "code",
      "metadata": {
        "id": "geological-brief"
      },
      "source": [
        "batch_size = 10\n",
        "feature=25\n",
        "z = torch.rand((batch_size,feature))"
      ],
      "id": "geological-brief",
      "execution_count": 64,
      "outputs": []
    },
    {
      "cell_type": "code",
      "metadata": {
        "colab": {
          "base_uri": "https://localhost:8080/"
        },
        "id": "basic-valley",
        "outputId": "319cc2ef-9252-4b62-d87f-24cfb2badf66"
      },
      "source": [
        "print(z[0,:].shape)  # x[0,:]"
      ],
      "id": "basic-valley",
      "execution_count": 65,
      "outputs": [
        {
          "output_type": "stream",
          "text": [
            "torch.Size([25])\n"
          ],
          "name": "stdout"
        }
      ]
    },
    {
      "cell_type": "code",
      "metadata": {
        "colab": {
          "base_uri": "https://localhost:8080/"
        },
        "id": "exterior-fraud",
        "outputId": "15178a63-367c-4b5b-e802-9cf950b7f9b3"
      },
      "source": [
        "#print first feature\n",
        "print(z[:,0].shape)"
      ],
      "id": "exterior-fraud",
      "execution_count": 66,
      "outputs": [
        {
          "output_type": "stream",
          "text": [
            "torch.Size([10])\n"
          ],
          "name": "stdout"
        }
      ]
    },
    {
      "cell_type": "code",
      "metadata": {
        "colab": {
          "base_uri": "https://localhost:8080/"
        },
        "id": "direct-component",
        "outputId": "15a15eb2-f7e3-4512-fb03-154de83ece6e"
      },
      "source": [
        "#get 3rd ex up to 10 feature\n",
        "print(z[2,0:10])"
      ],
      "id": "direct-component",
      "execution_count": 67,
      "outputs": [
        {
          "output_type": "stream",
          "text": [
            "tensor([0.9003, 0.0411, 0.3458, 0.8994, 0.8810, 0.5502, 0.7342, 0.4790, 0.9703,\n",
            "        0.3160])\n"
          ],
          "name": "stdout"
        }
      ]
    },
    {
      "cell_type": "code",
      "metadata": {
        "colab": {
          "base_uri": "https://localhost:8080/"
        },
        "id": "careful-rings",
        "outputId": "53e59fe1-0ec9-4259-973f-5ab84bd6394b"
      },
      "source": [
        "#you can assign value to the tensor\n",
        "z[0,0]=100\n",
        "print(z[0,0])"
      ],
      "id": "careful-rings",
      "execution_count": 68,
      "outputs": [
        {
          "output_type": "stream",
          "text": [
            "tensor(100.)\n"
          ],
          "name": "stdout"
        }
      ]
    },
    {
      "cell_type": "code",
      "metadata": {
        "colab": {
          "base_uri": "https://localhost:8080/"
        },
        "id": "ordinary-virginia",
        "outputId": "008f39e1-e002-42b6-cfc9-60ae73b657dc"
      },
      "source": [
        "# Fancy Indexing\n",
        "x=torch.arange(10)\n",
        "indices = [2,5,8]\n",
        "print(x[indices])\n",
        "x=torch.rand((3,5))\n",
        "rows = torch.tensor([1,0])\n",
        "cols=torch.tensor([4,0])\n",
        "print(x[rows,cols])"
      ],
      "id": "ordinary-virginia",
      "execution_count": 69,
      "outputs": [
        {
          "output_type": "stream",
          "text": [
            "tensor([2, 5, 8])\n",
            "tensor([0.8499, 0.2202])\n"
          ],
          "name": "stdout"
        }
      ]
    },
    {
      "cell_type": "code",
      "metadata": {
        "colab": {
          "base_uri": "https://localhost:8080/"
        },
        "id": "demanding-royalty",
        "outputId": "ef58c076-c63f-4930-ab1f-8bdc2d7f6681"
      },
      "source": [
        "# more advance indexing\n",
        "x=torch.arange(10)\n",
        "print(x[(x<2) | (x>8)])"
      ],
      "id": "demanding-royalty",
      "execution_count": 70,
      "outputs": [
        {
          "output_type": "stream",
          "text": [
            "tensor([0, 1, 9])\n"
          ],
          "name": "stdout"
        }
      ]
    },
    {
      "cell_type": "code",
      "metadata": {
        "colab": {
          "base_uri": "https://localhost:8080/"
        },
        "id": "mobile-keyboard",
        "outputId": "880ea0f9-b938-4b1e-b185-c06d319fa1f6"
      },
      "source": [
        "print(x[x.remainder(2)==0])"
      ],
      "id": "mobile-keyboard",
      "execution_count": 71,
      "outputs": [
        {
          "output_type": "stream",
          "text": [
            "tensor([0, 2, 4, 6, 8])\n"
          ],
          "name": "stdout"
        }
      ]
    },
    {
      "cell_type": "code",
      "metadata": {
        "colab": {
          "base_uri": "https://localhost:8080/"
        },
        "id": "peripheral-treatment",
        "outputId": "871313fc-e1ad-4ff0-98aa-7412974fcaad"
      },
      "source": [
        "#useful Operation\n",
        "print(torch.where(x>5,x,x*2))\n",
        "print(torch.tensor([0,0,1,1,2,3,3]).unique())\n",
        "print(x.ndimension())"
      ],
      "id": "peripheral-treatment",
      "execution_count": 74,
      "outputs": [
        {
          "output_type": "stream",
          "text": [
            "tensor([ 0,  2,  4,  6,  8, 10,  6,  7,  8,  9])\n",
            "tensor([0, 1, 2, 3])\n",
            "1\n"
          ],
          "name": "stdout"
        }
      ]
    },
    {
      "cell_type": "code",
      "metadata": {
        "colab": {
          "base_uri": "https://localhost:8080/"
        },
        "id": "bacterial-coffee",
        "outputId": "624a021c-391f-410c-9cdf-24ec4ce66872"
      },
      "source": [
        "# returns total number of input tensor\n",
        "print(x.numel())"
      ],
      "id": "bacterial-coffee",
      "execution_count": 75,
      "outputs": [
        {
          "output_type": "stream",
          "text": [
            "10\n"
          ],
          "name": "stdout"
        }
      ]
    },
    {
      "cell_type": "markdown",
      "metadata": {
        "id": "amino-hormone"
      },
      "source": [
        "<h1>-------------reshaping matrix--------</h1>"
      ],
      "id": "amino-hormone"
    },
    {
      "cell_type": "code",
      "metadata": {
        "colab": {
          "base_uri": "https://localhost:8080/"
        },
        "id": "focal-hampshire",
        "outputId": "c4614f33-3894-4e93-b2a0-8e76e1201bf8"
      },
      "source": [
        "x = torch.arange(9)\n",
        "x_3x3=x.view(3,3) #need contiguous memory\n",
        "print(x_3x3)\n",
        "x_3x3=x.reshape(3,3)\n",
        "print(x_3x3)"
      ],
      "id": "focal-hampshire",
      "execution_count": 76,
      "outputs": [
        {
          "output_type": "stream",
          "text": [
            "tensor([[0, 1, 2],\n",
            "        [3, 4, 5],\n",
            "        [6, 7, 8]])\n",
            "tensor([[0, 1, 2],\n",
            "        [3, 4, 5],\n",
            "        [6, 7, 8]])\n"
          ],
          "name": "stdout"
        }
      ]
    },
    {
      "cell_type": "code",
      "metadata": {
        "colab": {
          "base_uri": "https://localhost:8080/"
        },
        "id": "brave-bernard",
        "outputId": "aba2daf7-33a6-4697-f81c-e6aef43784c0"
      },
      "source": [
        "y=x_3x3.t()\n",
        "y.flatten()"
      ],
      "id": "brave-bernard",
      "execution_count": 77,
      "outputs": [
        {
          "output_type": "execute_result",
          "data": {
            "text/plain": [
              "tensor([0, 3, 6, 1, 4, 7, 2, 5, 8])"
            ]
          },
          "metadata": {
            "tags": []
          },
          "execution_count": 77
        }
      ]
    },
    {
      "cell_type": "code",
      "metadata": {
        "colab": {
          "base_uri": "https://localhost:8080/"
        },
        "id": "early-damage",
        "outputId": "aaefa46c-ebff-42e0-d3ef-3bba2d5036b7"
      },
      "source": [
        "x1 = torch.rand((2,5))\n",
        "x2= torch.rand((2,5))\n",
        "print(torch.cat((x1,x2),dim=0).shape) #vertically stack\n",
        "print(torch.cat((x1,x2),dim=1).shape) #h stack"
      ],
      "id": "early-damage",
      "execution_count": 78,
      "outputs": [
        {
          "output_type": "stream",
          "text": [
            "torch.Size([4, 5])\n",
            "torch.Size([2, 10])\n"
          ],
          "name": "stdout"
        }
      ]
    },
    {
      "cell_type": "code",
      "metadata": {
        "colab": {
          "base_uri": "https://localhost:8080/"
        },
        "id": "ignored-webmaster",
        "outputId": "34bfda7e-4a06-42ad-875c-eeb70f41b634"
      },
      "source": [
        "batch = 64\n",
        "x =  torch.rand((batch,2,5))\n",
        "z =x.view(batch,-1)\n",
        "print(z.shape)"
      ],
      "id": "ignored-webmaster",
      "execution_count": 79,
      "outputs": [
        {
          "output_type": "stream",
          "text": [
            "torch.Size([64, 10])\n"
          ],
          "name": "stdout"
        }
      ]
    },
    {
      "cell_type": "code",
      "metadata": {
        "colab": {
          "base_uri": "https://localhost:8080/"
        },
        "id": "broken-liabilities",
        "outputId": "d4c4dcfb-ce17-4f61-d2e4-31d51bd51ede"
      },
      "source": [
        "#switch axis while keeping batch\n",
        "z= x.permute(0,2,1)\n",
        "print(z.shape)"
      ],
      "id": "broken-liabilities",
      "execution_count": 80,
      "outputs": [
        {
          "output_type": "stream",
          "text": [
            "torch.Size([64, 5, 2])\n"
          ],
          "name": "stdout"
        }
      ]
    },
    {
      "cell_type": "code",
      "metadata": {
        "colab": {
          "base_uri": "https://localhost:8080/"
        },
        "id": "french-doctor",
        "outputId": "5a212d70-eff1-47a5-ef09-e624d2d4a807"
      },
      "source": [
        "# torch.unsqueeze() returns a new tensor with a dimension of size one inserted at the specified position.\n",
        "x = torch.arange(10)  #[0,1,2,...,9]\n",
        "print(x.unsqueeze(0)) #[1,10]\n",
        "print(x.unsqueeze(1))  #[10,1]"
      ],
      "id": "french-doctor",
      "execution_count": 81,
      "outputs": [
        {
          "output_type": "stream",
          "text": [
            "tensor([[0, 1, 2, 3, 4, 5, 6, 7, 8, 9]])\n",
            "tensor([[0],\n",
            "        [1],\n",
            "        [2],\n",
            "        [3],\n",
            "        [4],\n",
            "        [5],\n",
            "        [6],\n",
            "        [7],\n",
            "        [8],\n",
            "        [9]])\n"
          ],
          "name": "stdout"
        }
      ]
    },
    {
      "cell_type": "code",
      "metadata": {
        "colab": {
          "base_uri": "https://localhost:8080/"
        },
        "id": "bAHjIOg1dADK",
        "outputId": "72174e39-1df9-4583-ed89-5fdd3e307509"
      },
      "source": [
        "!nvidia-smi\n"
      ],
      "id": "bAHjIOg1dADK",
      "execution_count": 82,
      "outputs": [
        {
          "output_type": "stream",
          "text": [
            "Sat May 15 19:26:22 2021       \n",
            "+-----------------------------------------------------------------------------+\n",
            "| NVIDIA-SMI 465.19.01    Driver Version: 460.32.03    CUDA Version: 11.2     |\n",
            "|-------------------------------+----------------------+----------------------+\n",
            "| GPU  Name        Persistence-M| Bus-Id        Disp.A | Volatile Uncorr. ECC |\n",
            "| Fan  Temp  Perf  Pwr:Usage/Cap|         Memory-Usage | GPU-Util  Compute M. |\n",
            "|                               |                      |               MIG M. |\n",
            "|===============================+======================+======================|\n",
            "|   0  Tesla P100-PCIE...  Off  | 00000000:00:04.0 Off |                    0 |\n",
            "| N/A   41C    P0    35W / 250W |    897MiB / 16280MiB |      0%      Default |\n",
            "|                               |                      |                  N/A |\n",
            "+-------------------------------+----------------------+----------------------+\n",
            "                                                                               \n",
            "+-----------------------------------------------------------------------------+\n",
            "| Processes:                                                                  |\n",
            "|  GPU   GI   CI        PID   Type   Process name                  GPU Memory |\n",
            "|        ID   ID                                                   Usage      |\n",
            "|=============================================================================|\n",
            "+-----------------------------------------------------------------------------+\n"
          ],
          "name": "stdout"
        }
      ]
    }
  ]
}