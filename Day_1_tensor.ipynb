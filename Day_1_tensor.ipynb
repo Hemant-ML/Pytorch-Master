{
 "cells": [
  {
   "cell_type": "markdown",
   "id": "chubby-bookmark",
   "metadata": {},
   "source": [
    "<h1>Importing libraries</h1>"
   ]
  },
  {
   "cell_type": "code",
   "execution_count": 102,
   "id": "conditional-teach",
   "metadata": {
    "id": "brown-permission"
   },
   "outputs": [
    {
     "data": {
      "text/plain": [
       "<torch._C.Generator at 0x7f20c1740ab0>"
      ]
     },
     "execution_count": 102,
     "metadata": {},
     "output_type": "execute_result"
    }
   ],
   "source": [
    "import torch\n",
    "torch.manual_seed(0)"
   ]
  },
  {
   "cell_type": "markdown",
   "id": "dominant-bristol",
   "metadata": {
    "id": "tOPazNEHxOHU"
   },
   "source": [
    "<h1>Initializing Tensor<h1>"
   ]
  },
  {
   "cell_type": "code",
   "execution_count": 2,
   "id": "herbal-graphic",
   "metadata": {
    "id": "3SWDRTrLyGXB"
   },
   "outputs": [],
   "source": [
    "device = \"cuda\" if torch.cuda.is_available() else \"cpu\""
   ]
  },
  {
   "cell_type": "code",
   "execution_count": 3,
   "id": "loaded-january",
   "metadata": {
    "id": "IInkwoYnxdlt"
   },
   "outputs": [],
   "source": [
    "my_tensor = torch.tensor([[1,2,3],[4,5,6],[7,8,9]],dtype=torch.float32,device=device)"
   ]
  },
  {
   "cell_type": "code",
   "execution_count": 7,
   "id": "invalid-plenty",
   "metadata": {
    "colab": {
     "base_uri": "https://localhost:8080/"
    },
    "id": "R-1nhDjYxouQ",
    "outputId": "3952d474-7ea4-4867-a55a-ea9e48bd063f"
   },
   "outputs": [
    {
     "name": "stdout",
     "output_type": "stream",
     "text": [
      "tensor([[1., 2., 3.],\n",
      "        [4., 5., 6.],\n",
      "        [7., 8., 9.]])\n"
     ]
    }
   ],
   "source": [
    "print(my_tensor)"
   ]
  },
  {
   "cell_type": "code",
   "execution_count": 8,
   "id": "ancient-thong",
   "metadata": {
    "colab": {
     "base_uri": "https://localhost:8080/"
    },
    "id": "sxBq_sqIxq-P",
    "outputId": "875a3c58-4e54-4a63-81fc-d7f872eba27c"
   },
   "outputs": [
    {
     "name": "stdout",
     "output_type": "stream",
     "text": [
      "torch.float32\n"
     ]
    }
   ],
   "source": [
    "print(my_tensor.dtype)"
   ]
  },
  {
   "cell_type": "code",
   "execution_count": 9,
   "id": "specified-space",
   "metadata": {
    "colab": {
     "base_uri": "https://localhost:8080/"
    },
    "id": "xzvNQixZychL",
    "outputId": "0957ebc4-6107-4b06-a21a-8e924634064f"
   },
   "outputs": [
    {
     "name": "stdout",
     "output_type": "stream",
     "text": [
      "cpu\n"
     ]
    }
   ],
   "source": [
    "print(my_tensor.device)"
   ]
  },
  {
   "cell_type": "code",
   "execution_count": 10,
   "id": "systematic-conditioning",
   "metadata": {
    "colab": {
     "base_uri": "https://localhost:8080/"
    },
    "id": "U5N9hgfZyi9O",
    "outputId": "992b55d2-fb75-4d17-ec60-7f735a831167"
   },
   "outputs": [
    {
     "name": "stdout",
     "output_type": "stream",
     "text": [
      "torch.Size([3, 3])\n"
     ]
    }
   ],
   "source": [
    "print(my_tensor.shape)"
   ]
  },
  {
   "cell_type": "markdown",
   "id": "abstract-publisher",
   "metadata": {
    "id": "vAMQHcC_yvBZ"
   },
   "source": [
    "<h1>other initialization methods<h1>"
   ]
  },
  {
   "cell_type": "code",
   "execution_count": 11,
   "id": "refined-sigma",
   "metadata": {
    "id": "xpraZ7kay_Ac"
   },
   "outputs": [],
   "source": [
    "x = torch.empty(3,3)"
   ]
  },
  {
   "cell_type": "code",
   "execution_count": 12,
   "id": "proof-ribbon",
   "metadata": {
    "id": "2qc0XjX2zaxJ"
   },
   "outputs": [],
   "source": [
    "x1 = torch.zeros((3,3))"
   ]
  },
  {
   "cell_type": "code",
   "execution_count": 13,
   "id": "thick-office",
   "metadata": {
    "colab": {
     "base_uri": "https://localhost:8080/"
    },
    "id": "o_024Ti-ziK7",
    "outputId": "06c2955b-3c87-4f0e-8661-3f8833dfb30b"
   },
   "outputs": [
    {
     "name": "stdout",
     "output_type": "stream",
     "text": [
      "tensor([[0.0000e+00, 0.0000e+00, 4.2100e+21],\n",
      "        [8.3567e+20, 2.7626e-06, 2.0430e+20],\n",
      "        [5.3182e+22, 1.0570e+21, 6.6457e-07]]) tensor([[0., 0., 0.],\n",
      "        [0., 0., 0.],\n",
      "        [0., 0., 0.]])\n"
     ]
    }
   ],
   "source": [
    "print(x,x1)"
   ]
  },
  {
   "cell_type": "code",
   "execution_count": 23,
   "id": "elect-replication",
   "metadata": {
    "id": "gKEYcB7-zmss"
   },
   "outputs": [
    {
     "data": {
      "text/plain": [
       "tensor([[-0.9122, -1.0258,  2.2417],\n",
       "        [-0.5790, -0.2617,  0.2183],\n",
       "        [ 1.0090,  0.9478, -0.0375]])"
      ]
     },
     "execution_count": 23,
     "metadata": {},
     "output_type": "execute_result"
    }
   ],
   "source": [
    "#number taken from normal distribution. By default mean=0 and std=1\n",
    "y=torch.randn(3,3)\n",
    "y"
   ]
  },
  {
   "cell_type": "code",
   "execution_count": 26,
   "id": "still-rainbow",
   "metadata": {},
   "outputs": [
    {
     "data": {
      "text/plain": [
       "tensor([[0.7435, 0.8612, 0.7689],\n",
       "        [0.8378, 0.7396, 0.6955],\n",
       "        [0.1868, 0.7715, 0.6355]])"
      ]
     },
     "execution_count": 26,
     "metadata": {},
     "output_type": "execute_result"
    }
   ],
   "source": [
    "#no taken from uniform disstribution [0,1]\n",
    "y1=torch.rand(3,3)\n",
    "y1"
   ]
  },
  {
   "cell_type": "code",
   "execution_count": 27,
   "id": "continental-transportation",
   "metadata": {
    "id": "_iwVWzknzuQ6"
   },
   "outputs": [
    {
     "data": {
      "text/plain": [
       "tensor([[1., 1., 1.],\n",
       "        [1., 1., 1.],\n",
       "        [1., 1., 1.]])"
      ]
     },
     "execution_count": 27,
     "metadata": {},
     "output_type": "execute_result"
    }
   ],
   "source": [
    "y= torch.ones_like(y1)\n",
    "y"
   ]
  },
  {
   "cell_type": "code",
   "execution_count": 29,
   "id": "japanese-fleet",
   "metadata": {
    "id": "j2cVDz_8z0tL"
   },
   "outputs": [
    {
     "data": {
      "text/plain": [
       "tensor([[1., 0., 0.],\n",
       "        [0., 1., 0.],\n",
       "        [0., 0., 1.]])"
      ]
     },
     "execution_count": 29,
     "metadata": {},
     "output_type": "execute_result"
    }
   ],
   "source": [
    "y=torch.eye(3)\n",
    "y"
   ]
  },
  {
   "cell_type": "code",
   "execution_count": 30,
   "id": "cellular-reader",
   "metadata": {
    "id": "jnMxLhb2z-kq"
   },
   "outputs": [
    {
     "data": {
      "text/plain": [
       "tensor([0, 2, 4, 6, 8])"
      ]
     },
     "execution_count": 30,
     "metadata": {},
     "output_type": "execute_result"
    }
   ],
   "source": [
    "#torch.arange(start,end,step_size)\n",
    "y=torch.arange(0,10,2)\n",
    "y"
   ]
  },
  {
   "cell_type": "code",
   "execution_count": 31,
   "id": "social-navigator",
   "metadata": {
    "id": "TBfeVeyx0HR5"
   },
   "outputs": [
    {
     "data": {
      "text/plain": [
       "tensor([0.1000, 0.2000, 0.3000, 0.4000, 0.5000, 0.6000, 0.7000, 0.8000, 0.9000,\n",
       "        1.0000])"
      ]
     },
     "execution_count": 31,
     "metadata": {},
     "output_type": "execute_result"
    }
   ],
   "source": [
    "x = torch.linspace(start=0.1,end=1,steps=10)\n",
    "x"
   ]
  },
  {
   "cell_type": "code",
   "execution_count": 37,
   "id": "medium-numbers",
   "metadata": {
    "id": "kY7TNxgS0YAI"
   },
   "outputs": [
    {
     "data": {
      "text/plain": [
       "tensor([[ 0.1408,  1.5271,  0.4606],\n",
       "        [-1.1995, -0.1804, -0.4344],\n",
       "        [ 1.4156, -1.2272, -0.4847]])"
      ]
     },
     "execution_count": 37,
     "metadata": {},
     "output_type": "execute_result"
    }
   ],
   "source": [
    "y = torch.empty(3,3).normal_(mean=0,std=1)\n",
    "\n",
    "y"
   ]
  },
  {
   "cell_type": "code",
   "execution_count": 38,
   "id": "psychological-activation",
   "metadata": {
    "id": "XGeDc09_05wr"
   },
   "outputs": [
    {
     "data": {
      "text/plain": [
       "tensor([[0.3191, 0.0241, 0.4423, 0.4521, 0.0728]])"
      ]
     },
     "execution_count": 38,
     "metadata": {},
     "output_type": "execute_result"
    }
   ],
   "source": [
    "x=torch.empty(1,5).uniform_(0,1)\n",
    "x"
   ]
  },
  {
   "cell_type": "code",
   "execution_count": 44,
   "id": "coastal-prison",
   "metadata": {
    "id": "Zd8jqU0_1QWL"
   },
   "outputs": [
    {
     "data": {
      "text/plain": [
       "tensor([ 0.1408, -0.1804, -0.4847])"
      ]
     },
     "execution_count": 44,
     "metadata": {},
     "output_type": "execute_result"
    }
   ],
   "source": [
    "x= torch.diag(y)\n",
    "x"
   ]
  },
  {
   "cell_type": "markdown",
   "id": "previous-memorial",
   "metadata": {
    "id": "rXyYGje11ndd"
   },
   "source": [
    "<h1>Initialize and convert to other type (int,float,double)<h1>"
   ]
  },
  {
   "cell_type": "code",
   "execution_count": 45,
   "id": "prospective-proceeding",
   "metadata": {
    "id": "E6t89-lz1hfF"
   },
   "outputs": [],
   "source": [
    "tensor=torch.arange(4)"
   ]
  },
  {
   "cell_type": "code",
   "execution_count": 46,
   "id": "worldwide-programming",
   "metadata": {
    "colab": {
     "base_uri": "https://localhost:8080/"
    },
    "id": "pa1PD-VQ18cK",
    "outputId": "14e92668-05df-415c-8cea-268b7edb9a62"
   },
   "outputs": [
    {
     "data": {
      "text/plain": [
       "tensor([0, 1, 2, 3])"
      ]
     },
     "execution_count": 46,
     "metadata": {},
     "output_type": "execute_result"
    }
   ],
   "source": [
    "tensor"
   ]
  },
  {
   "cell_type": "code",
   "execution_count": 47,
   "id": "mediterranean-wilderness",
   "metadata": {
    "colab": {
     "base_uri": "https://localhost:8080/"
    },
    "id": "6hshfJGj19hV",
    "outputId": "f072313a-41f9-4603-836f-35e7f918c455"
   },
   "outputs": [
    {
     "data": {
      "text/plain": [
       "torch.int64"
      ]
     },
     "execution_count": 47,
     "metadata": {},
     "output_type": "execute_result"
    }
   ],
   "source": [
    "tensor.dtype"
   ]
  },
  {
   "cell_type": "code",
   "execution_count": 48,
   "id": "standard-controversy",
   "metadata": {
    "colab": {
     "base_uri": "https://localhost:8080/"
    },
    "id": "x5_sUbql2Aam",
    "outputId": "ce813743-faf8-48f3-d850-04d2f3621968"
   },
   "outputs": [
    {
     "data": {
      "text/plain": [
       "tensor([False,  True,  True,  True])"
      ]
     },
     "execution_count": 48,
     "metadata": {},
     "output_type": "execute_result"
    }
   ],
   "source": [
    "tensor.bool()"
   ]
  },
  {
   "cell_type": "code",
   "execution_count": 49,
   "id": "nervous-taxation",
   "metadata": {
    "colab": {
     "base_uri": "https://localhost:8080/"
    },
    "id": "932URCx32Evn",
    "outputId": "a426a845-dbf3-4e31-f440-243392994da6"
   },
   "outputs": [
    {
     "data": {
      "text/plain": [
       "tensor([0, 1, 2, 3], dtype=torch.int16)"
      ]
     },
     "execution_count": 49,
     "metadata": {},
     "output_type": "execute_result"
    }
   ],
   "source": [
    "tensor.short()"
   ]
  },
  {
   "cell_type": "code",
   "execution_count": 50,
   "id": "afraid-handle",
   "metadata": {
    "colab": {
     "base_uri": "https://localhost:8080/"
    },
    "id": "TpvnfOla2Lk3",
    "outputId": "7eb0ce00-fbc8-490a-8c2a-1e46c1697acb"
   },
   "outputs": [
    {
     "data": {
      "text/plain": [
       "tensor([0, 1, 2, 3])"
      ]
     },
     "execution_count": 50,
     "metadata": {},
     "output_type": "execute_result"
    }
   ],
   "source": [
    "tensor.long()"
   ]
  },
  {
   "cell_type": "code",
   "execution_count": 51,
   "id": "complex-hotel",
   "metadata": {
    "colab": {
     "base_uri": "https://localhost:8080/"
    },
    "id": "0LrBJN_L2Ok4",
    "outputId": "c8927bec-3ec0-44e8-e6c3-78f6f3ef4033"
   },
   "outputs": [
    {
     "data": {
      "text/plain": [
       "tensor([0., 1., 2., 3.], dtype=torch.float16)"
      ]
     },
     "execution_count": 51,
     "metadata": {},
     "output_type": "execute_result"
    }
   ],
   "source": [
    "tensor.half()"
   ]
  },
  {
   "cell_type": "code",
   "execution_count": 52,
   "id": "extraordinary-replication",
   "metadata": {
    "colab": {
     "base_uri": "https://localhost:8080/"
    },
    "id": "fqlrPGEA2Qmk",
    "outputId": "94f4c06d-c2f7-4296-d4ab-7adc50232aee"
   },
   "outputs": [
    {
     "data": {
      "text/plain": [
       "tensor([0., 1., 2., 3.])"
      ]
     },
     "execution_count": 52,
     "metadata": {},
     "output_type": "execute_result"
    }
   ],
   "source": [
    "tensor.float()"
   ]
  },
  {
   "cell_type": "code",
   "execution_count": 35,
   "id": "emotional-title",
   "metadata": {
    "colab": {
     "base_uri": "https://localhost:8080/"
    },
    "id": "fekp60q-2Zkm",
    "outputId": "9f37450c-efb3-4979-e33f-815902a959f4"
   },
   "outputs": [
    {
     "data": {
      "text/plain": [
       "tensor([0., 1., 2., 3.], dtype=torch.float64)"
      ]
     },
     "execution_count": 35,
     "metadata": {
      "tags": []
     },
     "output_type": "execute_result"
    }
   ],
   "source": [
    "tensor.double()"
   ]
  },
  {
   "cell_type": "code",
   "execution_count": 53,
   "id": "religious-consumption",
   "metadata": {
    "id": "FmiUGVEh2clV"
   },
   "outputs": [],
   "source": [
    "import numpy as np"
   ]
  },
  {
   "cell_type": "code",
   "execution_count": 54,
   "id": "executive-serum",
   "metadata": {
    "id": "C1WwDwuI2gRX"
   },
   "outputs": [],
   "source": [
    "np_array = np.array([[1,2,3],[4,5,6]])"
   ]
  },
  {
   "cell_type": "code",
   "execution_count": 55,
   "id": "retired-array",
   "metadata": {
    "colab": {
     "base_uri": "https://localhost:8080/"
    },
    "id": "0plh68W123-2",
    "outputId": "6d47bb7a-305e-4e59-aa3e-c570629d53bc"
   },
   "outputs": [
    {
     "data": {
      "text/plain": [
       "array([[1, 2, 3],\n",
       "       [4, 5, 6]])"
      ]
     },
     "execution_count": 55,
     "metadata": {},
     "output_type": "execute_result"
    }
   ],
   "source": [
    "np_array"
   ]
  },
  {
   "cell_type": "code",
   "execution_count": 56,
   "id": "continental-lawsuit",
   "metadata": {
    "id": "LQyv76xH2qSm"
   },
   "outputs": [],
   "source": [
    "torch_array=torch.from_numpy(np_array)"
   ]
  },
  {
   "cell_type": "code",
   "execution_count": 57,
   "id": "compound-liability",
   "metadata": {
    "colab": {
     "base_uri": "https://localhost:8080/"
    },
    "id": "pzchR8yw21_2",
    "outputId": "f31ae619-1903-42de-98a2-64d5393066e8"
   },
   "outputs": [
    {
     "data": {
      "text/plain": [
       "tensor([[1, 2, 3],\n",
       "        [4, 5, 6]])"
      ]
     },
     "execution_count": 57,
     "metadata": {},
     "output_type": "execute_result"
    }
   ],
   "source": [
    "torch_array"
   ]
  },
  {
   "cell_type": "code",
   "execution_count": 58,
   "id": "stylish-israel",
   "metadata": {
    "id": "ZSbOb6oh28J0"
   },
   "outputs": [],
   "source": [
    "np_array_back = torch_array.numpy()"
   ]
  },
  {
   "cell_type": "code",
   "execution_count": 59,
   "id": "suitable-seeker",
   "metadata": {
    "colab": {
     "base_uri": "https://localhost:8080/"
    },
    "id": "OAD0vc-T3CNE",
    "outputId": "f27a6f5f-f11c-40c3-d1f8-cc668869a6d6"
   },
   "outputs": [
    {
     "data": {
      "text/plain": [
       "array([[1, 2, 3],\n",
       "       [4, 5, 6]])"
      ]
     },
     "execution_count": 59,
     "metadata": {},
     "output_type": "execute_result"
    }
   ],
   "source": [
    "np_array_back"
   ]
  },
  {
   "cell_type": "markdown",
   "id": "threaded-voltage",
   "metadata": {
    "id": "q5PalrLW3TxN"
   },
   "source": [
    "<h1> Tensor math and comparison operators <h1>"
   ]
  },
  {
   "cell_type": "code",
   "execution_count": 60,
   "id": "engaged-gross",
   "metadata": {
    "id": "o-aW8IHe3LNT"
   },
   "outputs": [],
   "source": [
    "x = torch.tensor([1,2,3])\n",
    "y=torch.tensor([9,8,7])"
   ]
  },
  {
   "cell_type": "markdown",
   "id": "laughing-physics",
   "metadata": {
    "id": "9H0dOJVK3uht"
   },
   "source": [
    "<h1>Addition<h1>\n"
   ]
  },
  {
   "cell_type": "code",
   "execution_count": 64,
   "id": "social-tower",
   "metadata": {
    "colab": {
     "base_uri": "https://localhost:8080/"
    },
    "id": "n_PzQZtg3qdS",
    "outputId": "97cec701-d11a-473c-9510-d5f769cfb0da"
   },
   "outputs": [
    {
     "name": "stdout",
     "output_type": "stream",
     "text": [
      "tensor([10., 10., 10.]) tensor([10, 10, 10]) tensor([10, 10, 10]) tensor([10, 10, 10])\n"
     ]
    }
   ],
   "source": [
    "z1 = torch.empty(3)\n",
    "print(torch.add(x,y,out=z1),x+y,x.add(y),torch.add(x,y))"
   ]
  },
  {
   "cell_type": "markdown",
   "id": "lovely-tenant",
   "metadata": {
    "id": "cpmGmC_k4epj"
   },
   "source": [
    "<h1>Subtraction<h1>"
   ]
  },
  {
   "cell_type": "code",
   "execution_count": 65,
   "id": "sought-colorado",
   "metadata": {
    "colab": {
     "base_uri": "https://localhost:8080/"
    },
    "id": "OZZ1lwzv4Y6E",
    "outputId": "ec572b41-cb54-48c0-cb04-de728aca471a"
   },
   "outputs": [
    {
     "data": {
      "text/plain": [
       "tensor([-8, -6, -4])"
      ]
     },
     "execution_count": 65,
     "metadata": {},
     "output_type": "execute_result"
    }
   ],
   "source": [
    "z = x-y\n",
    "z"
   ]
  },
  {
   "cell_type": "code",
   "execution_count": 66,
   "id": "legal-merit",
   "metadata": {
    "colab": {
     "base_uri": "https://localhost:8080/"
    },
    "id": "LRRvQJ-Q4jrg",
    "outputId": "0c959d78-7c3e-4f52-8f03-69e7e29b4aad"
   },
   "outputs": [
    {
     "data": {
      "text/plain": [
       "tensor([9.0000, 4.0000, 2.3333])"
      ]
     },
     "execution_count": 66,
     "metadata": {},
     "output_type": "execute_result"
    }
   ],
   "source": [
    "#division\n",
    "z=torch.true_divide(y,x)\n",
    "z"
   ]
  },
  {
   "cell_type": "code",
   "execution_count": 67,
   "id": "together-norfolk",
   "metadata": {
    "colab": {
     "base_uri": "https://localhost:8080/"
    },
    "id": "-FeC0dQ-4vPw",
    "outputId": "610bb6f7-e6ee-4332-e857-4bd7c86010d3"
   },
   "outputs": [
    {
     "data": {
      "text/plain": [
       "tensor([1., 2., 3.])"
      ]
     },
     "execution_count": 67,
     "metadata": {},
     "output_type": "execute_result"
    }
   ],
   "source": [
    "#wherever _ there is inplace operation\n",
    "t=torch.zeros(3)\n",
    "t.add_(x)\n",
    "t"
   ]
  },
  {
   "cell_type": "code",
   "execution_count": 68,
   "id": "operational-consumer",
   "metadata": {
    "colab": {
     "base_uri": "https://localhost:8080/"
    },
    "id": "TYvs_BU85BUh",
    "outputId": "b7f5bf86-9110-4345-891b-cbf004e70138"
   },
   "outputs": [
    {
     "data": {
      "text/plain": [
       "tensor([1, 4, 9])"
      ]
     },
     "execution_count": 68,
     "metadata": {},
     "output_type": "execute_result"
    }
   ],
   "source": [
    "#exponentiation\n",
    "z=x.pow(2)\n",
    "z"
   ]
  },
  {
   "cell_type": "code",
   "execution_count": 69,
   "id": "crude-immunology",
   "metadata": {
    "colab": {
     "base_uri": "https://localhost:8080/"
    },
    "id": "ofUYMezC5LER",
    "outputId": "3a991cde-6d5f-4059-a1f0-0bb533d9ef25"
   },
   "outputs": [
    {
     "name": "stdout",
     "output_type": "stream",
     "text": [
      "tensor([True, True, True])\n",
      "tensor([False, False, False])\n"
     ]
    }
   ],
   "source": [
    "#simple comparison\n",
    "z= x>0\n",
    "print(z)\n",
    "z=x<=0\n",
    "print(z)"
   ]
  },
  {
   "cell_type": "code",
   "execution_count": 71,
   "id": "sealed-consumption",
   "metadata": {
    "colab": {
     "base_uri": "https://localhost:8080/"
    },
    "id": "kR49BwEm5WYQ",
    "outputId": "94bdee79-6e56-4fb8-f0b7-208b9a1a7469"
   },
   "outputs": [
    {
     "name": "stdout",
     "output_type": "stream",
     "text": [
      "tensor([[1.5722, 1.6630, 1.2291],\n",
      "        [1.5595, 1.2148, 1.4974]]) tensor([[1.5722, 1.6630, 1.2291],\n",
      "        [1.5595, 1.2148, 1.4974]])\n"
     ]
    }
   ],
   "source": [
    "#matrix multiplication\n",
    "x1 = torch.rand((5,2))\n",
    "x2= torch.rand((5,3))\n",
    "x3=torch.mm(x1.T,x2)\n",
    "x4=x1.T.mm(x2)\n",
    "print(x3,x4)"
   ]
  },
  {
   "cell_type": "code",
   "execution_count": 72,
   "id": "derived-criminal",
   "metadata": {
    "colab": {
     "base_uri": "https://localhost:8080/"
    },
    "id": "ZQDWYIEu5nD9",
    "outputId": "c1fb8668-01fc-4ac8-9fb0-012b66cfcd76"
   },
   "outputs": [
    {
     "data": {
      "text/plain": [
       "tensor([[1.0263, 1.5631, 1.4491, 1.9820, 1.4090],\n",
       "        [2.4208, 4.0263, 4.0632, 5.5037, 3.8877],\n",
       "        [1.7967, 3.0177, 3.0748, 4.0187, 2.9044],\n",
       "        [2.0915, 3.7480, 3.6286, 5.1722, 3.6209],\n",
       "        [1.7360, 2.9036, 2.8044, 3.9306, 2.7381]])"
      ]
     },
     "execution_count": 72,
     "metadata": {},
     "output_type": "execute_result"
    }
   ],
   "source": [
    "#matrix exponentiation\n",
    "matrix_exp = torch.rand((5,5))\n",
    "matrix_exp.matrix_power(3)"
   ]
  },
  {
   "cell_type": "code",
   "execution_count": 73,
   "id": "infinite-blame",
   "metadata": {
    "colab": {
     "base_uri": "https://localhost:8080/"
    },
    "id": "1ez_G9Nf6L6s",
    "outputId": "39a1fb1c-0b65-4f46-cd46-97ed9748960c"
   },
   "outputs": [
    {
     "data": {
      "text/plain": [
       "tensor([ 4, 10, 18])"
      ]
     },
     "execution_count": 73,
     "metadata": {},
     "output_type": "execute_result"
    }
   ],
   "source": [
    "#elementwise\n",
    "x=torch.tensor([1,2,3])\n",
    "y=torch.tensor([4,5,6])\n",
    "z = x*y\n",
    "z"
   ]
  },
  {
   "cell_type": "code",
   "execution_count": 74,
   "id": "inappropriate-valley",
   "metadata": {
    "colab": {
     "base_uri": "https://localhost:8080/"
    },
    "id": "lcIS1fBK6gvt",
    "outputId": "fbb5f0f9-063e-418c-ca9d-9905bfd34315"
   },
   "outputs": [
    {
     "data": {
      "text/plain": [
       "tensor(32)"
      ]
     },
     "execution_count": 74,
     "metadata": {},
     "output_type": "execute_result"
    }
   ],
   "source": [
    "#dot product\n",
    "z= torch.dot(x,y)\n",
    "z"
   ]
  },
  {
   "cell_type": "code",
   "execution_count": 80,
   "id": "ordinary-rebecca",
   "metadata": {
    "colab": {
     "base_uri": "https://localhost:8080/"
    },
    "id": "p0NvufSv6wiz",
    "outputId": "35877c65-977a-4c54-aaa8-64a27e4777ba"
   },
   "outputs": [
    {
     "data": {
      "text/plain": [
       "torch.Size([32, 10, 30])"
      ]
     },
     "execution_count": 80,
     "metadata": {},
     "output_type": "execute_result"
    }
   ],
   "source": [
    "#batch matrix multiplicatiom\n",
    "batch=32\n",
    "n=10\n",
    "m=20\n",
    "p=30\n",
    "\n",
    "tensor1=torch.randn((batch,n,m))\n",
    "tensor2=torch.randn((batch,m,p)) \n",
    "output=tensor1.bmm(tensor2)\n",
    "output.size()"
   ]
  },
  {
   "cell_type": "code",
   "execution_count": 81,
   "id": "painted-nomination",
   "metadata": {
    "colab": {
     "base_uri": "https://localhost:8080/"
    },
    "id": "znSenJH97hE7",
    "outputId": "b1e8921e-0db0-49fd-dd09-6943a178be3c"
   },
   "outputs": [
    {
     "name": "stdout",
     "output_type": "stream",
     "text": [
      "tensor([[-0.3206,  0.0452,  0.1680, -0.7466,  0.4358],\n",
      "        [-0.0065, -0.1629, -0.3099, -0.2204,  0.6772],\n",
      "        [-0.5831, -0.1567,  0.4075, -0.7476,  0.4544],\n",
      "        [-0.0101,  0.5522,  0.3690, -0.6073,  0.4725],\n",
      "        [-0.5891,  0.4392, -0.2902, -0.7960,  0.5015]])\n"
     ]
    }
   ],
   "source": [
    "#example of broadcasting\n",
    "x1=torch.rand((5,5))\n",
    "x2=torch.rand((1,5))\n",
    "x3=x1-x2\n",
    "print(x3)\n",
    "\n",
    "\n"
   ]
  },
  {
   "cell_type": "code",
   "execution_count": 82,
   "id": "complicated-nevada",
   "metadata": {
    "colab": {
     "base_uri": "https://localhost:8080/"
    },
    "id": "rMfWfhleLXHN",
    "outputId": "915e3acc-18be-4f90-bdda-8ef822d6f17e"
   },
   "outputs": [
    {
     "name": "stdout",
     "output_type": "stream",
     "text": [
      "tensor([[0.4325, 0.0793, 0.4258, 0.2082, 0.2146],\n",
      "        [0.6955, 0.0252, 0.1515, 0.7148, 0.2855],\n",
      "        [0.2128, 0.0268, 0.5633, 0.2072, 0.2200],\n",
      "        [0.6924, 0.2111, 0.5412, 0.3423, 0.2254],\n",
      "        [0.2077, 0.1817, 0.1629, 0.1606, 0.2339]])\n"
     ]
    }
   ],
   "source": [
    "print(x1*x2)"
   ]
  },
  {
   "cell_type": "code",
   "execution_count": 87,
   "id": "reliable-writer",
   "metadata": {
    "colab": {
     "base_uri": "https://localhost:8080/"
    },
    "id": "S9F96QqnLe3j",
    "outputId": "83d3592b-2ca8-4670-8447-9a2a24d7b7a7"
   },
   "outputs": [
    {
     "name": "stdout",
     "output_type": "stream",
     "text": [
      "Column wise sum: \n",
      " tensor([ 6,  8, 10, 12]) \n",
      "row wise sum \n",
      "  tensor([10, 26])\n",
      "tensor([1, 2, 3, 4])\n",
      "tensor([4, 8])\n",
      "tensor([1, 1, 1, 1])\n",
      "tensor([0, 0])\n",
      "tensor([3., 4., 5., 6.])\n",
      "tensor([[True, True, True, True],\n",
      "        [True, True, True, True]])\n",
      "tensor([[5, 6, 7, 8],\n",
      "        [1, 2, 3, 4]])\n",
      "tensor([[2, 2, 3, 4],\n",
      "        [5, 5, 5, 5]])\n"
     ]
    }
   ],
   "source": [
    "#---------------------Other_tensor_operation-----------------------\n",
    "x=torch.tensor([[1,2,3,4],[5,6,7,8]])\n",
    "y=x\n",
    "print(f\"Column wise sum: \\n {torch.sum(x,dim=0)} \")\n",
    "print(f\"row wise sum \\n  {torch.sum(x,dim=1)}\")\n",
    "value,index=torch.min(x,dim=0)\n",
    "print(value)\n",
    "value,index=torch.max(x,dim=1)\n",
    "print(value)\n",
    "index=torch.argmax(x,dim=0)\n",
    "print(index)\n",
    "index=torch.argmin(x,dim=1)\n",
    "print(index)\n",
    "print(torch.mean(x.float(),dim=0))\n",
    "print(torch.eq(x,y))\n",
    "value,index=torch.sort(x,dim=0,descending=True)\n",
    "print(value)\n",
    "print(torch.clamp(x,min=2,max=5))"
   ]
  },
  {
   "cell_type": "markdown",
   "id": "twenty-boston",
   "metadata": {
    "id": "S_gZa4M6RrRS"
   },
   "source": [
    "<h1>-----------tensor_indexing-------------</h1>"
   ]
  },
  {
   "cell_type": "code",
   "execution_count": 88,
   "id": "geological-brief",
   "metadata": {
    "id": "p6Dfwl_XNomN"
   },
   "outputs": [],
   "source": [
    "batch_size = 10\n",
    "feature=25\n",
    "z = torch.rand((batch_size,feature))"
   ]
  },
  {
   "cell_type": "code",
   "execution_count": 94,
   "id": "basic-valley",
   "metadata": {
    "colab": {
     "base_uri": "https://localhost:8080/"
    },
    "id": "QrFx3Bh3SRIl",
    "outputId": "afcd1274-cc2f-4f67-86cc-b4392095e8f0"
   },
   "outputs": [
    {
     "name": "stdout",
     "output_type": "stream",
     "text": [
      "torch.Size([25])\n"
     ]
    }
   ],
   "source": [
    "print(z[0,:].shape)  # x[0,:]"
   ]
  },
  {
   "cell_type": "code",
   "execution_count": 95,
   "id": "exterior-fraud",
   "metadata": {
    "colab": {
     "base_uri": "https://localhost:8080/"
    },
    "id": "c2Z3M3s4SW4D",
    "outputId": "da49002a-84ba-4fbc-aa60-9c6f5583fc37"
   },
   "outputs": [
    {
     "name": "stdout",
     "output_type": "stream",
     "text": [
      "torch.Size([10])\n"
     ]
    }
   ],
   "source": [
    "#print first feature\n",
    "print(z[:,0].shape)"
   ]
  },
  {
   "cell_type": "code",
   "execution_count": 96,
   "id": "direct-component",
   "metadata": {
    "colab": {
     "base_uri": "https://localhost:8080/"
    },
    "id": "J1K0KbskSvQy",
    "outputId": "32800742-9ab2-48d0-ff92-6fc4d81b1573"
   },
   "outputs": [
    {
     "name": "stdout",
     "output_type": "stream",
     "text": [
      "tensor([0.3762, 0.0979, 0.5085, 0.5723, 0.9077, 0.0778, 0.6724, 0.1895, 0.4811,\n",
      "        0.3119])\n"
     ]
    }
   ],
   "source": [
    "#get 3rd ex up to 10 feature\n",
    "print(z[2,0:10])"
   ]
  },
  {
   "cell_type": "code",
   "execution_count": 97,
   "id": "careful-rings",
   "metadata": {
    "colab": {
     "base_uri": "https://localhost:8080/"
    },
    "id": "GBD3wmooTC0P",
    "outputId": "dbc72be7-7034-4dd4-a84e-0867f9ff5c46"
   },
   "outputs": [
    {
     "name": "stdout",
     "output_type": "stream",
     "text": [
      "tensor(100.)\n"
     ]
    }
   ],
   "source": [
    "#you can assign value to the tensor\n",
    "z[0,0]=100\n",
    "print(z[0,0])"
   ]
  },
  {
   "cell_type": "code",
   "execution_count": 104,
   "id": "ordinary-virginia",
   "metadata": {
    "colab": {
     "base_uri": "https://localhost:8080/"
    },
    "id": "bT3Vg9vdTaye",
    "outputId": "248a37b4-76c8-44c6-c24b-95eee052f078"
   },
   "outputs": [
    {
     "name": "stdout",
     "output_type": "stream",
     "text": [
      "tensor([2, 5, 8])\n",
      "tensor([0.4194, 0.5185])\n"
     ]
    }
   ],
   "source": [
    "# Fancy Indexing\n",
    "x=torch.arange(10)\n",
    "indices = [2,5,8]\n",
    "print(x[indices])\n",
    "x=torch.rand((3,5))\n",
    "rows = torch.tensor([1,0])\n",
    "cols=torch.tensor([4,0])\n",
    "print(x[rows,cols])"
   ]
  },
  {
   "cell_type": "code",
   "execution_count": 106,
   "id": "demanding-royalty",
   "metadata": {
    "colab": {
     "base_uri": "https://localhost:8080/"
    },
    "id": "sy4eKsy_T0O_",
    "outputId": "48a48a8e-cc49-4723-fb89-0c87d112a4e5"
   },
   "outputs": [
    {
     "name": "stdout",
     "output_type": "stream",
     "text": [
      "tensor([0, 1, 9])\n"
     ]
    }
   ],
   "source": [
    "# more advance indexing\n",
    "x=torch.arange(10)\n",
    "print(x[(x<2) | (x>8)])"
   ]
  },
  {
   "cell_type": "code",
   "execution_count": 107,
   "id": "mobile-keyboard",
   "metadata": {
    "colab": {
     "base_uri": "https://localhost:8080/"
    },
    "id": "K98XkiRdVGRd",
    "outputId": "1d2f63c9-32a7-42d2-f52e-23ea4855b024"
   },
   "outputs": [
    {
     "name": "stdout",
     "output_type": "stream",
     "text": [
      "tensor([0, 2, 4, 6, 8])\n"
     ]
    }
   ],
   "source": [
    "print(x[x.remainder(2)==0])"
   ]
  },
  {
   "cell_type": "code",
   "execution_count": 111,
   "id": "peripheral-treatment",
   "metadata": {
    "colab": {
     "base_uri": "https://localhost:8080/"
    },
    "id": "J0GAT4iXVfvL",
    "outputId": "2aa24cd7-4c84-4b66-c2f6-88ef37d64e1a"
   },
   "outputs": [
    {
     "name": "stdout",
     "output_type": "stream",
     "text": [
      "tensor([ 0,  2,  4,  6,  8, 10,  6,  7,  8,  9])\n",
      "tensor([0, 1, 2, 3])\n",
      "1\n"
     ]
    }
   ],
   "source": [
    "#useful Operation\n",
    "print(torch.where(x>5,x,x*2))\n",
    "print(torch.tensor([0,0,1,1,2,3,3]).unique())\n",
    "print(x.ndimension())"
   ]
  },
  {
   "cell_type": "code",
   "execution_count": 112,
   "id": "bacterial-coffee",
   "metadata": {
    "colab": {
     "base_uri": "https://localhost:8080/"
    },
    "id": "uHQkmLywVyTb",
    "outputId": "ea91e05b-e4c0-493d-cb61-7f0287d609a5"
   },
   "outputs": [
    {
     "name": "stdout",
     "output_type": "stream",
     "text": [
      "10\n"
     ]
    }
   ],
   "source": [
    "# returns total number of input tensor\n",
    "print(x.numel())"
   ]
  },
  {
   "cell_type": "markdown",
   "id": "amino-hormone",
   "metadata": {
    "id": "-OB6d_ZWWT91"
   },
   "source": [
    "<h1>-------------reshaping matrix--------</h1>"
   ]
  },
  {
   "cell_type": "code",
   "execution_count": 113,
   "id": "focal-hampshire",
   "metadata": {
    "colab": {
     "base_uri": "https://localhost:8080/"
    },
    "id": "F3UX10MfWOxo",
    "outputId": "395de62c-f388-4ca0-9bed-089a10c7f217"
   },
   "outputs": [
    {
     "name": "stdout",
     "output_type": "stream",
     "text": [
      "tensor([[0, 1, 2],\n",
      "        [3, 4, 5],\n",
      "        [6, 7, 8]])\n",
      "tensor([[0, 1, 2],\n",
      "        [3, 4, 5],\n",
      "        [6, 7, 8]])\n"
     ]
    }
   ],
   "source": [
    "x = torch.arange(9)\n",
    "x_3x3=x.view(3,3) #need contiguous memory\n",
    "print(x_3x3)\n",
    "x_3x3=x.reshape(3,3)\n",
    "print(x_3x3)"
   ]
  },
  {
   "cell_type": "code",
   "execution_count": 114,
   "id": "brave-bernard",
   "metadata": {
    "colab": {
     "base_uri": "https://localhost:8080/"
    },
    "id": "V5PhS6JuW_NU",
    "outputId": "3e645ac9-f2f7-42de-aae2-6d7775d1978d"
   },
   "outputs": [
    {
     "data": {
      "text/plain": [
       "tensor([0, 3, 6, 1, 4, 7, 2, 5, 8])"
      ]
     },
     "execution_count": 114,
     "metadata": {},
     "output_type": "execute_result"
    }
   ],
   "source": [
    "y=x_3x3.t()\n",
    "y.flatten()"
   ]
  },
  {
   "cell_type": "code",
   "execution_count": 116,
   "id": "early-damage",
   "metadata": {
    "colab": {
     "base_uri": "https://localhost:8080/"
    },
    "id": "8zeVQ65KXQ-z",
    "outputId": "64c40e62-916c-43e9-f2d3-ad519b1c0116"
   },
   "outputs": [
    {
     "name": "stdout",
     "output_type": "stream",
     "text": [
      "torch.Size([4, 5])\n",
      "torch.Size([2, 10])\n"
     ]
    }
   ],
   "source": [
    "x1 = torch.rand((2,5))\n",
    "x2= torch.rand((2,5))\n",
    "print(torch.cat((x1,x2),dim=0).shape) #vertically stack\n",
    "print(torch.cat((x1,x2),dim=1).shape) #h stack"
   ]
  },
  {
   "cell_type": "code",
   "execution_count": 117,
   "id": "ignored-webmaster",
   "metadata": {
    "colab": {
     "base_uri": "https://localhost:8080/"
    },
    "id": "9DYeKwATYCRR",
    "outputId": "e674c735-0c24-4332-9f0c-b3b1738f9346"
   },
   "outputs": [
    {
     "name": "stdout",
     "output_type": "stream",
     "text": [
      "torch.Size([64, 10])\n"
     ]
    }
   ],
   "source": [
    "batch = 64\n",
    "x =  torch.rand((batch,2,5))\n",
    "z =x.view(batch,-1)\n",
    "print(z.shape)"
   ]
  },
  {
   "cell_type": "code",
   "execution_count": 118,
   "id": "broken-liabilities",
   "metadata": {
    "colab": {
     "base_uri": "https://localhost:8080/"
    },
    "id": "Nph2UHnYYzLz",
    "outputId": "a3298940-3f1a-4e65-fa5c-1276c4ab3c3d"
   },
   "outputs": [
    {
     "name": "stdout",
     "output_type": "stream",
     "text": [
      "torch.Size([64, 5, 2])\n"
     ]
    }
   ],
   "source": [
    "#switch axis while keeping batch\n",
    "z= x.permute(0,2,1)\n",
    "print(z.shape)"
   ]
  },
  {
   "cell_type": "code",
   "execution_count": 119,
   "id": "french-doctor",
   "metadata": {
    "colab": {
     "base_uri": "https://localhost:8080/"
    },
    "id": "jYLU8Q6jZHLQ",
    "outputId": "9f1c679a-e25f-46ab-f67f-f68840ab9b9f"
   },
   "outputs": [
    {
     "name": "stdout",
     "output_type": "stream",
     "text": [
      "tensor([[0, 1, 2, 3, 4, 5, 6, 7, 8, 9]])\n",
      "tensor([[0],\n",
      "        [1],\n",
      "        [2],\n",
      "        [3],\n",
      "        [4],\n",
      "        [5],\n",
      "        [6],\n",
      "        [7],\n",
      "        [8],\n",
      "        [9]])\n"
     ]
    }
   ],
   "source": [
    "# torch.unsqueeze() returns a new tensor with a dimension of size one inserted at the specified position.\n",
    "x = torch.arange(10)  #[0,1,2,...,9]\n",
    "print(x.unsqueeze(0)) #[1,10]\n",
    "print(x.unsqueeze(1))  #[10,1]"
   ]
  }
 ],
 "metadata": {
  "accelerator": "GPU",
  "colab": {
   "name": "basic.ipynb",
   "provenance": []
  },
  "kernelspec": {
   "display_name": "Python 3",
   "language": "python",
   "name": "python3"
  },
  "language_info": {
   "codemirror_mode": {
    "name": "ipython",
    "version": 3
   },
   "file_extension": ".py",
   "mimetype": "text/x-python",
   "name": "python",
   "nbconvert_exporter": "python",
   "pygments_lexer": "ipython3",
   "version": "3.8.8"
  }
 },
 "nbformat": 4,
 "nbformat_minor": 5
}
