{
  "nbformat": 4,
  "nbformat_minor": 5,
  "metadata": {
    "accelerator": "GPU",
    "colab": {
      "name": "Day_5_Fully_connected_layer.ipynb",
      "provenance": [],
      "collapsed_sections": [],
      "include_colab_link": true
    },
    "kernelspec": {
      "display_name": "Python 3",
      "language": "python",
      "name": "python3"
    },
    "language_info": {
      "codemirror_mode": {
        "name": "ipython",
        "version": 3
      },
      "file_extension": ".py",
      "mimetype": "text/x-python",
      "name": "python",
      "nbconvert_exporter": "python",
      "pygments_lexer": "ipython3",
      "version": "3.8.8"
    }
  },
  "cells": [
    {
      "cell_type": "markdown",
      "metadata": {
        "id": "view-in-github",
        "colab_type": "text"
      },
      "source": [
        "<a href=\"https://colab.research.google.com/github/Hemant-ML/Pytorch-Master/blob/main/Day_5_Fully_connected_layer.ipynb\" target=\"_parent\"><img src=\"https://colab.research.google.com/assets/colab-badge.svg\" alt=\"Open In Colab\"/></a>"
      ]
    },
    {
      "cell_type": "markdown",
      "metadata": {
        "id": "chubby-bookmark"
      },
      "source": [
        "<h1>Importing libraries</h1>"
      ],
      "id": "chubby-bookmark"
    },
    {
      "cell_type": "code",
      "metadata": {
        "id": "tzsDhLe7iOzM"
      },
      "source": [
        "import torch.nn as nn"
      ],
      "id": "tzsDhLe7iOzM",
      "execution_count": 98,
      "outputs": []
    },
    {
      "cell_type": "code",
      "metadata": {
        "colab": {
          "base_uri": "https://localhost:8080/"
        },
        "id": "9kuXFc9aib9W",
        "outputId": "8ae39be3-9f26-45ce-f356-a2e4347f59d8"
      },
      "source": [
        "x=torch.arange(50,dtype=torch.float32)\n",
        "x=x.view(10,5)\n",
        "x"
      ],
      "id": "9kuXFc9aib9W",
      "execution_count": 108,
      "outputs": [
        {
          "output_type": "execute_result",
          "data": {
            "text/plain": [
              "tensor([[ 0.,  1.,  2.,  3.,  4.],\n",
              "        [ 5.,  6.,  7.,  8.,  9.],\n",
              "        [10., 11., 12., 13., 14.],\n",
              "        [15., 16., 17., 18., 19.],\n",
              "        [20., 21., 22., 23., 24.],\n",
              "        [25., 26., 27., 28., 29.],\n",
              "        [30., 31., 32., 33., 34.],\n",
              "        [35., 36., 37., 38., 39.],\n",
              "        [40., 41., 42., 43., 44.],\n",
              "        [45., 46., 47., 48., 49.]])"
            ]
          },
          "metadata": {
            "tags": []
          },
          "execution_count": 108
        }
      ]
    },
    {
      "cell_type": "code",
      "metadata": {
        "id": "hEUM7aW3iu-O"
      },
      "source": [
        "fc_layer = nn.Linear(in_features=5,out_features=3)"
      ],
      "id": "hEUM7aW3iu-O",
      "execution_count": 103,
      "outputs": []
    },
    {
      "cell_type": "code",
      "metadata": {
        "colab": {
          "base_uri": "https://localhost:8080/"
        },
        "id": "W1B8Z8y2jPTA",
        "outputId": "02cf1d25-6b58-428a-e34f-37f9db1f0f74"
      },
      "source": [
        "fc_layer.weight"
      ],
      "id": "W1B8Z8y2jPTA",
      "execution_count": 104,
      "outputs": [
        {
          "output_type": "execute_result",
          "data": {
            "text/plain": [
              "Parameter containing:\n",
              "tensor([[-0.2033, -0.1724,  0.1215, -0.4006, -0.3183],\n",
              "        [ 0.3333, -0.1253,  0.1546,  0.3287, -0.3895],\n",
              "        [-0.1346,  0.3263,  0.4181,  0.2494,  0.2668]], requires_grad=True)"
            ]
          },
          "metadata": {
            "tags": []
          },
          "execution_count": 104
        }
      ]
    },
    {
      "cell_type": "code",
      "metadata": {
        "colab": {
          "base_uri": "https://localhost:8080/"
        },
        "id": "__VcciOpjSE7",
        "outputId": "f13bd78e-29e4-4305-a2dd-14c0020fedfa"
      },
      "source": [
        "fc_layer.bias"
      ],
      "id": "__VcciOpjSE7",
      "execution_count": 106,
      "outputs": [
        {
          "output_type": "execute_result",
          "data": {
            "text/plain": [
              "Parameter containing:\n",
              "tensor([-0.1554,  0.1602,  0.2155], requires_grad=True)"
            ]
          },
          "metadata": {
            "tags": []
          },
          "execution_count": 106
        }
      ]
    },
    {
      "cell_type": "code",
      "metadata": {
        "colab": {
          "base_uri": "https://localhost:8080/"
        },
        "id": "NlyUBAKRjXal",
        "outputId": "f1a2b1ca-48f1-419d-aff7-e0a6341027b3"
      },
      "source": [
        "A=fc_layer(x)\n",
        "print(A)\n",
        "print(A.size)"
      ],
      "id": "NlyUBAKRjXal",
      "execution_count": 107,
      "outputs": [
        {
          "output_type": "stream",
          "text": [
            "tensor([[ -2.5600,  -0.2276,   3.1931],\n",
            "        [ -7.4260,   1.2817,   8.8227],\n",
            "        [-12.2919,   2.7910,  14.4522],\n",
            "        [-17.1579,   4.3003,  20.0818],\n",
            "        [-22.0238,   5.8096,  25.7113],\n",
            "        [-26.8898,   7.3189,  31.3409],\n",
            "        [-31.7558,   8.8282,  36.9704],\n",
            "        [-36.6217,  10.3375,  42.6000],\n",
            "        [-41.4877,  11.8468,  48.2295],\n",
            "        [-46.3536,  13.3561,  53.8591]], grad_fn=<AddmmBackward>)\n",
            "<built-in method size of Tensor object at 0x7f9fb17df820>\n"
          ],
          "name": "stdout"
        }
      ]
    },
    {
      "cell_type": "code",
      "metadata": {
        "id": "HWiYJqdYj2Cz"
      },
      "source": [
        ""
      ],
      "id": "HWiYJqdYj2Cz",
      "execution_count": null,
      "outputs": []
    }
  ]
}